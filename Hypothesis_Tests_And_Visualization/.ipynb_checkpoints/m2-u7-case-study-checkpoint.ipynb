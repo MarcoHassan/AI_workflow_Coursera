{
 "cells": [
  {
   "cell_type": "markdown",
   "metadata": {
    "ein.tags": "worksheet-0",
    "slideshow": {
     "slide_type": "-"
    }
   },
   "source": [
    "# Case Study - Multiple testing"
   ]
  },
  {
   "cell_type": "code",
   "execution_count": 2,
   "metadata": {
    "autoscroll": false,
    "collapsed": false,
    "ein.hycell": false,
    "ein.tags": "worksheet-0",
    "slideshow": {
     "slide_type": "-"
    }
   },
   "outputs": [
    {
     "data": {
      "text/html": [
       "\n",
       "        <iframe\n",
       "            width=\"600\"\n",
       "            height=\"400\"\n",
       "            src=\"https://player.vimeo.com/video/355136255\"\n",
       "            frameborder=\"0\"\n",
       "            allowfullscreen\n",
       "        ></iframe>\n",
       "        "
      ],
      "text/plain": [
       "<IPython.lib.display.IFrame at 0x7f1a43049b10>"
      ]
     },
     "execution_count": 2,
     "metadata": {},
     "output_type": "execute_result"
    }
   ],
   "source": [
    "from IPython.display import IFrame\n",
    "IFrame('https://player.vimeo.com/video/355136255', width=600,height=400)"
   ]
  },
  {
   "cell_type": "markdown",
   "metadata": {
    "ein.tags": "worksheet-0",
    "slideshow": {
     "slide_type": "-"
    }
   },
   "source": [
    "### Learning objective\n",
    "\n",
    "|:--------------------------------------------------------------------|\n",
    "| Explain methods for dealing with multiple testing                   |"
   ]
  },
  {
   "cell_type": "markdown",
   "metadata": {
    "ein.tags": "worksheet-0",
    "slideshow": {
     "slide_type": "-"
    }
   },
   "source": [
    "## Synopsis\n",
    "\n",
    "The management team at AAVAIL is preparing to deploy a large number of\n",
    "teams each tasked with integration into a different new market.  They\n",
    "claim to have a optimized the teams fairly with respect to skills and\n",
    "experience.  They are asking you to come up with a framework to\n",
    "evaluate the makeup of their teams.  They have not finished hiring and\n",
    "creating all of the teams so naturally before you even get the data\n",
    "you wanted to get a head start.\n",
    "\n",
    "Getting a head start usually involves finding a similar dataset and\n",
    "writing the code in a way that the new data, once obtained can be\n",
    "added with little effort."
   ]
  },
  {
   "cell_type": "markdown",
   "metadata": {
    "ein.tags": "worksheet-0",
    "slideshow": {
     "slide_type": "-"
    }
   },
   "source": [
    "When we perform a large number of statistical tests, some will have\n",
    "$p$-values less than the designated level of $\\alpha$ (e.g. 0.05)\n",
    "purely by chance, even if all the null hypotheses are really true.\n",
    "\n",
    "This is an inherent risk of using inferrential statistics.\n",
    "Fortunately, there are several techniques to mitigate the risk.\n",
    "\n",
    "We are going to look at the 2018 world cup data in this example.\n",
    "\n",
    "The case study is comprised of the following sections:\n",
    "\n",
    "1. Data Cleaning\n",
    "2. Data Visualization\n",
    "3. NHT\n",
    "4. Adjust NHT results for multiple comparisons\n",
    "\n",
    "Data science work that focuses on creating a predictive model is\n",
    "perhaps the hallmark of the field today, but there are still many use\n",
    "cases where [inferential\n",
    "statistics](https://en.wikipedia.org/wiki/Statistical_inference) are\n",
    "the best tool available. One issue with statistical inference is that\n",
    "there are situations where [performing multiple\n",
    "tests](https://en.wikipedia.org/wiki/Multiple_comparisons_problem) is\n",
    "a logical way to accomplish a task, but it comes at the expense of an\n",
    "increased rate of false positives or Type I errors.\n",
    "\n",
    "In this case study you will apply techniques and knowledge from all of the units in Module 2."
   ]
  },
  {
   "cell_type": "markdown",
   "metadata": {
    "ein.tags": "worksheet-0",
    "slideshow": {
     "slide_type": "-"
    }
   },
   "source": [
    "## Getting started\n",
    "\n",
    "**This unit is interactive**.  During this unit we encourage you to\n",
    "  [open this file as a\n",
    "  notebook](https://jupyter-notebook-beginner-guide.readthedocs.io/en/latest).\n",
    "  Download the notebook from the following link then open it locally\n",
    "  using a Jupyter server or use your IBM cloud account to login to\n",
    "  Watson Studio.  Inside of Waston Studio cloud if you have not\n",
    "  already ensure that this notebook is loaded as part of the *project*\n",
    "  for this course. As a reminder fill in all of the places in this\n",
    "  notebook marked with ***YOUR CODE HERE*** or ***YOUR ANSWER HERE***.\n",
    "  The data and notebook for this unit are available below.\n",
    "\n",
    "* [m2-u7-case-study.ipynb](m2-u7-case-study.ipynb)\n",
    "* [worldcup-2018.csv](./data/worldcup-2018.csv)\n",
    "\n",
    "This unit is organized into the following sections:\n",
    "\n",
    "1. Data Processing\n",
    "2. Data Summary\n",
    "3. Investigative Visualization\n",
    "4. Hypothesis testing\n",
    "\n",
    "#### Resources\n",
    "\n",
    "* [Creating or uploading a notebook in IBM cloud](https://dataplatform.cloud.ibm.com/docs/content/wsj/analyze-data/creating-notebooks.html)\n",
    "* [Resources for multiple testing in Python](https://www.statsmodels.org/stable/generated/statsmodels.stats.multitest.multipletests.html)"
   ]
  },
  {
   "cell_type": "code",
   "execution_count": 1,
   "metadata": {
    "autoscroll": false,
    "collapsed": false,
    "ein.hycell": false,
    "ein.tags": "worksheet-0",
    "slideshow": {
     "slide_type": "-"
    }
   },
   "outputs": [],
   "source": [
    "import os\n",
    "import re\n",
    "import numpy as np\n",
    "import pandas as pd\n",
    "import scipy.stats as stats\n",
    "import statsmodels as sm\n",
    "\n",
    "import matplotlib.pyplot as plt\n",
    "plt.style.use('seaborn')\n",
    "\n",
    "%matplotlib inline\n",
    "\n",
    "SMALL_SIZE = 8\n",
    "MEDIUM_SIZE = 10\n",
    "LARGE_SIZE = 12\n",
    "\n",
    "plt.rc('font', size=SMALL_SIZE)          # controls default text sizes\n",
    "plt.rc('axes', titlesize=SMALL_SIZE)     # fontsize of the axes title\n",
    "plt.rc('axes', labelsize=MEDIUM_SIZE)    # fontsize of the x and y labels\n",
    "plt.rc('xtick', labelsize=SMALL_SIZE)    # fontsize of the tick labels\n",
    "plt.rc('ytick', labelsize=SMALL_SIZE)    # fontsize of the tick labels\n",
    "plt.rc('legend', fontsize=SMALL_SIZE)    # legend fontsize\n",
    "plt.rc('figure', titlesize=LARGE_SIZE)   # fontsize of the figure title"
   ]
  },
  {
   "cell_type": "markdown",
   "metadata": {
    "ein.tags": "worksheet-0",
    "slideshow": {
     "slide_type": "-"
    }
   },
   "source": [
    "## Import the Data"
   ]
  },
  {
   "cell_type": "markdown",
   "metadata": {
    "ein.tags": "worksheet-0",
    "slideshow": {
     "slide_type": "-"
    }
   },
   "source": [
    "Before we jump into the data it can be useful to give a little\n",
    "background so that you can better understand the features.  Since the\n",
    "dawn of statistics practitioners have been trying to find advantages\n",
    "when it comes to games.  Much of this was motivated by gambling---here\n",
    "we will look at the results from this tournament in a different way.\n",
    "We are going to ask the simple question\n",
    "\n",
    " >Was the tournament setup in a fair way?\n",
    "\n",
    "Of course the findings from an investigation centering around this\n",
    "question could be used to strategically place bets, but lets assume\n",
    "that we are simply interested in whether or not the tournament\n",
    "organizers did an adequate job.  The reason for doing this is to\n",
    "prepare for the AAVAIL data that is coming.  This exercise is an\n",
    "important reminder that you do not have to wait until the day that\n",
    "data arrive to start your work.\n",
    "\n",
    "There are 32 teams, each representing a single country, that compete\n",
    "in groups or pools then the best teams from those groups compete in a\n",
    "single elimination tournament to see who will become world champions.\n",
    "This is by far the world's most popular sport so one would hope that\n",
    "the governing organization FIFA did a good job composing the pools.\n",
    "If for example there are 8 highly ranked teams then each of those\n",
    "teams should be in a different pool.\n",
    "\n",
    "In our data set we have more than just rank so we can dig in a little\n",
    "deeper than that, but first let's have a look at the data."
   ]
  },
  {
   "cell_type": "code",
   "execution_count": 4,
   "metadata": {
    "autoscroll": false,
    "collapsed": false,
    "ein.hycell": false,
    "ein.tags": "worksheet-0",
    "slideshow": {
     "slide_type": "-"
    }
   },
   "outputs": [
    {
     "data": {
      "text/html": [
       "<div>\n<style scoped>\n    .dataframe tbody tr th:only-of-type {\n        vertical-align: middle;\n    }\n\n    .dataframe tbody tr th {\n        vertical-align: top;\n    }\n\n    .dataframe thead th {\n        text-align: right;\n    }\n</style>\n<table border=\"1\" class=\"dataframe\">\n  <thead>\n    <tr style=\"text-align: right;\">\n      <th></th>\n      <th>team</th>\n      <th>group</th>\n      <th>previous_appearances</th>\n      <th>previous_titles</th>\n      <th>previous_finals</th>\n      <th>previous_semifinals</th>\n      <th>current_fifa_rank</th>\n      <th>first_match_against</th>\n      <th>match_index</th>\n      <th>history_with_first_opponent_w-l</th>\n      <th>history_with_first_opponent_goals</th>\n      <th>second_match_against</th>\n      <th>match_index.1</th>\n      <th>history_with_second_opponent_w-l</th>\n      <th>history_with_second_opponent_goals</th>\n      <th>third_match_against</th>\n      <th>match_index.2</th>\n      <th>history_with_third_opponent_w-l</th>\n      <th>history_with_third_opponent_goals</th>\n      <th>unnamed:_19</th>\n    </tr>\n  </thead>\n  <tbody>\n    <tr>\n      <th>0</th>\n      <td>Russia</td>\n      <td>A</td>\n      <td>10</td>\n      <td>0</td>\n      <td>0</td>\n      <td>1</td>\n      <td>65</td>\n      <td>Saudi Arabia</td>\n      <td>1</td>\n      <td>-1.0</td>\n      <td>-2.0</td>\n      <td>Egypt</td>\n      <td>17</td>\n      <td>NaN</td>\n      <td>NaN</td>\n      <td>Uruguay</td>\n      <td>33</td>\n      <td>0.0</td>\n      <td>0.0</td>\n      <td>NaN</td>\n    </tr>\n    <tr>\n      <th>1</th>\n      <td>Saudi Arabia</td>\n      <td>A</td>\n      <td>4</td>\n      <td>0</td>\n      <td>0</td>\n      <td>0</td>\n      <td>63</td>\n      <td>Russia</td>\n      <td>1</td>\n      <td>1.0</td>\n      <td>2.0</td>\n      <td>Uruguay</td>\n      <td>18</td>\n      <td>1.0</td>\n      <td>1.0</td>\n      <td>Egypt</td>\n      <td>34</td>\n      <td>-5.0</td>\n      <td>-5.0</td>\n      <td>NaN</td>\n    </tr>\n    <tr>\n      <th>2</th>\n      <td>Egypt</td>\n      <td>A</td>\n      <td>2</td>\n      <td>0</td>\n      <td>0</td>\n      <td>0</td>\n      <td>31</td>\n      <td>Uruguay</td>\n      <td>2</td>\n      <td>-1.0</td>\n      <td>-2.0</td>\n      <td>Russia</td>\n      <td>17</td>\n      <td>NaN</td>\n      <td>NaN</td>\n      <td>Saudi Arabia</td>\n      <td>34</td>\n      <td>5.0</td>\n      <td>5.0</td>\n      <td>NaN</td>\n    </tr>\n    <tr>\n      <th>3</th>\n      <td>Uruguay</td>\n      <td>A</td>\n      <td>12</td>\n      <td>2</td>\n      <td>2</td>\n      <td>5</td>\n      <td>21</td>\n      <td>Egypt</td>\n      <td>2</td>\n      <td>1.0</td>\n      <td>2.0</td>\n      <td>Saudi Arabia</td>\n      <td>18</td>\n      <td>-1.0</td>\n      <td>-1.0</td>\n      <td>Russia</td>\n      <td>33</td>\n      <td>0.0</td>\n      <td>0.0</td>\n      <td>NaN</td>\n    </tr>\n    <tr>\n      <th>4</th>\n      <td>Porugal</td>\n      <td>B</td>\n      <td>6</td>\n      <td>0</td>\n      <td>0</td>\n      <td>2</td>\n      <td>3</td>\n      <td>Spain</td>\n      <td>3</td>\n      <td>-12.0</td>\n      <td>-31.0</td>\n      <td>Morocco</td>\n      <td>19</td>\n      <td>-1.0</td>\n      <td>-2.0</td>\n      <td>Iran</td>\n      <td>35</td>\n      <td>2.0</td>\n      <td>5.0</td>\n      <td>NaN</td>\n    </tr>\n  </tbody>\n</table>\n</div>"
      ],
      "text/plain": [
       "           team group  previous_appearances  previous_titles  previous_finals  \\\n0        Russia     A                    10                0                0   \n1  Saudi Arabia     A                     4                0                0   \n2         Egypt     A                     2                0                0   \n3       Uruguay     A                    12                2                2   \n4       Porugal     B                     6                0                0   \n\n   previous_semifinals  current_fifa_rank first_match_against  match_index  \\\n0                    1                 65        Saudi Arabia            1   \n1                    0                 63              Russia            1   \n2                    0                 31             Uruguay            2   \n3                    5                 21               Egypt            2   \n4                    2                  3               Spain            3   \n\n   history_with_first_opponent_w-l  history_with_first_opponent_goals  \\\n0                             -1.0                               -2.0   \n1                              1.0                                2.0   \n2                             -1.0                               -2.0   \n3                              1.0                                2.0   \n4                            -12.0                              -31.0   \n\n  second_match_against  match_index.1  history_with_second_opponent_w-l  \\\n0                Egypt             17                               NaN   \n1              Uruguay             18                               1.0   \n2               Russia             17                               NaN   \n3         Saudi Arabia             18                              -1.0   \n4              Morocco             19                              -1.0   \n\n   history_with_second_opponent_goals third_match_against  match_index.2  \\\n0                                 NaN             Uruguay             33   \n1                                 1.0               Egypt             34   \n2                                 NaN        Saudi Arabia             34   \n3                                -1.0              Russia             33   \n4                                -2.0                Iran             35   \n\n   history_with_third_opponent_w-l  history_with_third_opponent_goals  \\\n0                              0.0                                0.0   \n1                             -5.0                               -5.0   \n2                              5.0                                5.0   \n3                              0.0                                0.0   \n4                              2.0                                5.0   \n\n   unnamed:_19  \n0          NaN  \n1          NaN  \n2          NaN  \n3          NaN  \n4          NaN  "
      ]
     },
     "execution_count": 4,
     "metadata": {},
     "output_type": "execute_result"
    }
   ],
   "source": [
    "df = pd.read_csv(os.path.join(\".\", 'worldcup-2018.csv'))\n",
    "df.columns = [re.sub(\"\\s+\",\"_\",col.lower()) for col in df.columns]\n",
    "df.head()"
   ]
  },
  {
   "cell_type": "markdown",
   "metadata": {
    "ein.tags": "worksheet-0",
    "slideshow": {
     "slide_type": "-"
    }
   },
   "source": [
    "To limit the dataset for educational purposes we create a new data frame that consists of only the following columns: \n",
    "\n",
    "* team\n",
    "* group\n",
    "* previous_appearances\n",
    "* previous_titles\n",
    "* previous_finals\n",
    "* previous_semifinals\n",
    "* current_fifa_rank"
   ]
  },
  {
   "cell_type": "markdown",
   "metadata": {
    "ein.tags": "worksheet-0",
    "slideshow": {
     "slide_type": "-"
    }
   },
   "source": [
    "## Data Processing\n",
    "\n",
    "### QUESTION 1\n",
    "\n",
    "Using the column names below create a new dataframe that uses only them."
   ]
  },
  {
   "cell_type": "code",
   "execution_count": 5,
   "metadata": {
    "autoscroll": false,
    "collapsed": false,
    "ein.hycell": false,
    "ein.tags": "worksheet-0",
    "slideshow": {
     "slide_type": "-"
    }
   },
   "outputs": [
    {
     "data": {
      "text/plain": [
       "Index(['team', 'group', 'previous_appearances', 'previous_titles',\n       'previous_finals', 'previous_semifinals', 'current_fifa_rank'],\n      dtype='object')"
      ]
     },
     "execution_count": 5,
     "metadata": {},
     "output_type": "execute_result"
    }
   ],
   "source": [
    "columns = ['team', 'group','previous_appearances','previous_titles','previous_finals',\n",
    "           'previous_semifinals','current_fifa_rank']\n",
    "\n",
    "df = df[columns]\n",
    "\n",
    "df.columns\n"
   ]
  },
  {
   "cell_type": "code",
   "execution_count": 8,
   "metadata": {
    "autoscroll": false,
    "collapsed": false,
    "ein.hycell": false,
    "ein.tags": "worksheet-0",
    "slideshow": {
     "slide_type": "-"
    }
   },
   "outputs": [
    {
     "name": "stdout",
     "output_type": "stream",
     "text": [
      "Missing Value Summary\n",
      "-----------------------------------\n",
      "team                    0\n",
      "group                   0\n",
      "previous_appearances    0\n",
      "previous_titles         0\n",
      "previous_finals         0\n",
      "previous_semifinals     0\n",
      "current_fifa_rank       0\n",
      "dtype: int64\n"
     ]
    }
   ],
   "source": [
    "# check for null values in the dataframe\n",
    "print(\"Missing Value Summary\\n{}\".format(\"-\"*35))\n",
    "print(df.isnull().sum(axis = 0))"
   ]
  },
  {
   "cell_type": "markdown",
   "metadata": {
    "ein.tags": "worksheet-0",
    "slideshow": {
     "slide_type": "-"
    }
   },
   "source": [
    "To help with this analysis we are going to engineer a feature that\n",
    "combines all of the data in the table.  This feature represents the\n",
    "past performance of a team.  Given the data we have it is the best\n",
    "proxy on hand for how good a team will perfom.  Feel free to change\n",
    "the multiplers, but let's just say that `past_performance` will be a\n",
    "linear combination of the related features we have.\n",
    "\n",
    "Let $X_{1}$,...,$X_{4}$ be\n",
    "`previous_titles`,`previous_finals`,`previous_semifinals`,`previous_appearances`\n",
    "and let the corresponding vector $\\mathbf{\\alpha}$ be the multipliers.\n",
    "This will give us,\n",
    "\n",
    "$$\n",
    "\\textrm{past_performance} = \\alpha_{1} X_{1} + \\alpha_{2} X_{2} + \\alpha_{3} X_{3} + \\alpha_{4} X_{4}\n",
    "$$\n",
    "\n",
    "Modify $\\mathbf{\\alpha}$ if you wish.  Then add to your dataframe the new feature `past_performance`.\n",
    "\n",
    "### QUESTION 2\n",
    "\n",
    "create the engineered feature as a new column"
   ]
  },
  {
   "cell_type": "code",
   "execution_count": 12,
   "metadata": {
    "autoscroll": false,
    "collapsed": false,
    "ein.hycell": false,
    "ein.tags": "worksheet-0",
    "slideshow": {
     "slide_type": "-"
    }
   },
   "outputs": [
    {
     "data": {
      "text/plain": [
       "(32, 7)"
      ]
     },
     "execution_count": 12,
     "metadata": {},
     "output_type": "execute_result"
    }
   ],
   "source": [
    "df.shape"
   ]
  },
  {
   "cell_type": "code",
   "execution_count": 21,
   "metadata": {
    "autoscroll": false,
    "collapsed": false,
    "ein.hycell": false,
    "ein.tags": "worksheet-0",
    "slideshow": {
     "slide_type": "-"
    }
   },
   "outputs": [
    {
     "data": {
      "text/html": [
       "<div>\n<style scoped>\n    .dataframe tbody tr th:only-of-type {\n        vertical-align: middle;\n    }\n\n    .dataframe tbody tr th {\n        vertical-align: top;\n    }\n\n    .dataframe thead th {\n        text-align: right;\n    }\n</style>\n<table border=\"1\" class=\"dataframe\">\n  <thead>\n    <tr style=\"text-align: right;\">\n      <th></th>\n      <th>team</th>\n      <th>group</th>\n      <th>previous_appearances</th>\n      <th>previous_titles</th>\n      <th>previous_finals</th>\n      <th>previous_semifinals</th>\n      <th>current_fifa_rank</th>\n      <th>past_performance</th>\n    </tr>\n  </thead>\n  <tbody>\n    <tr>\n      <th>0</th>\n      <td>Russia</td>\n      <td>A</td>\n      <td>10</td>\n      <td>0</td>\n      <td>0</td>\n      <td>1</td>\n      <td>65</td>\n      <td>14</td>\n    </tr>\n    <tr>\n      <th>1</th>\n      <td>Saudi Arabia</td>\n      <td>A</td>\n      <td>4</td>\n      <td>0</td>\n      <td>0</td>\n      <td>0</td>\n      <td>63</td>\n      <td>4</td>\n    </tr>\n    <tr>\n      <th>2</th>\n      <td>Egypt</td>\n      <td>A</td>\n      <td>2</td>\n      <td>0</td>\n      <td>0</td>\n      <td>0</td>\n      <td>31</td>\n      <td>2</td>\n    </tr>\n    <tr>\n      <th>3</th>\n      <td>Uruguay</td>\n      <td>A</td>\n      <td>12</td>\n      <td>2</td>\n      <td>2</td>\n      <td>5</td>\n      <td>21</td>\n      <td>80</td>\n    </tr>\n    <tr>\n      <th>4</th>\n      <td>Porugal</td>\n      <td>B</td>\n      <td>6</td>\n      <td>0</td>\n      <td>0</td>\n      <td>2</td>\n      <td>3</td>\n      <td>14</td>\n    </tr>\n  </tbody>\n</table>\n</div>"
      ],
      "text/plain": [
       "           team group  previous_appearances  previous_titles  previous_finals  \\\n0        Russia     A                    10                0                0   \n1  Saudi Arabia     A                     4                0                0   \n2         Egypt     A                     2                0                0   \n3       Uruguay     A                    12                2                2   \n4       Porugal     B                     6                0                0   \n\n   previous_semifinals  current_fifa_rank  past_performance  \n0                    1                 65                14  \n1                    0                 63                 4  \n2                    0                 31                 2  \n3                    5                 21                80  \n4                    2                  3                14  "
      ]
     },
     "execution_count": 21,
     "metadata": {},
     "output_type": "execute_result"
    }
   ],
   "source": [
    "alpha = np.array([16,8,4,1])\n",
    "\n",
    "df['past_performance'] = alpha.dot(df[['previous_titles','previous_finals','previous_semifinals','previous_appearances']].transpose())\n",
    "\n",
    "df.head(5)\n"
   ]
  },
  {
   "cell_type": "markdown",
   "metadata": {
    "ein.tags": "worksheet-0",
    "slideshow": {
     "slide_type": "-"
    }
   },
   "source": [
    "## Data Summary"
   ]
  },
  {
   "cell_type": "markdown",
   "metadata": {
    "ein.tags": "worksheet-0",
    "slideshow": {
     "slide_type": "-"
    }
   },
   "source": [
    "### QUESTION 3\n",
    "\n",
    "Using your choice of tools create one or more **tabular summaries** of the data"
   ]
  },
  {
   "cell_type": "code",
   "execution_count": 23,
   "metadata": {
    "autoscroll": false,
    "collapsed": false,
    "ein.hycell": false,
    "ein.tags": "worksheet-0",
    "slideshow": {
     "slide_type": "-"
    }
   },
   "outputs": [
    {
     "data": {
      "text/html": [
       "<div>\n<style scoped>\n    .dataframe tbody tr th:only-of-type {\n        vertical-align: middle;\n    }\n\n    .dataframe tbody tr th {\n        vertical-align: top;\n    }\n\n    .dataframe thead th {\n        text-align: right;\n    }\n</style>\n<table border=\"1\" class=\"dataframe\">\n  <thead>\n    <tr style=\"text-align: right;\">\n      <th></th>\n      <th>previous_appearances</th>\n      <th>previous_titles</th>\n      <th>previous_finals</th>\n      <th>previous_semifinals</th>\n      <th>current_fifa_rank</th>\n      <th>past_performance</th>\n    </tr>\n  </thead>\n  <tbody>\n    <tr>\n      <th>count</th>\n      <td>32.000000</td>\n      <td>32.000000</td>\n      <td>32.000000</td>\n      <td>32.000000</td>\n      <td>32.000000</td>\n      <td>32.000000</td>\n    </tr>\n    <tr>\n      <th>mean</th>\n      <td>7.906250</td>\n      <td>0.500000</td>\n      <td>0.843750</td>\n      <td>1.781250</td>\n      <td>24.781250</td>\n      <td>29.781250</td>\n    </tr>\n    <tr>\n      <th>std</th>\n      <td>5.426098</td>\n      <td>1.191367</td>\n      <td>2.017814</td>\n      <td>3.128788</td>\n      <td>19.536128</td>\n      <td>51.021649</td>\n    </tr>\n    <tr>\n      <th>min</th>\n      <td>0.000000</td>\n      <td>0.000000</td>\n      <td>0.000000</td>\n      <td>0.000000</td>\n      <td>1.000000</td>\n      <td>0.000000</td>\n    </tr>\n    <tr>\n      <th>25%</th>\n      <td>4.000000</td>\n      <td>0.000000</td>\n      <td>0.000000</td>\n      <td>0.000000</td>\n      <td>8.750000</td>\n      <td>4.000000</td>\n    </tr>\n    <tr>\n      <th>50%</th>\n      <td>5.500000</td>\n      <td>0.000000</td>\n      <td>0.000000</td>\n      <td>0.000000</td>\n      <td>19.500000</td>\n      <td>9.000000</td>\n    </tr>\n    <tr>\n      <th>75%</th>\n      <td>12.000000</td>\n      <td>0.000000</td>\n      <td>0.250000</td>\n      <td>2.000000</td>\n      <td>37.500000</td>\n      <td>23.000000</td>\n    </tr>\n    <tr>\n      <th>max</th>\n      <td>20.000000</td>\n      <td>5.000000</td>\n      <td>8.000000</td>\n      <td>13.000000</td>\n      <td>65.000000</td>\n      <td>200.000000</td>\n    </tr>\n  </tbody>\n</table>\n</div>"
      ],
      "text/plain": [
       "       previous_appearances  previous_titles  previous_finals  \\\ncount             32.000000        32.000000        32.000000   \nmean               7.906250         0.500000         0.843750   \nstd                5.426098         1.191367         2.017814   \nmin                0.000000         0.000000         0.000000   \n25%                4.000000         0.000000         0.000000   \n50%                5.500000         0.000000         0.000000   \n75%               12.000000         0.000000         0.250000   \nmax               20.000000         5.000000         8.000000   \n\n       previous_semifinals  current_fifa_rank  past_performance  \ncount            32.000000          32.000000         32.000000  \nmean              1.781250          24.781250         29.781250  \nstd               3.128788          19.536128         51.021649  \nmin               0.000000           1.000000          0.000000  \n25%               0.000000           8.750000          4.000000  \n50%               0.000000          19.500000          9.000000  \n75%               2.000000          37.500000         23.000000  \nmax              13.000000          65.000000        200.000000  "
      ]
     },
     "execution_count": 23,
     "metadata": {},
     "output_type": "execute_result"
    }
   ],
   "source": [
    "df.describe()"
   ]
  },
  {
   "cell_type": "code",
   "execution_count": null,
   "metadata": {
    "autoscroll": false,
    "collapsed": false,
    "ein.hycell": false,
    "ein.tags": "worksheet-0",
    "slideshow": {
     "slide_type": "-"
    }
   },
   "outputs": [],
   "source": []
  },
  {
   "cell_type": "code",
   "execution_count": 28,
   "metadata": {
    "autoscroll": false,
    "collapsed": false,
    "ein.hycell": false,
    "ein.tags": "worksheet-0",
    "slideshow": {
     "slide_type": "-"
    }
   },
   "outputs": [
    {
     "data": {
      "text/plain": [
       "Index(['team', 'group', 'previous_appearances', 'previous_titles',\n       'previous_finals', 'previous_semifinals', 'current_fifa_rank',\n       'past_performance'],\n      dtype='object')"
      ]
     },
     "execution_count": 28,
     "metadata": {},
     "output_type": "execute_result"
    }
   ],
   "source": [
    "df.columns"
   ]
  },
  {
   "cell_type": "code",
   "execution_count": 67,
   "metadata": {
    "autoscroll": false,
    "collapsed": false,
    "ein.hycell": false,
    "ein.tags": "worksheet-0",
    "slideshow": {
     "slide_type": "-"
    }
   },
   "outputs": [
    {
     "ename": "ValueError",
     "evalue": "A wide-form input must have only numeric values.",
     "output_type": "error",
     "traceback": [
      "\u001b[0;31m\u001b[0m",
      "\u001b[0;31mValueError\u001b[0mTraceback (most recent call last)",
      "\u001b[0;32m~/Desktop/python_venv/TreeSchutz/lib/python3.7/site-packages/seaborn/relational.py\u001b[0m in \u001b[0;36mestablish_variables\u001b[0;34m(self, x, y, hue, size, style, units, data)\u001b[0m\n\u001b[1;32m     60\u001b[0m                 \u001b[0;32mtry\u001b[0m\u001b[0;34m:\u001b[0m\u001b[0;34m\u001b[0m\u001b[0;34m\u001b[0m\u001b[0m\n\u001b[0;32m---> 61\u001b[0;31m                     \u001b[0mdata\u001b[0m\u001b[0;34m.\u001b[0m\u001b[0mastype\u001b[0m\u001b[0;34m(\u001b[0m\u001b[0mnp\u001b[0m\u001b[0;34m.\u001b[0m\u001b[0mfloat\u001b[0m\u001b[0;34m)\u001b[0m\u001b[0;34m\u001b[0m\u001b[0;34m\u001b[0m\u001b[0m\n\u001b[0m\u001b[1;32m     62\u001b[0m                 \u001b[0;32mexcept\u001b[0m \u001b[0mValueError\u001b[0m\u001b[0;34m:\u001b[0m\u001b[0;34m\u001b[0m\u001b[0;34m\u001b[0m\u001b[0m\n",
      "\u001b[0;32m~/Desktop/python_venv/TreeSchutz/lib/python3.7/site-packages/pandas/core/generic.py\u001b[0m in \u001b[0;36mastype\u001b[0;34m(self, dtype, copy, errors)\u001b[0m\n\u001b[1;32m   5697\u001b[0m             \u001b[0;31m# else, only a single dtype is given\u001b[0m\u001b[0;34m\u001b[0m\u001b[0;34m\u001b[0m\u001b[0;34m\u001b[0m\u001b[0m\n\u001b[0;32m-> 5698\u001b[0;31m             \u001b[0mnew_data\u001b[0m \u001b[0;34m=\u001b[0m \u001b[0mself\u001b[0m\u001b[0;34m.\u001b[0m\u001b[0m_data\u001b[0m\u001b[0;34m.\u001b[0m\u001b[0mastype\u001b[0m\u001b[0;34m(\u001b[0m\u001b[0mdtype\u001b[0m\u001b[0;34m=\u001b[0m\u001b[0mdtype\u001b[0m\u001b[0;34m,\u001b[0m \u001b[0mcopy\u001b[0m\u001b[0;34m=\u001b[0m\u001b[0mcopy\u001b[0m\u001b[0;34m,\u001b[0m \u001b[0merrors\u001b[0m\u001b[0;34m=\u001b[0m\u001b[0merrors\u001b[0m\u001b[0;34m)\u001b[0m\u001b[0;34m\u001b[0m\u001b[0;34m\u001b[0m\u001b[0m\n\u001b[0m\u001b[1;32m   5699\u001b[0m             \u001b[0;32mreturn\u001b[0m \u001b[0mself\u001b[0m\u001b[0;34m.\u001b[0m\u001b[0m_constructor\u001b[0m\u001b[0;34m(\u001b[0m\u001b[0mnew_data\u001b[0m\u001b[0;34m)\u001b[0m\u001b[0;34m.\u001b[0m\u001b[0m__finalize__\u001b[0m\u001b[0;34m(\u001b[0m\u001b[0mself\u001b[0m\u001b[0;34m)\u001b[0m\u001b[0;34m\u001b[0m\u001b[0;34m\u001b[0m\u001b[0m\n",
      "\u001b[0;32m~/Desktop/python_venv/TreeSchutz/lib/python3.7/site-packages/pandas/core/internals/managers.py\u001b[0m in \u001b[0;36mastype\u001b[0;34m(self, dtype, copy, errors)\u001b[0m\n\u001b[1;32m    581\u001b[0m     \u001b[0;32mdef\u001b[0m \u001b[0mastype\u001b[0m\u001b[0;34m(\u001b[0m\u001b[0mself\u001b[0m\u001b[0;34m,\u001b[0m \u001b[0mdtype\u001b[0m\u001b[0;34m,\u001b[0m \u001b[0mcopy\u001b[0m\u001b[0;34m:\u001b[0m \u001b[0mbool\u001b[0m \u001b[0;34m=\u001b[0m \u001b[0;32mFalse\u001b[0m\u001b[0;34m,\u001b[0m \u001b[0merrors\u001b[0m\u001b[0;34m:\u001b[0m \u001b[0mstr\u001b[0m \u001b[0;34m=\u001b[0m \u001b[0;34m\"raise\"\u001b[0m\u001b[0;34m)\u001b[0m\u001b[0;34m:\u001b[0m\u001b[0;34m\u001b[0m\u001b[0;34m\u001b[0m\u001b[0m\n\u001b[0;32m--> 582\u001b[0;31m         \u001b[0;32mreturn\u001b[0m \u001b[0mself\u001b[0m\u001b[0;34m.\u001b[0m\u001b[0mapply\u001b[0m\u001b[0;34m(\u001b[0m\u001b[0;34m\"astype\"\u001b[0m\u001b[0;34m,\u001b[0m \u001b[0mdtype\u001b[0m\u001b[0;34m=\u001b[0m\u001b[0mdtype\u001b[0m\u001b[0;34m,\u001b[0m \u001b[0mcopy\u001b[0m\u001b[0;34m=\u001b[0m\u001b[0mcopy\u001b[0m\u001b[0;34m,\u001b[0m \u001b[0merrors\u001b[0m\u001b[0;34m=\u001b[0m\u001b[0merrors\u001b[0m\u001b[0;34m)\u001b[0m\u001b[0;34m\u001b[0m\u001b[0;34m\u001b[0m\u001b[0m\n\u001b[0m\u001b[1;32m    583\u001b[0m \u001b[0;34m\u001b[0m\u001b[0m\n",
      "\u001b[0;32m~/Desktop/python_venv/TreeSchutz/lib/python3.7/site-packages/pandas/core/internals/managers.py\u001b[0m in \u001b[0;36mapply\u001b[0;34m(self, f, filter, **kwargs)\u001b[0m\n\u001b[1;32m    441\u001b[0m             \u001b[0;32melse\u001b[0m\u001b[0;34m:\u001b[0m\u001b[0;34m\u001b[0m\u001b[0;34m\u001b[0m\u001b[0m\n\u001b[0;32m--> 442\u001b[0;31m                 \u001b[0mapplied\u001b[0m \u001b[0;34m=\u001b[0m \u001b[0mgetattr\u001b[0m\u001b[0;34m(\u001b[0m\u001b[0mb\u001b[0m\u001b[0;34m,\u001b[0m \u001b[0mf\u001b[0m\u001b[0;34m)\u001b[0m\u001b[0;34m(\u001b[0m\u001b[0;34m**\u001b[0m\u001b[0mkwargs\u001b[0m\u001b[0;34m)\u001b[0m\u001b[0;34m\u001b[0m\u001b[0;34m\u001b[0m\u001b[0m\n\u001b[0m\u001b[1;32m    443\u001b[0m             \u001b[0mresult_blocks\u001b[0m \u001b[0;34m=\u001b[0m \u001b[0m_extend_blocks\u001b[0m\u001b[0;34m(\u001b[0m\u001b[0mapplied\u001b[0m\u001b[0;34m,\u001b[0m \u001b[0mresult_blocks\u001b[0m\u001b[0;34m)\u001b[0m\u001b[0;34m\u001b[0m\u001b[0;34m\u001b[0m\u001b[0m\n",
      "\u001b[0;32m~/Desktop/python_venv/TreeSchutz/lib/python3.7/site-packages/pandas/core/internals/blocks.py\u001b[0m in \u001b[0;36mastype\u001b[0;34m(self, dtype, copy, errors)\u001b[0m\n\u001b[1;32m    624\u001b[0m             \u001b[0;32mtry\u001b[0m\u001b[0;34m:\u001b[0m\u001b[0;34m\u001b[0m\u001b[0;34m\u001b[0m\u001b[0m\n\u001b[0;32m--> 625\u001b[0;31m                 \u001b[0mvalues\u001b[0m \u001b[0;34m=\u001b[0m \u001b[0mastype_nansafe\u001b[0m\u001b[0;34m(\u001b[0m\u001b[0mvals1d\u001b[0m\u001b[0;34m,\u001b[0m \u001b[0mdtype\u001b[0m\u001b[0;34m,\u001b[0m \u001b[0mcopy\u001b[0m\u001b[0;34m=\u001b[0m\u001b[0;32mTrue\u001b[0m\u001b[0;34m)\u001b[0m\u001b[0;34m\u001b[0m\u001b[0;34m\u001b[0m\u001b[0m\n\u001b[0m\u001b[1;32m    626\u001b[0m             \u001b[0;32mexcept\u001b[0m \u001b[0;34m(\u001b[0m\u001b[0mValueError\u001b[0m\u001b[0;34m,\u001b[0m \u001b[0mTypeError\u001b[0m\u001b[0;34m)\u001b[0m\u001b[0;34m:\u001b[0m\u001b[0;34m\u001b[0m\u001b[0;34m\u001b[0m\u001b[0m\n",
      "\u001b[0;32m~/Desktop/python_venv/TreeSchutz/lib/python3.7/site-packages/pandas/core/dtypes/cast.py\u001b[0m in \u001b[0;36mastype_nansafe\u001b[0;34m(arr, dtype, copy, skipna)\u001b[0m\n\u001b[1;32m    896\u001b[0m         \u001b[0;31m# Explicit copy, or required since NumPy can't view from / to object.\u001b[0m\u001b[0;34m\u001b[0m\u001b[0;34m\u001b[0m\u001b[0;34m\u001b[0m\u001b[0m\n\u001b[0;32m--> 897\u001b[0;31m         \u001b[0;32mreturn\u001b[0m \u001b[0marr\u001b[0m\u001b[0;34m.\u001b[0m\u001b[0mastype\u001b[0m\u001b[0;34m(\u001b[0m\u001b[0mdtype\u001b[0m\u001b[0;34m,\u001b[0m \u001b[0mcopy\u001b[0m\u001b[0;34m=\u001b[0m\u001b[0;32mTrue\u001b[0m\u001b[0;34m)\u001b[0m\u001b[0;34m\u001b[0m\u001b[0;34m\u001b[0m\u001b[0m\n\u001b[0m\u001b[1;32m    898\u001b[0m \u001b[0;34m\u001b[0m\u001b[0m\n",
      "\u001b[0;31mValueError\u001b[0m: could not convert string to float: 'A'",
      "\nDuring handling of the above exception, another exception occurred:\n",
      "\u001b[0;31mValueError\u001b[0mTraceback (most recent call last)",
      "\u001b[0;32m<ipython-input-67-894edabc50bc>\u001b[0m in \u001b[0;36m<module>\u001b[0;34m\u001b[0m\n\u001b[1;32m      7\u001b[0m \u001b[0mfor_plot\u001b[0m \u001b[0;34m=\u001b[0m \u001b[0mnum_variables\u001b[0m\u001b[0;34m\u001b[0m\u001b[0;34m\u001b[0m\u001b[0m\n\u001b[1;32m      8\u001b[0m \u001b[0;34m\u001b[0m\u001b[0m\n\u001b[0;32m----> 9\u001b[0;31m \u001b[0msns\u001b[0m\u001b[0;34m.\u001b[0m\u001b[0mscatterplot\u001b[0m\u001b[0;34m(\u001b[0m\u001b[0mdata\u001b[0m \u001b[0;34m=\u001b[0m \u001b[0mdf\u001b[0m\u001b[0;34m[\u001b[0m\u001b[0mfor_plot\u001b[0m\u001b[0;34m]\u001b[0m\u001b[0;34m,\u001b[0m \u001b[0mhue\u001b[0m \u001b[0;34m=\u001b[0m \u001b[0;34m'group'\u001b[0m\u001b[0;34m)\u001b[0m\u001b[0;34m\u001b[0m\u001b[0;34m\u001b[0m\u001b[0m\n\u001b[0m",
      "\u001b[0;32m~/Desktop/python_venv/TreeSchutz/lib/python3.7/site-packages/seaborn/relational.py\u001b[0m in \u001b[0;36mscatterplot\u001b[0;34m(x, y, hue, style, size, data, palette, hue_order, hue_norm, sizes, size_order, size_norm, markers, style_order, x_bins, y_bins, units, estimator, ci, n_boot, alpha, x_jitter, y_jitter, legend, ax, **kwargs)\u001b[0m\n\u001b[1;32m   1400\u001b[0m         \u001b[0mx_bins\u001b[0m\u001b[0;34m=\u001b[0m\u001b[0mx_bins\u001b[0m\u001b[0;34m,\u001b[0m \u001b[0my_bins\u001b[0m\u001b[0;34m=\u001b[0m\u001b[0my_bins\u001b[0m\u001b[0;34m,\u001b[0m\u001b[0;34m\u001b[0m\u001b[0;34m\u001b[0m\u001b[0m\n\u001b[1;32m   1401\u001b[0m         \u001b[0mestimator\u001b[0m\u001b[0;34m=\u001b[0m\u001b[0mestimator\u001b[0m\u001b[0;34m,\u001b[0m \u001b[0mci\u001b[0m\u001b[0;34m=\u001b[0m\u001b[0mci\u001b[0m\u001b[0;34m,\u001b[0m \u001b[0mn_boot\u001b[0m\u001b[0;34m=\u001b[0m\u001b[0mn_boot\u001b[0m\u001b[0;34m,\u001b[0m\u001b[0;34m\u001b[0m\u001b[0;34m\u001b[0m\u001b[0m\n\u001b[0;32m-> 1402\u001b[0;31m         \u001b[0malpha\u001b[0m\u001b[0;34m=\u001b[0m\u001b[0malpha\u001b[0m\u001b[0;34m,\u001b[0m \u001b[0mx_jitter\u001b[0m\u001b[0;34m=\u001b[0m\u001b[0mx_jitter\u001b[0m\u001b[0;34m,\u001b[0m \u001b[0my_jitter\u001b[0m\u001b[0;34m=\u001b[0m\u001b[0my_jitter\u001b[0m\u001b[0;34m,\u001b[0m \u001b[0mlegend\u001b[0m\u001b[0;34m=\u001b[0m\u001b[0mlegend\u001b[0m\u001b[0;34m,\u001b[0m\u001b[0;34m\u001b[0m\u001b[0;34m\u001b[0m\u001b[0m\n\u001b[0m\u001b[1;32m   1403\u001b[0m     )\n\u001b[1;32m   1404\u001b[0m \u001b[0;34m\u001b[0m\u001b[0m\n",
      "\u001b[0;32m~/Desktop/python_venv/TreeSchutz/lib/python3.7/site-packages/seaborn/relational.py\u001b[0m in \u001b[0;36m__init__\u001b[0;34m(self, x, y, hue, size, style, data, palette, hue_order, hue_norm, sizes, size_order, size_norm, dashes, markers, style_order, x_bins, y_bins, units, estimator, ci, n_boot, alpha, x_jitter, y_jitter, legend)\u001b[0m\n\u001b[1;32m    889\u001b[0m \u001b[0;34m\u001b[0m\u001b[0m\n\u001b[1;32m    890\u001b[0m         plot_data = self.establish_variables(\n\u001b[0;32m--> 891\u001b[0;31m             \u001b[0mx\u001b[0m\u001b[0;34m,\u001b[0m \u001b[0my\u001b[0m\u001b[0;34m,\u001b[0m \u001b[0mhue\u001b[0m\u001b[0;34m,\u001b[0m \u001b[0msize\u001b[0m\u001b[0;34m,\u001b[0m \u001b[0mstyle\u001b[0m\u001b[0;34m,\u001b[0m \u001b[0munits\u001b[0m\u001b[0;34m,\u001b[0m \u001b[0mdata\u001b[0m\u001b[0;34m\u001b[0m\u001b[0;34m\u001b[0m\u001b[0m\n\u001b[0m\u001b[1;32m    892\u001b[0m         )\n\u001b[1;32m    893\u001b[0m \u001b[0;34m\u001b[0m\u001b[0m\n",
      "\u001b[0;32m~/Desktop/python_venv/TreeSchutz/lib/python3.7/site-packages/seaborn/relational.py\u001b[0m in \u001b[0;36mestablish_variables\u001b[0;34m(self, x, y, hue, size, style, units, data)\u001b[0m\n\u001b[1;32m     62\u001b[0m                 \u001b[0;32mexcept\u001b[0m \u001b[0mValueError\u001b[0m\u001b[0;34m:\u001b[0m\u001b[0;34m\u001b[0m\u001b[0;34m\u001b[0m\u001b[0m\n\u001b[1;32m     63\u001b[0m                     \u001b[0merr\u001b[0m \u001b[0;34m=\u001b[0m \u001b[0;34m\"A wide-form input must have only numeric values.\"\u001b[0m\u001b[0;34m\u001b[0m\u001b[0;34m\u001b[0m\u001b[0m\n\u001b[0;32m---> 64\u001b[0;31m                     \u001b[0;32mraise\u001b[0m \u001b[0mValueError\u001b[0m\u001b[0;34m(\u001b[0m\u001b[0merr\u001b[0m\u001b[0;34m)\u001b[0m\u001b[0;34m\u001b[0m\u001b[0;34m\u001b[0m\u001b[0m\n\u001b[0m\u001b[1;32m     65\u001b[0m \u001b[0;34m\u001b[0m\u001b[0m\n\u001b[1;32m     66\u001b[0m                 \u001b[0mplot_data\u001b[0m \u001b[0;34m=\u001b[0m \u001b[0mdata\u001b[0m\u001b[0;34m.\u001b[0m\u001b[0mcopy\u001b[0m\u001b[0;34m(\u001b[0m\u001b[0;34m)\u001b[0m\u001b[0;34m\u001b[0m\u001b[0;34m\u001b[0m\u001b[0m\n",
      "\u001b[0;31mValueError\u001b[0m: A wide-form input must have only numeric values."
     ]
    }
   ],
   "source": [
    "import seaborn as sns \n",
    "\n",
    "num_variables = list(df.describe().columns)\n",
    "\n",
    "num_variables.extend(['group'])\n",
    "\n",
    "for_plot = num_variables\n",
    "\n",
    "sns.scatterplot(data = df[for_plot], hue = 'group')\n"
   ]
  },
  {
   "cell_type": "markdown",
   "metadata": {
    "ein.tags": "worksheet-0",
    "slideshow": {
     "slide_type": "-"
    }
   },
   "source": [
    "## Investigative Visualization\n",
    "\n",
    "### QUESTION 5\n",
    "\n",
    "Come up with one or more plots that investigate the central question... Are the groups comprised in a fair way?"
   ]
  },
  {
   "cell_type": "markdown",
   "metadata": {
    "ein.tags": "worksheet-0",
    "slideshow": {
     "slide_type": "-"
    }
   },
   "source": [
    "## Hypothesis Testing\n",
    "\n",
    "There are a number of ways to use hypothesis testing in this\n",
    "situation.  There are certainly reasonable hypotheses tests and other\n",
    "methods like simulation approaches, that we have not discussed, but\n",
    "they would be appropriate here.  If you choose to explore some of the\n",
    "methods that are outside the scope of this course then we encourage\n",
    "you to first try the simple approach proposed here and compare the\n",
    "results to any further additional approaches you choose to use.\n",
    "\n",
    "We could use an ANOVA approach here that would signify a difference\n",
    "between groups, but we would not know which and how many teams were\n",
    "different.  As we stated before there are a number of ways to approach\n",
    "the investigation, but lets use a simple approach.  We are going to\n",
    "setup our investigation to look at all pairwise comparisons to provide\n",
    "as much insight as possible.\n",
    "\n",
    "Recall that there are $\\frac{(N-1)(N)}{2}$ pairwise comparisons."
   ]
  },
  {
   "cell_type": "code",
   "execution_count": 13,
   "metadata": {
    "autoscroll": false,
    "collapsed": false,
    "ein.hycell": false,
    "ein.tags": "worksheet-0",
    "slideshow": {
     "slide_type": "-"
    }
   },
   "outputs": [
    {
     "name": "stdout",
     "output_type": "stream",
     "text": [
      "num comparisons:  28.0\n"
     ]
    }
   ],
   "source": [
    "N = np.unique(df['group'].values).size\n",
    "print(\"num comparisons: \",((N-1)*N) / 2.0)"
   ]
  },
  {
   "cell_type": "markdown",
   "metadata": {
    "ein.tags": "worksheet-0",
    "slideshow": {
     "slide_type": "-"
    }
   },
   "source": [
    "### QUESTION 5\n",
    "\n",
    "\n",
    "1. Choose a hypothesis test\n",
    "2. State the null and alternative hypothesis, and choose a cutoff value $\\alpha$\n",
    "3. Run the test for all pairwise comparisons between teams"
   ]
  },
  {
   "cell_type": "code",
   "execution_count": 85,
   "metadata": {
    "autoscroll": false,
    "collapsed": false,
    "ein.hycell": false,
    "ein.tags": "worksheet-0",
    "slideshow": {
     "slide_type": "-"
    }
   },
   "outputs": [
    {
     "data": {
      "text/plain": [
       "29.78125"
      ]
     },
     "execution_count": 85,
     "metadata": {},
     "output_type": "execute_result"
    }
   ],
   "source": [
    "global_mean = df.past_performance.mean()\n",
    "\n",
    "global_mean"
   ]
  },
  {
   "cell_type": "code",
   "execution_count": 82,
   "metadata": {
    "autoscroll": false,
    "collapsed": false,
    "ein.hycell": false,
    "ein.tags": "worksheet-0",
    "slideshow": {
     "slide_type": "-"
    }
   },
   "outputs": [
    {
     "data": {
      "text/plain": [
       "[(14, 4),\n (4, 2),\n (2, 80),\n (80, 14),\n (14, 46),\n (46, 4),\n (4, 4),\n (4, 66),\n (66, 4),\n (4, 4),\n (4, 4),\n (4, 108),\n (108, 0),\n (0, 8),\n (8, 5),\n (5, 200),\n (200, 10),\n (10, 4),\n (4, 19),\n (19, 198),\n (198, 15),\n (15, 35),\n (35, 13),\n (13, 16),\n (16, 0),\n (0, 4),\n (4, 46),\n (46, 15),\n (15, 1),\n (1, 5),\n (5, 5)]"
      ]
     },
     "execution_count": 82,
     "metadata": {},
     "output_type": "execute_result"
    }
   ],
   "source": [
    "## that the difference of the two means is different than 0\n",
    "\n",
    "## cutoff = 0.05\n",
    "\n",
    "## run test for all of the pairwise comparisons\n",
    "\n",
    "## \n",
    "\n",
    "\n",
    "a = \n",
    "for \n",
    "list(zip(df.past_performance[:-1], df.past_performance[1:]))"
   ]
  },
  {
   "cell_type": "markdown",
   "metadata": {
    "ein.tags": "worksheet-0",
    "slideshow": {
     "slide_type": "-"
    }
   },
   "source": [
    "YOUR ANSWER HERE"
   ]
  },
  {
   "cell_type": "code",
   "execution_count": 69,
   "metadata": {
    "autoscroll": false,
    "collapsed": false,
    "ein.hycell": false,
    "ein.tags": "worksheet-0",
    "slideshow": {
     "slide_type": "-"
    }
   },
   "outputs": [
    {
     "name": "stdout",
     "output_type": "stream",
     "text": [
      "The global mean arrival time is: 5.59\n",
      "Mean arrival time for local is 4.89\n",
      "Mean arrival time for cloud1 is 5.89\n",
      "Mean arrival time for cloud2 is 6.01\n"
     ]
    }
   ],
   "source": [
    "import numpy as np\n",
    "from scipy import stats\n",
    "\n",
    "local_arrivals = np.array([3.99, 4.15, 7.88, 4.53, 5.65, 6.75, 7.13, 3.79, 6.20,\n",
    "                           3.72, 7.28, 5.23, 4.72, 2.04, 4.25, 4.71, 3.16, 3.46,\n",
    "                           3.41, 7.98, 0.75, 3.64, 6.25, 6.86, 4.71])\n",
    "cloud1_arrivals = np.array([5.82, 4.83, 7.19, 6.98, 5.82, 5.25, 5.71, 5.59, 6.93,\n",
    "                            7.09, 6.37, 6.31, 6.28, 3.12, 6.02, 4.84, 4.16, 6.72,\n",
    "                            7.44, 6.28, 6.37, 4.27, 6.15, 4.88, 6.78])\n",
    "cloud2_arrivals = np.array([5.73, 4.95, 6.96, 6.12, 5.85, 6.74, 5.19, 7.24,\n",
    "                            6.08, 6.11, 6.11, 7.68, 4.66, 6.12, 5.04, 4.19, 6.46,\n",
    "                            7.02, 7.28, 6.19, 4.67, 7.15, 4.58, 6.01])\n",
    "\n",
    "all_arrivals = [local_arrivals, cloud1_arrivals, cloud2_arrivals]\n",
    "global_mean = np.hstack(all_arrivals).mean()\n",
    "\n",
    "all_arrivals = [local_arrivals, cloud1_arrivals, cloud2_arrivals]\n",
    "global_mean = np.hstack(all_arrivals).mean()\n",
    "\n",
    "print(\"The global mean arrival time is: %s\"%np.round(global_mean, decimals=2))\n",
    "\n",
    "for name, arrivals in zip(['local', 'cloud1', 'cloud2'], all_arrivals):\n",
    "    print(\"Mean arrival time for {} is {}\".format(name, np.round(arrivals.mean(), decimals=2)))"
   ]
  },
  {
   "cell_type": "code",
   "execution_count": 72,
   "metadata": {
    "autoscroll": false,
    "collapsed": false,
    "ein.hycell": false,
    "ein.tags": "worksheet-0",
    "slideshow": {
     "slide_type": "-"
    }
   },
   "outputs": [
    {
     "data": {
      "text/plain": [
       "[array([3.99, 4.15, 7.88, 4.53, 5.65, 6.75, 7.13, 3.79, 6.2 , 3.72, 7.28,\n        5.23, 4.72, 2.04, 4.25, 4.71, 3.16, 3.46, 3.41, 7.98, 0.75, 3.64,\n        6.25, 6.86, 4.71]),\n array([5.82, 4.83, 7.19, 6.98, 5.82, 5.25, 5.71, 5.59, 6.93, 7.09, 6.37,\n        6.31, 6.28, 3.12, 6.02, 4.84, 4.16, 6.72, 7.44, 6.28, 6.37, 4.27,\n        6.15, 4.88, 6.78]),\n array([5.73, 4.95, 6.96, 6.12, 5.85, 6.74, 5.19, 7.24, 6.08, 6.11, 6.11,\n        7.68, 4.66, 6.12, 5.04, 4.19, 6.46, 7.02, 7.28, 6.19, 4.67, 7.15,\n        4.58, 6.01])]"
      ]
     },
     "execution_count": 72,
     "metadata": {},
     "output_type": "execute_result"
    }
   ],
   "source": []
  },
  {
   "cell_type": "code",
   "execution_count": 74,
   "metadata": {
    "autoscroll": false,
    "collapsed": false,
    "ein.hycell": false,
    "ein.tags": "worksheet-0",
    "slideshow": {
     "slide_type": "-"
    }
   },
   "outputs": [
    {
     "data": {
      "text/plain": [
       "array([3.99, 4.15, 7.88, 4.53, 5.65, 6.75, 7.13, 3.79, 6.2 , 3.72, 7.28,\n       5.23, 4.72, 2.04, 4.25, 4.71, 3.16, 3.46, 3.41, 7.98, 0.75, 3.64,\n       6.25, 6.86, 4.71])"
      ]
     },
     "execution_count": 74,
     "metadata": {},
     "output_type": "execute_result"
    }
   ],
   "source": [
    "all_arrivals[0]"
   ]
  },
  {
   "cell_type": "code",
   "execution_count": 75,
   "metadata": {
    "autoscroll": false,
    "collapsed": false,
    "ein.hycell": false,
    "ein.tags": "worksheet-0",
    "slideshow": {
     "slide_type": "-"
    }
   },
   "outputs": [
    {
     "data": {
      "text/plain": [
       "Ttest_1sampResult(statistic=-1.9215369152397017, pvalue=0.0666166395542411)"
      ]
     },
     "execution_count": 75,
     "metadata": {},
     "output_type": "execute_result"
    }
   ],
   "source": [
    "stats.ttest_1samp(all_arrivals[0], global_mean)"
   ]
  },
  {
   "cell_type": "code",
   "execution_count": 13,
   "metadata": {
    "autoscroll": false,
    "collapsed": false,
    "ein.hycell": false,
    "ein.tags": "worksheet-0",
    "slideshow": {
     "slide_type": "-"
    }
   },
   "outputs": [],
   "source": [
    "### YOUR CODE HERE\n",
    "\n",
    "\n"
   ]
  },
  {
   "cell_type": "markdown",
   "metadata": {
    "ein.tags": "worksheet-0",
    "slideshow": {
     "slide_type": "-"
    }
   },
   "source": [
    "### QUESTION 6\n",
    "\n",
    "For all of the $p$-values obtained apply the Bonferroni and at least one other correction for multiple hypothesis tests.  Then comment on the results."
   ]
  },
  {
   "cell_type": "code",
   "execution_count": 14,
   "metadata": {
    "autoscroll": false,
    "collapsed": false,
    "ein.hycell": false,
    "ein.tags": "worksheet-0",
    "slideshow": {
     "slide_type": "-"
    }
   },
   "outputs": [],
   "source": [
    "### YOUR CODE HERE\n",
    "\n",
    "\n"
   ]
  },
  {
   "cell_type": "markdown",
   "metadata": {
    "ein.tags": "worksheet-0",
    "slideshow": {
     "slide_type": "-"
    }
   },
   "source": [
    "## Additional Approaches \n",
    "\n",
    "There is an [allpairtest function in\n",
    "statsmodels](http://www.statsmodels.org/devel/generated/generated/statsmodels.sandbox.stats.multicomp.MultiComparison.allpairtest.html#statsmodels.sandbox.stats.multicomp.MultiComparison.allpairtest)\n",
    "that could be used here to combine the work from QUESTION 5 and\n",
    "QUESTION 6.\n",
    "\n",
    "Generalized Linear Models (GLMs) are an appropriate tool to use here\n",
    "if we wanted to include the results of the tournament (maybe a ratio\n",
    "of wins/losses weighted by the final position in the tournament).\n",
    "`statsmodels` supports [R-style formulas to fit generalized linear\n",
    "models](https://www.statsmodels.org/stable/examples/notebooks/generated/glm_formula.html). One\n",
    "additional variant of GLMs are hierarchical or multilevel models that\n",
    "provide even more insight into this types of dataset.  See the\n",
    "[tutorial on multilevel\n",
    "modeling](https://docs.pymc.io/notebooks/multilevel_modeling.html)."
   ]
  }
 ],
 "metadata": {
  "kernelspec": {
   "argv": [
    "/Users/marcohassan/Desktop/python_venv/TreeSchutz/bin/python3",
    "-m",
    "ipykernel_launcher",
    "-f",
    "{connection_file}"
   ],
   "display_name": "TreeSchutz",
   "env": null,
   "interrupt_mode": "signal",
   "language": "python",
   "metadata": null,
   "name": "treeschutz"
  },
  "language_info": {
   "codemirror_mode": {
    "name": "ipython",
    "version": 3
   },
   "file_extension": ".py",
   "mimetype": "text/x-python",
   "name": "python",
   "nbconvert_exporter": "python",
   "pygments_lexer": "ipython3",
   "version": "3.7.4"
  },
  "name": "m2-u7-case-study.ipynb"
 },
 "nbformat": 4,
 "nbformat_minor": 4
}
