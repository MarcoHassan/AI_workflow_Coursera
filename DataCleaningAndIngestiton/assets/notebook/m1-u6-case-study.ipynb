{
 "cells": [
  {
   "cell_type": "markdown",
   "metadata": {
    "ein.tags": "worksheet-0",
    "slideshow": {
     "slide_type": "-"
    }
   },
   "source": [
    "![ibm cloud logo](./images/ibm-cloud.png)\n",
    "\n",
    "# Case Study - Data ingestion"
   ]
  },
  {
   "cell_type": "markdown",
   "metadata": {
    "ein.tags": "worksheet-0",
    "slideshow": {
     "slide_type": "-"
    }
   },
   "source": [
    "The goal of this case study is to put into practice the important concepts from module 1.  We will go through the basic process that begins with refining the business opportunity and ensuring that it is articulated using a scientific thought process.\n",
    "\n",
    "The business opportunity and case study was first mentioned in Unit 2 of module 1 and like the AAVIAL company itself these data were created for learning purposes.  We will be using the AAVAIL example as a basis for this case study.  [Watch the video again](https://vimeo.com/348708995) if you need a refresher.  You will be gathering data from several provided sources, staging it for quality assurance and saving it in a target destination that is most appropriate.\n",
    "\n",
    "Watch the video to review the important concepts from the units you just covered and to see an overview of the objectives for this case study."
   ]
  },
  {
   "cell_type": "code",
   "execution_count": 2,
   "metadata": {
    "autoscroll": false,
    "collapsed": false,
    "ein.hycell": false,
    "ein.tags": "worksheet-0",
    "slideshow": {
     "slide_type": "-"
    }
   },
   "outputs": [
    {
     "data": {
      "text/html": [
       "\n        <iframe\n            width=\"600\"\n            height=\"400\"\n            src=\"https://player.vimeo.com/video/354996550\"\n            frameborder=\"0\"\n            allowfullscreen\n        ></iframe>\n        "
      ],
      "text/plain": [
       "<IPython.lib.display.IFrame at 0x10b0c5790>"
      ]
     },
     "execution_count": 2,
     "metadata": {},
     "output_type": "execute_result"
    }
   ],
   "source": [
    "from IPython.display import IFrame\n",
    "IFrame('https://player.vimeo.com/video/354996550', width=600,height=400)"
   ]
  },
  {
   "cell_type": "markdown",
   "metadata": {
    "ein.tags": "worksheet-0",
    "slideshow": {
     "slide_type": "-"
    }
   },
   "source": [
    "## Case study overall objectives\n",
    "\n",
    "1. Gather all relevant data from the sources of provided data\n",
    "2. Implement several checks for quality assurance \n",
    "3. Take the initial steps towards automation of the ingestion pipeline\n",
    "\n",
    "## Getting started\n",
    "\n",
    "Download this notebook and open it locally using a Jupyter\n",
    "server. Alternatively you may use Watson Studio.  To make using Watson\n",
    "Studio easier we have provided a zip archive file containing the files\n",
    "needed to complete this case study in Watson Studio. See the [Getting\n",
    "started with Watson Studio](m1-u5-5-watson-studio.rst) page.\n",
    "\n",
    "**You will need the following files to complete this case study**\n",
    "\n",
    "* [m1-u6-case-study.ipynb](m1-u6-case-study.ipynb)\n",
    "* [m1-u6-case-study-solution.ipynb](./notebooks/m1-u6-case-study-solution.ipynb)\n",
    "* [aavail-customers.db](./data/aavail-customers.db)\n",
    "* [aavail-steams.csv](./data/aavail-streams.csv)\n",
    "\n",
    "1. Fill in all of the places in this notebook marked with ***YOUR CODE HERE*** or ***YOUR ANSWER HERE***\n",
    "\n",
    "2. When you have finished the case study there will be a short quiz\n",
    "\n",
    "You may review the rest of this content as part of the notebook, but\n",
    "once you are ready to get started be ensure that you are working with\n",
    "a *live* version either as part of Watson Studio or locally."
   ]
  },
  {
   "cell_type": "markdown",
   "metadata": {
    "ein.tags": "worksheet-0",
    "slideshow": {
     "slide_type": "-"
    }
   },
   "source": [
    "## Data Sources\n",
    "\n",
    "The data you will be sourcing from is contained in two sources.\n",
    "\n",
    "1. A database ([SQLite](https://www.sqlite.org/index.html)) of `customer` data\n",
    "\n",
    "2. A [CSV file](https://en.wikipedia.org/wiki/Comma-separated_values) of `stream` level data\n",
    "\n",
    "   >You will create a simple data pipeline that\n",
    "   (1) simplifies the data for future analysis\n",
    "\n",
    "   (2) performs quality assurance checks.\n",
    "\n",
    "The process of building *the data ingestion pipeline* entails\n",
    "extracting data, transforming it, and loading it into an appropriate\n",
    "data storage technology.  When constructing a pipeline it is important\n",
    "to keep in mind that they generally process data in batches.  For\n",
    "example, data may be compiled during the day and the batch could be\n",
    "processed during the night.  The data pipeline may also be optimized\n",
    "to execute as a streaming computation (i.e., every event is handled as\n",
    "it occurs)."
   ]
  },
  {
   "cell_type": "markdown",
   "metadata": {
    "ein.tags": "worksheet-0",
    "slideshow": {
     "slide_type": "-"
    }
   },
   "source": [
    "## PART 1: Gathering the data\n",
    "\n",
    "The following is an [Entity Relationship Diagram\n",
    "(ERD)](https://en.wikipedia.org/wiki/Entity%E2%80%93relationship_model)\n",
    "that details the tables and contents of the database.\n",
    "\n",
    "<img src=\"./images/aavail-schema.svg\" alt=\"customer database schema\" style=\"width: 600px;\"/>"
   ]
  },
  {
   "cell_type": "code",
   "execution_count": 3,
   "metadata": {
    "autoscroll": false,
    "collapsed": false,
    "ein.hycell": false,
    "ein.tags": "worksheet-0",
    "slideshow": {
     "slide_type": "-"
    }
   },
   "outputs": [],
   "source": [
    "## all the imports you will need for this case study\n",
    "import os\n",
    "import pandas as pd\n",
    "import numpy as np\n",
    "import sqlite3"
   ]
  },
  {
   "cell_type": "markdown",
   "metadata": {
    "ein.tags": "worksheet-0",
    "slideshow": {
     "slide_type": "-"
    }
   },
   "source": [
    "Much of the data exist in a database.  You can connect to is using the `sqlite3` Python package with the function shown below.  Note that is is good practice to wrap your connect functions in a [try-except statement](https://docs.python.org/3/tutorial/errors.html) to cleanly handle exceptions."
   ]
  },
  {
   "cell_type": "code",
   "execution_count": 4,
   "metadata": {
    "autoscroll": false,
    "collapsed": false,
    "ein.hycell": false,
    "ein.tags": "worksheet-0",
    "slideshow": {
     "slide_type": "-"
    }
   },
   "outputs": [],
   "source": [
    "def connect_db(file_path):\n",
    "    try:\n",
    "        conn = sqlite3.connect(file_path)\n",
    "        print(\"...successfully connected to db\\n\")\n",
    "    except Error as e:\n",
    "        print(\"...unsuccessful connection\\n\",e)\n",
    "    \n",
    "    return(conn)"
   ]
  },
  {
   "cell_type": "code",
   "execution_count": 5,
   "metadata": {
    "autoscroll": false,
    "collapsed": false,
    "ein.hycell": false,
    "ein.tags": "worksheet-0",
    "slideshow": {
     "slide_type": "-"
    }
   },
   "outputs": [
    {
     "name": "stdout",
     "output_type": "stream",
     "text": [
      "...successfully connected to db\n",
      "\n",
      "['CUSTOMER', 'INVOICE', 'INVOICE_ITEM', 'COUNTRY']\n"
     ]
    }
   ],
   "source": [
    "## make the connection to the database\n",
    "conn = connect_db('../data_asset/aavail-customers.db')\n",
    "\n",
    "## print the table names\n",
    "tables = [t[0] for t in conn.execute(\"SELECT name FROM sqlite_master WHERE type='table';\")]\n",
    "print(tables)"
   ]
  },
  {
   "cell_type": "markdown",
   "metadata": {
    "ein.tags": "worksheet-0",
    "slideshow": {
     "slide_type": "-"
    }
   },
   "source": [
    "### QUESTION 1:\n",
    "\n",
    "**extract the relevant data from the DB**\n",
    "\n",
    "Query the database and extract the following data into a [Pandas\n",
    "DataFrame](https://pandas.pydata.org/pandas-docs/stable/reference/api/pandas.DataFrame.html).\n",
    " \n",
    "* Customer ID (integer)\n",
    "* Last name\n",
    "* First name\n",
    "* DOB\n",
    "* City\n",
    "* State\n",
    "* Country (the name NOT the country_id)\n",
    "* Gender\n",
    "\n",
    "Remember that that SQL is case-insensitive, but it is traditional to\n",
    "use ALL CAPS for SQL keywords. It is also a convention to end SQL\n",
    "statements with a semi-colon.\n",
    "\n",
    "#### Resources\n",
    "\n",
    "* [W3 schools SQL tutorial](https://www.w3schools.com/sql)\n",
    "* [W3 schools SQL joins](https://www.w3schools.com/sql/sql_join.asp)"
   ]
  },
  {
   "cell_type": "code",
   "execution_count": 33,
   "metadata": {
    "autoscroll": false,
    "collapsed": false,
    "ein.hycell": false,
    "ein.tags": "worksheet-0",
    "slideshow": {
     "slide_type": "-"
    }
   },
   "outputs": [
    {
     "data": {
      "text/html": [
       "<div>\n<style scoped>\n    .dataframe tbody tr th:only-of-type {\n        vertical-align: middle;\n    }\n\n    .dataframe tbody tr th {\n        vertical-align: top;\n    }\n\n    .dataframe thead th {\n        text-align: right;\n    }\n</style>\n<table border=\"1\" class=\"dataframe\">\n  <thead>\n    <tr style=\"text-align: right;\">\n      <th></th>\n      <th>0</th>\n      <th>1</th>\n      <th>2</th>\n      <th>3</th>\n      <th>4</th>\n      <th>5</th>\n      <th>6</th>\n    </tr>\n  </thead>\n  <tbody>\n    <tr>\n      <th>0</th>\n      <td>07/30/98</td>\n      <td>1</td>\n      <td>Todd</td>\n      <td>Kasen</td>\n      <td>South Carolina</td>\n      <td>m</td>\n      <td>united_states</td>\n    </tr>\n    <tr>\n      <th>1</th>\n      <td>04/12/89</td>\n      <td>2</td>\n      <td>Garza</td>\n      <td>Ensley</td>\n      <td>None</td>\n      <td>f</td>\n      <td>singapore</td>\n    </tr>\n    <tr>\n      <th>2</th>\n      <td>09/12/97</td>\n      <td>3</td>\n      <td>Carey</td>\n      <td>Lillian</td>\n      <td>Alabama</td>\n      <td>f</td>\n      <td>united_states</td>\n    </tr>\n    <tr>\n      <th>3</th>\n      <td>01/28/99</td>\n      <td>4</td>\n      <td>Christensen</td>\n      <td>Beau</td>\n      <td>New York</td>\n      <td>m</td>\n      <td>united_states</td>\n    </tr>\n    <tr>\n      <th>4</th>\n      <td>03/23/98</td>\n      <td>5</td>\n      <td>Gibson</td>\n      <td>Ernesto</td>\n      <td>None</td>\n      <td>m</td>\n      <td>singapore</td>\n    </tr>\n  </tbody>\n</table>\n</div>"
      ],
      "text/plain": [
       "          0  1            2        3               4  5              6\n0  07/30/98  1         Todd    Kasen  South Carolina  m  united_states\n1  04/12/89  2        Garza   Ensley            None  f      singapore\n2  09/12/97  3        Carey  Lillian         Alabama  f  united_states\n3  01/28/99  4  Christensen     Beau        New York  m  united_states\n4  03/23/98  5       Gibson  Ernesto            None  m      singapore"
      ]
     },
     "execution_count": 33,
     "metadata": {},
     "output_type": "execute_result"
    }
   ],
   "source": [
    "# notice that there is no way to direcly see the results of your\n",
    "# query. conn.execute returns a sqllite object. in order to view the\n",
    "# results in python you should store the information of your query in\n",
    "# the standard data formats you use in jupyter notebooks.\n",
    "\n",
    "a = pd.DataFrame(conn.execute(\"SELECT * FROM CUSTOMER;\"))\n",
    "\n",
    "a.head()\n",
    "\n",
    "cust_id = pd.DataFrame(\n",
    "    conn.execute(\n",
    "        \"\"\"\n",
    "        SELECT c.DOB, c.customer_id, c.last_name, \n",
    "               c.first_name, c.state, c.gender, COUNTRY.country_name\n",
    "        FROM CUSTOMER as c\n",
    "        JOIN COUNTRY ON c.country_id = COUNTRY.country_id;\n",
    "        \"\"\"\n",
    "    )\n",
    ")\n",
    "\n",
    "cust_id.head()\n"
   ]
  },
  {
   "cell_type": "code",
   "execution_count": 107,
   "metadata": {
    "autoscroll": false,
    "collapsed": false,
    "ein.hycell": false,
    "ein.tags": "worksheet-0",
    "slideshow": {
     "slide_type": "-"
    }
   },
   "outputs": [],
   "source": [
    "cust_id.columns = [\"dob\", \"cust_id\", \"last_name\", \"first_name\", \"state\", \"gender\", \"country_name\"]"
   ]
  },
  {
   "cell_type": "markdown",
   "metadata": {
    "ein.tags": "worksheet-0",
    "slideshow": {
     "slide_type": "-"
    }
   },
   "source": [
    "### QUESTION 2:\n",
    "\n",
    "**Extract the relevant data from the CSV file**\n",
    "\n",
    "For each ```customer_id``` determine if a customer has stopped their\n",
    "subscription or not and save it in a dictionary or another data\n",
    "container."
   ]
  },
  {
   "cell_type": "code",
   "execution_count": 34,
   "metadata": {
    "autoscroll": false,
    "collapsed": false,
    "ein.hycell": false,
    "ein.tags": "worksheet-0",
    "slideshow": {
     "slide_type": "-"
    }
   },
   "outputs": [
    {
     "data": {
      "text/html": [
       "<div>\n<style scoped>\n    .dataframe tbody tr th:only-of-type {\n        vertical-align: middle;\n    }\n\n    .dataframe tbody tr th {\n        vertical-align: top;\n    }\n\n    .dataframe thead th {\n        text-align: right;\n    }\n</style>\n<table border=\"1\" class=\"dataframe\">\n  <thead>\n    <tr style=\"text-align: right;\">\n      <th></th>\n      <th>customer_id</th>\n      <th>stream_id</th>\n      <th>date</th>\n      <th>invoice_item_id</th>\n      <th>subscription_stopped</th>\n    </tr>\n  </thead>\n  <tbody>\n    <tr>\n      <th>0</th>\n      <td>1</td>\n      <td>1420.0</td>\n      <td>2018-10-21</td>\n      <td>2.0</td>\n      <td>0</td>\n    </tr>\n    <tr>\n      <th>1</th>\n      <td>1</td>\n      <td>1343.0</td>\n      <td>2018-10-23</td>\n      <td>2.0</td>\n      <td>0</td>\n    </tr>\n    <tr>\n      <th>2</th>\n      <td>1</td>\n      <td>1756.0</td>\n      <td>2018-11-05</td>\n      <td>2.0</td>\n      <td>0</td>\n    </tr>\n    <tr>\n      <th>3</th>\n      <td>1</td>\n      <td>1250.0</td>\n      <td>2018-11-06</td>\n      <td>2.0</td>\n      <td>0</td>\n    </tr>\n    <tr>\n      <th>4</th>\n      <td>1</td>\n      <td>1324.0</td>\n      <td>2018-11-12</td>\n      <td>2.0</td>\n      <td>0</td>\n    </tr>\n  </tbody>\n</table>\n</div>"
      ],
      "text/plain": [
       "   customer_id  stream_id        date  invoice_item_id  subscription_stopped\n0            1     1420.0  2018-10-21              2.0                     0\n1            1     1343.0  2018-10-23              2.0                     0\n2            1     1756.0  2018-11-05              2.0                     0\n3            1     1250.0  2018-11-06              2.0                     0\n4            1     1324.0  2018-11-12              2.0                     0"
      ]
     },
     "execution_count": 34,
     "metadata": {},
     "output_type": "execute_result"
    }
   ],
   "source": [
    "df_streams = pd.read_csv(\"../data_asset/aavail-streams.csv\")\n",
    "df_streams.head()"
   ]
  },
  {
   "cell_type": "code",
   "execution_count": 44,
   "metadata": {
    "autoscroll": false,
    "collapsed": false,
    "ein.hycell": false,
    "ein.tags": "worksheet-0",
    "slideshow": {
     "slide_type": "-"
    }
   },
   "outputs": [
    {
     "data": {
      "text/html": [
       "<div>\n<style scoped>\n    .dataframe tbody tr th:only-of-type {\n        vertical-align: middle;\n    }\n\n    .dataframe tbody tr th {\n        vertical-align: top;\n    }\n\n    .dataframe thead th {\n        text-align: right;\n    }\n</style>\n<table border=\"1\" class=\"dataframe\">\n  <thead>\n    <tr style=\"text-align: right;\">\n      <th></th>\n      <th>customer_id</th>\n      <th>stream_id</th>\n      <th>date</th>\n      <th>invoice_item_id</th>\n    </tr>\n  </thead>\n  <tbody>\n    <tr>\n      <th>36</th>\n      <td>2</td>\n      <td>1726.0</td>\n      <td>2019-03-28</td>\n      <td>3.0</td>\n    </tr>\n    <tr>\n      <th>58</th>\n      <td>3</td>\n      <td>1453.0</td>\n      <td>2018-11-15</td>\n      <td>2.0</td>\n    </tr>\n    <tr>\n      <th>139</th>\n      <td>7</td>\n      <td>1469.0</td>\n      <td>2019-08-25</td>\n      <td>1.0</td>\n    </tr>\n    <tr>\n      <th>187</th>\n      <td>9</td>\n      <td>1309.0</td>\n      <td>2019-08-20</td>\n      <td>2.0</td>\n    </tr>\n    <tr>\n      <th>209</th>\n      <td>10</td>\n      <td>1272.0</td>\n      <td>2019-07-05</td>\n      <td>1.0</td>\n    </tr>\n    <tr>\n      <th>...</th>\n      <td>...</td>\n      <td>...</td>\n      <td>...</td>\n      <td>...</td>\n    </tr>\n    <tr>\n      <th>18399</th>\n      <td>975</td>\n      <td>1533.0</td>\n      <td>2019-03-28</td>\n      <td>1.0</td>\n    </tr>\n    <tr>\n      <th>18451</th>\n      <td>978</td>\n      <td>1356.0</td>\n      <td>2019-09-02</td>\n      <td>2.0</td>\n    </tr>\n    <tr>\n      <th>18488</th>\n      <td>980</td>\n      <td>1567.0</td>\n      <td>2019-01-16</td>\n      <td>2.0</td>\n    </tr>\n    <tr>\n      <th>18711</th>\n      <td>992</td>\n      <td>1613.0</td>\n      <td>2019-04-20</td>\n      <td>2.0</td>\n    </tr>\n    <tr>\n      <th>18777</th>\n      <td>996</td>\n      <td>1679.0</td>\n      <td>2019-05-31</td>\n      <td>3.0</td>\n    </tr>\n  </tbody>\n</table>\n<p>289 rows × 4 columns</p>\n</div>"
      ],
      "text/plain": [
       "       customer_id  stream_id        date  invoice_item_id\n36               2     1726.0  2019-03-28              3.0\n58               3     1453.0  2018-11-15              2.0\n139              7     1469.0  2019-08-25              1.0\n187              9     1309.0  2019-08-20              2.0\n209             10     1272.0  2019-07-05              1.0\n...            ...        ...         ...              ...\n18399          975     1533.0  2019-03-28              1.0\n18451          978     1356.0  2019-09-02              2.0\n18488          980     1567.0  2019-01-16              2.0\n18711          992     1613.0  2019-04-20              2.0\n18777          996     1679.0  2019-05-31              3.0\n\n[289 rows x 4 columns]"
      ]
     },
     "execution_count": 44,
     "metadata": {},
     "output_type": "execute_result"
    }
   ],
   "source": [
    "## bool subscription stopped\n",
    "bol = df_streams.subscription_stopped == 1\n",
    "\n",
    "df_streams[bol].iloc[:,:-1]\n"
   ]
  },
  {
   "cell_type": "markdown",
   "metadata": {
    "ein.tags": "worksheet-0",
    "slideshow": {
     "slide_type": "-"
    }
   },
   "source": [
    "## PART 2: Checks for quality assurance\n",
    "\n",
    "Sometimes it is known in advance which types of data integrity issues\n",
    "to expect, but other times it is during the Exploratory Data Analysis\n",
    "(EDA) process that these issues are identified.  After extracting data\n",
    "it is important to include checks for quality assurance even on the\n",
    "first pass through the AI workflow.  Here you will combine the data\n",
    "into a single structure and provide a couple checks for quality\n",
    "assurance.\n",
    "\n",
    "### QUESTION 3: \n",
    "\n",
    "**Implement checks for quality assurance**\n",
    "\n",
    "1. Remove any repeat customers based on ```customer_id```\n",
    "2. Remove stream data that do not have an associated ```stream_id```\n",
    "3. Check for missing values"
   ]
  },
  {
   "cell_type": "code",
   "execution_count": 105,
   "metadata": {
    "autoscroll": false,
    "collapsed": false,
    "ein.hycell": false,
    "ein.tags": "worksheet-0",
    "slideshow": {
     "slide_type": "-"
    }
   },
   "outputs": [
    {
     "name": "stdout",
     "output_type": "stream",
     "text": [
      "(18859, 5)\n",
      "(18859, 5)\n"
     ]
    },
    {
     "data": {
      "text/plain": [
       "False"
      ]
     },
     "execution_count": 105,
     "metadata": {},
     "output_type": "execute_result"
    }
   ],
   "source": [
    "# 1. Remove any repeat customers based on ```customer_id```\n",
    "print(df_streams.shape)\n",
    "\n",
    "pd.DataFrame.drop_duplicates(df_streams)\n",
    "\n",
    "print(df_streams.shape)\n",
    "\n",
    "# there are no general duplicates.\n",
    "# if the task was to keep just unique customer_id\n",
    "\n",
    "uniq = df_streams[\"customer_id\"].unique()\n",
    "\n",
    "# 2. Remove stream data that do not have an associated ```stream_id```\n",
    "\n",
    "## check if there are null values\n",
    "# df_streams[['stream_id']].isnull().values.any()\n",
    "\n",
    "## get the null values\n",
    "# df_streams[np.array(df_streams[['stream_id']].isnull())]\n",
    "\n",
    "## remove the null values\n",
    "bol = df_streams.subscription_stopped == 1\n",
    "df_streams = df_streams[bol].iloc[:,:-1]\n",
    "corrected = df_streams[np.array(df_streams[['stream_id']].notnull())]\n",
    "\n",
    "# 3. Check for missing values\n",
    "corrected.isnull().values.any()\n",
    "\n",
    "## no more missing values\n",
    "\n"
   ]
  },
  {
   "cell_type": "code",
   "execution_count": 106,
   "metadata": {
    "autoscroll": false,
    "collapsed": false,
    "ein.hycell": false,
    "ein.tags": "worksheet-0",
    "slideshow": {
     "slide_type": "-"
    }
   },
   "outputs": [
    {
     "data": {
      "text/html": [
       "<div>\n<style scoped>\n    .dataframe tbody tr th:only-of-type {\n        vertical-align: middle;\n    }\n\n    .dataframe tbody tr th {\n        vertical-align: top;\n    }\n\n    .dataframe thead th {\n        text-align: right;\n    }\n</style>\n<table border=\"1\" class=\"dataframe\">\n  <thead>\n    <tr style=\"text-align: right;\">\n      <th></th>\n      <th>customer_id</th>\n      <th>stream_id</th>\n      <th>date</th>\n      <th>invoice_item_id</th>\n    </tr>\n  </thead>\n  <tbody>\n    <tr>\n      <th>36</th>\n      <td>2</td>\n      <td>1726.0</td>\n      <td>2019-03-28</td>\n      <td>3.0</td>\n    </tr>\n    <tr>\n      <th>58</th>\n      <td>3</td>\n      <td>1453.0</td>\n      <td>2018-11-15</td>\n      <td>2.0</td>\n    </tr>\n    <tr>\n      <th>139</th>\n      <td>7</td>\n      <td>1469.0</td>\n      <td>2019-08-25</td>\n      <td>1.0</td>\n    </tr>\n    <tr>\n      <th>187</th>\n      <td>9</td>\n      <td>1309.0</td>\n      <td>2019-08-20</td>\n      <td>2.0</td>\n    </tr>\n    <tr>\n      <th>209</th>\n      <td>10</td>\n      <td>1272.0</td>\n      <td>2019-07-05</td>\n      <td>1.0</td>\n    </tr>\n    <tr>\n      <th>...</th>\n      <td>...</td>\n      <td>...</td>\n      <td>...</td>\n      <td>...</td>\n    </tr>\n    <tr>\n      <th>18399</th>\n      <td>975</td>\n      <td>1533.0</td>\n      <td>2019-03-28</td>\n      <td>1.0</td>\n    </tr>\n    <tr>\n      <th>18451</th>\n      <td>978</td>\n      <td>1356.0</td>\n      <td>2019-09-02</td>\n      <td>2.0</td>\n    </tr>\n    <tr>\n      <th>18488</th>\n      <td>980</td>\n      <td>1567.0</td>\n      <td>2019-01-16</td>\n      <td>2.0</td>\n    </tr>\n    <tr>\n      <th>18711</th>\n      <td>992</td>\n      <td>1613.0</td>\n      <td>2019-04-20</td>\n      <td>2.0</td>\n    </tr>\n    <tr>\n      <th>18777</th>\n      <td>996</td>\n      <td>1679.0</td>\n      <td>2019-05-31</td>\n      <td>3.0</td>\n    </tr>\n  </tbody>\n</table>\n<p>276 rows × 4 columns</p>\n</div>"
      ],
      "text/plain": [
       "       customer_id  stream_id        date  invoice_item_id\n36               2     1726.0  2019-03-28              3.0\n58               3     1453.0  2018-11-15              2.0\n139              7     1469.0  2019-08-25              1.0\n187              9     1309.0  2019-08-20              2.0\n209             10     1272.0  2019-07-05              1.0\n...            ...        ...         ...              ...\n18399          975     1533.0  2019-03-28              1.0\n18451          978     1356.0  2019-09-02              2.0\n18488          980     1567.0  2019-01-16              2.0\n18711          992     1613.0  2019-04-20              2.0\n18777          996     1679.0  2019-05-31              3.0\n\n[276 rows x 4 columns]"
      ]
     },
     "execution_count": 106,
     "metadata": {},
     "output_type": "execute_result"
    }
   ],
   "source": [
    "corrected"
   ]
  },
  {
   "cell_type": "markdown",
   "metadata": {
    "ein.tags": "worksheet-0",
    "slideshow": {
     "slide_type": "-"
    }
   },
   "source": [
    "### QUESTION 4: \n",
    "\n",
    "**combine the data into a single data structure**\n",
    "\n",
    "For this example, the two most convenient structures for this task are\n",
    "Pandas dataframes and NumPy arrays.  At a minimum ensure that your\n",
    "structure accommodates the following.\n",
    "\n",
    "1. A column for `customer_id`\n",
    "2. A column for `country`\n",
    "3. A column for ```age``` that is created from ```DOB```\n",
    "4. A column ```customer_name``` that is created from ```first_name``` and ```last_name```\n",
    "5. A column to indicate churn called ```is_subscriber```\n",
    "7. A column that indicates ```subscriber_type``` that comes from ```invoice_item```\n",
    "6. A column to indicate the total ```num_streams```\n",
    "\n",
    "#### Resources\n",
    "\n",
    "* [Python's datetime library](https://docs.python.org/3/library/datetime.html)\n",
    "* [NumPy's datetime data type](https://docs.scipy.org/doc/numpy/reference/arrays.datetime.html)\n"
   ]
  },
  {
   "cell_type": "code",
   "execution_count": 119,
   "metadata": {
    "autoscroll": false,
    "collapsed": false,
    "ein.hycell": false,
    "ein.tags": "worksheet-0",
    "slideshow": {
     "slide_type": "-"
    }
   },
   "outputs": [
    {
     "data": {
      "text/plain": [
       "22"
      ]
     },
     "execution_count": 119,
     "metadata": {},
     "output_type": "execute_result"
    }
   ],
   "source": [
    "from datetime import datetime\n",
    "\n",
    "datetime_object = datetime.strptime(cust_id.dob[0], '%m/%d/%y')\n",
    "\n",
    "datetime_now = datetime.today()\n",
    "\n",
    "datetime_now.year - datetime_object.year\n"
   ]
  },
  {
   "cell_type": "code",
   "execution_count": 121,
   "metadata": {
    "autoscroll": false,
    "collapsed": false,
    "ein.hycell": false,
    "ein.tags": "worksheet-0",
    "slideshow": {
     "slide_type": "-"
    }
   },
   "outputs": [],
   "source": [
    "def age(x):\n",
    "    datetime_object = datetime.strptime(x, '%m/%d/%y')\n",
    "\n",
    "    datetime_now = datetime.today()\n",
    "\n",
    "    return datetime_now.year - datetime_object.year\n",
    "    "
   ]
  },
  {
   "cell_type": "code",
   "execution_count": 130,
   "metadata": {
    "autoscroll": false,
    "collapsed": false,
    "ein.hycell": false,
    "ein.tags": "worksheet-0",
    "slideshow": {
     "slide_type": "-"
    }
   },
   "outputs": [
    {
     "name": "stdout",
     "output_type": "stream",
     "text": [
      "0       22\n",
      "1       31\n",
      "2       23\n",
      "3       21\n",
      "4       22\n",
      "        ..\n",
      "1002    39\n",
      "1003    20\n",
      "1004    38\n",
      "1005    22\n",
      "1006    50\n",
      "Name: dob, Length: 1007, dtype: int64\n"
     ]
    },
    {
     "data": {
      "text/html": [
       "<div>\n<style scoped>\n    .dataframe tbody tr th:only-of-type {\n        vertical-align: middle;\n    }\n\n    .dataframe tbody tr th {\n        vertical-align: top;\n    }\n\n    .dataframe thead th {\n        text-align: right;\n    }\n</style>\n<table border=\"1\" class=\"dataframe\">\n  <thead>\n    <tr style=\"text-align: right;\">\n      <th></th>\n      <th>dob</th>\n      <th>cust_id</th>\n      <th>last_name</th>\n      <th>first_name</th>\n      <th>state</th>\n      <th>gender</th>\n      <th>country_name</th>\n      <th>age</th>\n    </tr>\n  </thead>\n  <tbody>\n    <tr>\n      <th>0</th>\n      <td>07/30/98</td>\n      <td>1</td>\n      <td>Todd</td>\n      <td>Kasen</td>\n      <td>South Carolina</td>\n      <td>m</td>\n      <td>united_states</td>\n      <td>22</td>\n    </tr>\n    <tr>\n      <th>1</th>\n      <td>04/12/89</td>\n      <td>2</td>\n      <td>Garza</td>\n      <td>Ensley</td>\n      <td>None</td>\n      <td>f</td>\n      <td>singapore</td>\n      <td>31</td>\n    </tr>\n    <tr>\n      <th>2</th>\n      <td>09/12/97</td>\n      <td>3</td>\n      <td>Carey</td>\n      <td>Lillian</td>\n      <td>Alabama</td>\n      <td>f</td>\n      <td>united_states</td>\n      <td>23</td>\n    </tr>\n    <tr>\n      <th>3</th>\n      <td>01/28/99</td>\n      <td>4</td>\n      <td>Christensen</td>\n      <td>Beau</td>\n      <td>New York</td>\n      <td>m</td>\n      <td>united_states</td>\n      <td>21</td>\n    </tr>\n    <tr>\n      <th>4</th>\n      <td>03/23/98</td>\n      <td>5</td>\n      <td>Gibson</td>\n      <td>Ernesto</td>\n      <td>None</td>\n      <td>m</td>\n      <td>singapore</td>\n      <td>22</td>\n    </tr>\n  </tbody>\n</table>\n</div>"
      ],
      "text/plain": [
       "        dob  cust_id    last_name first_name           state gender  \\\n0  07/30/98        1         Todd      Kasen  South Carolina      m   \n1  04/12/89        2        Garza     Ensley            None      f   \n2  09/12/97        3        Carey    Lillian         Alabama      f   \n3  01/28/99        4  Christensen       Beau        New York      m   \n4  03/23/98        5       Gibson    Ernesto            None      m   \n\n    country_name  age  \n0  united_states   22  \n1      singapore   31  \n2  united_states   23  \n3  united_states   21  \n4      singapore   22  "
      ]
     },
     "execution_count": 130,
     "metadata": {},
     "output_type": "execute_result"
    }
   ],
   "source": [
    "# map function\n",
    "print(cust_id['dob'].apply (lambda row: age(row)))\n",
    "\n",
    "cust_id['age'] = cust_id['dob'].apply (lambda row: age(row))\n",
    "\n",
    "cust_id.head()\n"
   ]
  },
  {
   "cell_type": "code",
   "execution_count": 138,
   "metadata": {
    "autoscroll": false,
    "collapsed": false,
    "ein.hycell": false,
    "ein.tags": "worksheet-0",
    "slideshow": {
     "slide_type": "-"
    }
   },
   "outputs": [
    {
     "data": {
      "text/html": [
       "<div>\n<style scoped>\n    .dataframe tbody tr th:only-of-type {\n        vertical-align: middle;\n    }\n\n    .dataframe tbody tr th {\n        vertical-align: top;\n    }\n\n    .dataframe thead th {\n        text-align: right;\n    }\n</style>\n<table border=\"1\" class=\"dataframe\">\n  <thead>\n    <tr style=\"text-align: right;\">\n      <th></th>\n      <th>dob</th>\n      <th>cust_id</th>\n      <th>last_name</th>\n      <th>first_name</th>\n      <th>state</th>\n      <th>gender</th>\n      <th>country_name</th>\n      <th>age</th>\n      <th>name</th>\n    </tr>\n  </thead>\n  <tbody>\n    <tr>\n      <th>0</th>\n      <td>07/30/98</td>\n      <td>1</td>\n      <td>Todd</td>\n      <td>Kasen</td>\n      <td>South Carolina</td>\n      <td>m</td>\n      <td>united_states</td>\n      <td>22</td>\n      <td>Kasen Todd</td>\n    </tr>\n    <tr>\n      <th>1</th>\n      <td>04/12/89</td>\n      <td>2</td>\n      <td>Garza</td>\n      <td>Ensley</td>\n      <td>None</td>\n      <td>f</td>\n      <td>singapore</td>\n      <td>31</td>\n      <td>Ensley Garza</td>\n    </tr>\n    <tr>\n      <th>2</th>\n      <td>09/12/97</td>\n      <td>3</td>\n      <td>Carey</td>\n      <td>Lillian</td>\n      <td>Alabama</td>\n      <td>f</td>\n      <td>united_states</td>\n      <td>23</td>\n      <td>Lillian Carey</td>\n    </tr>\n    <tr>\n      <th>3</th>\n      <td>01/28/99</td>\n      <td>4</td>\n      <td>Christensen</td>\n      <td>Beau</td>\n      <td>New York</td>\n      <td>m</td>\n      <td>united_states</td>\n      <td>21</td>\n      <td>Beau Christensen</td>\n    </tr>\n    <tr>\n      <th>4</th>\n      <td>03/23/98</td>\n      <td>5</td>\n      <td>Gibson</td>\n      <td>Ernesto</td>\n      <td>None</td>\n      <td>m</td>\n      <td>singapore</td>\n      <td>22</td>\n      <td>Ernesto Gibson</td>\n    </tr>\n  </tbody>\n</table>\n</div>"
      ],
      "text/plain": [
       "        dob  cust_id    last_name first_name           state gender  \\\n0  07/30/98        1         Todd      Kasen  South Carolina      m   \n1  04/12/89        2        Garza     Ensley            None      f   \n2  09/12/97        3        Carey    Lillian         Alabama      f   \n3  01/28/99        4  Christensen       Beau        New York      m   \n4  03/23/98        5       Gibson    Ernesto            None      m   \n\n    country_name  age              name  \n0  united_states   22        Kasen Todd  \n1      singapore   31      Ensley Garza  \n2  united_states   23     Lillian Carey  \n3  united_states   21  Beau Christensen  \n4      singapore   22    Ernesto Gibson  "
      ]
     },
     "execution_count": 138,
     "metadata": {},
     "output_type": "execute_result"
    }
   ],
   "source": [
    "cust_id['name'] = cust_id.first_name + \" \" + cust_id.last_name\n",
    "\n",
    "cust_id.head()"
   ]
  },
  {
   "cell_type": "code",
   "execution_count": 136,
   "metadata": {
    "autoscroll": false,
    "collapsed": false,
    "ein.hycell": false,
    "ein.tags": "worksheet-0",
    "slideshow": {
     "slide_type": "-"
    }
   },
   "outputs": [
    {
     "name": "stdout",
     "output_type": "stream",
     "text": [
      "Index(['dob', 'cust_id', 'last_name', 'first_name', 'state', 'gender',\n",
      "       'country_name', 'age', 'name'],\n",
      "      dtype='object')\n",
      "Index(['customer_id', 'stream_id', 'date', 'invoice_item_id'], dtype='object')\n"
     ]
    }
   ],
   "source": [
    "## YOUR CODE HERE\n",
    "print(cust_id.columns)\n",
    "print(corrected.columns)\n",
    "\n",
    "\n",
    "\n"
   ]
  },
  {
   "cell_type": "markdown",
   "metadata": {
    "ein.tags": "worksheet-0",
    "slideshow": {
     "slide_type": "-"
    }
   },
   "source": [
    "## PART 3: Automating the process\n",
    "\n",
    "To ensure that you code can be used to automate this process.  First\n",
    "you will save you dataframe or numpy array as a CSV file.\n",
    "\n",
    "### QUESTION 5:\n",
    "\n",
    "**Take the initial steps towards automation**\n",
    "\n",
    "1. Save your cleaned, combined data as a CSV file.\n",
    "\n",
    "2. From the code above create a function or class that performs all of the steps given a database file and a streams CSV file.\n",
    "\n",
    "3. Run the function in batches and write a check to ensure you got the same result that you did in the code above.\n",
    "\n",
    "There will be some logic involved to ensure that you do not write the same data twice to the target CSV file.\n",
    "\n",
    "Shown below is some code that will split your streams file into two batches. "
   ]
  },
  {
   "cell_type": "code",
   "execution_count": 19,
   "metadata": {
    "autoscroll": false,
    "collapsed": false,
    "ein.hycell": false,
    "ein.tags": "worksheet-0",
    "slideshow": {
     "slide_type": "-"
    }
   },
   "outputs": [],
   "source": [
    "body = client_bfb337e9d3b24554ad9a816fe610a744.get_object(Bucket='aienterpriseworkflowmodule1casest-donotdelete-pr-qwt6qhnjsctfni',Key='aavail-streams.csv')['Body']\n",
    "# add missing __iter__ method, so pandas accepts body as file-like object\n",
    "if not hasattr(body, \"__iter__\"): body.__iter__ = types.MethodType( __iter__, body )\n",
    "\n",
    "## code to split the streams csv into batches\n",
    "\n",
    "df_all = pd.read_csv(body)\n",
    "half = int(round(df_all.shape[0] * 0.5))\n",
    "df_part1 = df_all[:half]\n",
    "df_part2 = df_all[half:]\n",
    "df_part1.to_csv = (os.path.join(\".\",\"aavail-streams-1.csv\"))\n",
    "df_part2.to_csv = (os.path.join(\".\",\"aavail-streams-2.csv\"))"
   ]
  },
  {
   "cell_type": "markdown",
   "metadata": {
    "ein.tags": "worksheet-0",
    "slideshow": {
     "slide_type": "-"
    }
   },
   "source": [
    "You will need to save your function as a file.  The following cell\n",
    "demonstrates how to do this from within a notebook."
   ]
  },
  {
   "cell_type": "code",
   "execution_count": 20,
   "metadata": {
    "autoscroll": false,
    "collapsed": false,
    "ein.hycell": false,
    "ein.tags": "worksheet-0",
    "slideshow": {
     "slide_type": "-"
    }
   },
   "outputs": [
    {
     "name": "stdout",
     "output_type": "stream",
     "text": [
      "Writing aavail-data-ingestor.py\n"
     ]
    }
   ],
   "source": [
    "%%writefile aavail-data-ingestor.py\n",
    "#!/usr/bin/env python\n",
    "\n",
    "import os\n",
    "import pandas as pd\n",
    "import numpy as np\n",
    "import sqlite3\n",
    "\n",
    "data_dir = os.path.join(\".\",\"data\")\n",
    "\n",
    "pass"
   ]
  },
  {
   "cell_type": "markdown",
   "metadata": {
    "ein.tags": "worksheet-0",
    "slideshow": {
     "slide_type": "-"
    }
   },
   "source": [
    "You will also need to be able to pass the file names to your function\n",
    "without hardcoding them into the script itself.  This is an important\n",
    "step towards automation.  Here are the two libraries commonly used to\n",
    "accomplish this in Python.\n",
    "\n",
    "* [getopt](https://docs.python.org/3/library/getopt.html)\n",
    "* [argparse](https://docs.python.org/3/library/argparse.html)"
   ]
  },
  {
   "cell_type": "markdown",
   "metadata": {
    "ein.tags": "worksheet-0",
    "slideshow": {
     "slide_type": "-"
    }
   },
   "source": [
    "You may run the script you just created from the commandline directly or from within this notebook using:"
   ]
  },
  {
   "cell_type": "code",
   "execution_count": null,
   "metadata": {
    "autoscroll": false,
    "collapsed": false,
    "ein.hycell": false,
    "ein.tags": "worksheet-0",
    "slideshow": {
     "slide_type": "-"
    }
   },
   "outputs": [],
   "source": [
    "!python aavail-data-ingestor.py aavail-customers.db aavail-streams-1.csv"
   ]
  },
  {
   "cell_type": "markdown",
   "metadata": {
    "ein.tags": "worksheet-0",
    "slideshow": {
     "slide_type": "-"
    }
   },
   "source": [
    "Run the script once for each batch that you created and then load both\n",
    "the original and batch versions back into the notebook to check that\n",
    "they are the same."
   ]
  },
  {
   "cell_type": "code",
   "execution_count": 13,
   "metadata": {
    "autoscroll": false,
    "collapsed": false,
    "ein.hycell": false,
    "ein.tags": "worksheet-0",
    "slideshow": {
     "slide_type": "-"
    }
   },
   "outputs": [],
   "source": [
    "## YOUR CODE HERE\n",
    "\n",
    "\n"
   ]
  },
  {
   "cell_type": "markdown",
   "metadata": {
    "ein.tags": "worksheet-0",
    "slideshow": {
     "slide_type": "-"
    }
   },
   "source": [
    "### QUESTION 6:\n",
    "\n",
    "**How can you improve the process?**\n",
    "\n",
    "In paragraph form or using bullets write down some of the ways that you could improve this pipeline."
   ]
  },
  {
   "cell_type": "markdown",
   "metadata": {
    "ein.tags": "worksheet-0",
    "slideshow": {
     "slide_type": "-"
    }
   },
   "source": [
    "- stream the data. don't work in batches\n",
    "\n",
    "- add some unit tests for checking that the new data are conform\n",
    "\n",
    "- add some logging for dealing with the return cases.\n",
    "\n"
   ]
  },
  {
   "cell_type": "code",
   "execution_count": 148,
   "metadata": {
    "autoscroll": false,
    "collapsed": false,
    "ein.hycell": false,
    "ein.tags": "worksheet-0",
    "slideshow": {
     "slide_type": "-"
    }
   },
   "outputs": [
    {
     "name": "stdout",
     "output_type": "stream",
     "text": [
      "\n",
      "Cleaning Summary\n",
      "-----------------------------------\n",
      "   a  b\n",
      "0  1  2\n",
      "1  1  2\n",
      "2  3  3\n",
      "0    False\n",
      "1     True\n",
      "2    False\n",
      "dtype: bool\n"
     ]
    }
   ],
   "source": [
    "print(\"\\nCleaning Summary\\n{}\".format(\"-\"*35))\n",
    "romeo = pd.DataFrame({'a': [1,1,3], 'b' : [2,2,3]})\n",
    "\n",
    "print(romeo)\n",
    "print(romeo.duplicated())"
   ]
  }
 ],
 "metadata": {
  "kernelspec": {
   "argv": [
    "/usr/local/opt/python/bin/python3.7",
    "-m",
    "ipykernel_launcher",
    "-f",
    "{connection_file}"
   ],
   "display_name": "Python 3",
   "env": null,
   "interrupt_mode": "signal",
   "language": "python",
   "metadata": null,
   "name": "python3"
  },
  "language_info": {
   "codemirror_mode": {
    "name": "ipython",
    "version": 3
   },
   "file_extension": ".py",
   "mimetype": "text/x-python",
   "name": "python",
   "nbconvert_exporter": "python",
   "pygments_lexer": "ipython3",
   "version": "3.6.8"
  },
  "name": "m1-u6-case-study.ipynb"
 },
 "nbformat": 4,
 "nbformat_minor": 4
}
