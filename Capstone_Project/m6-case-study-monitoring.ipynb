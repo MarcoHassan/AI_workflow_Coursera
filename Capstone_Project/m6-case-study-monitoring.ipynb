{
 "cells": [
  {
   "cell_type": "markdown",
   "metadata": {
    "ein.tags": "worksheet-0",
    "slideshow": {
     "slide_type": "-"
    }
   },
   "source": [
    "# CASE STUDY - performance monitoring\n",
    "\n",
    "You will be building your own workflow template in this tutorial.  You\n",
    "already have a Dockerfile and a basic Flask application to build an\n",
    "API.  Lets combine what you have learned about logging to build a\n",
    "``workflow-template`` that can be used to deploy models in a way that\n",
    "facilitates performance monitoring.\n",
    "\n",
    "There are three main parts to this case study.\n",
    "\n",
    "1. Write unit tests for a logger and a logging API endpoint\n",
    "2. Add logging to your Docker container\n",
    "3. Add an API endpoint for logging\n",
    "4. Make sure all tests pass\n",
    "5. Create model performance investigative tooling\n",
    "6. Swap out the iris data for the AAVAIL churn data\n",
    "\n",
    "You may want to eventually rename the directory because in this\n",
    "case-study you will swap out the iris data for `aavail-target.csv`.\n",
    "It reality you will eventually want a library of workflow templates to\n",
    "work from and the naming convention you decide on can help with\n",
    "organization.  This notebook should reside in that source directory\n",
    "regardless of the name.  We suggest that you go through all of the\n",
    "tasks **first** using the iris data **then** copy the template to a\n",
    "new folder and make it work for the AAVAIL churn data.  Eventually you\n",
    "will want a suite of workflow templates that you will be able to\n",
    "select from."
   ]
  },
  {
   "cell_type": "code",
   "execution_count": 1,
   "metadata": {
    "autoscroll": false,
    "collapsed": false,
    "ein.hycell": false,
    "ein.tags": "worksheet-0",
    "slideshow": {
     "slide_type": "-"
    }
   },
   "outputs": [],
   "source": [
    "import os\n",
    "import sys\n",
    "import numpy as np\n",
    "import pandas as pd\n",
    "import matplotlib.pyplot as plt\n",
    "\n",
    "%matplotlib inline"
   ]
  },
  {
   "cell_type": "code",
   "execution_count": 75,
   "metadata": {
    "autoscroll": false,
    "collapsed": false,
    "ein.hycell": false,
    "ein.tags": "worksheet-0",
    "slideshow": {
     "slide_type": "-"
    }
   },
   "outputs": [],
   "source": [
    "from datetime import date\n",
    "import pandas as pd\n",
    "import numpy as np\n",
    "import requests\n",
    "from ast import literal_eval\n",
    "from collections import Counter\n"
   ]
  },
  {
   "cell_type": "markdown",
   "metadata": {
    "ein.tags": "worksheet-0",
    "slideshow": {
     "slide_type": "-"
    }
   },
   "source": [
    "## Getting started\n",
    "\n",
    "The ``iris-nologs.zip`` is a workflow template.  Unpack the directory\n",
    "in a location where you would like the source code to exist.  Leaving\n",
    "out the ``static`` directory that contains css and JavaScript to\n",
    "render a landing page, the important pieces are shown in the following\n",
    "tree.\n",
    "\n",
    "```\n",
    "├── app.py\n",
    "├── Dockerfile\n",
    "├── model.py\n",
    "├── README.rst\n",
    "├── requirements.txt\n",
    "├── run-tests.py\n",
    "├── templates\n",
    "│   ├── base.html\n",
    "│   ├── dashboard.html\n",
    "│   ├── index.html\n",
    "│   └── running.html\n",
    "└── unittests\n",
    "    ├── ApiTests.py\n",
    "    ├── __init__.py\n",
    "    ├── ModelTests.py\n",
    "```\n",
    "\n",
    "If you plan on modifying the HTML website you will need to modify the\n",
    "files in ``templates``.  The rest of the files you should be familiar\n",
    "with at this point."
   ]
  },
  {
   "cell_type": "markdown",
   "metadata": {
    "ein.tags": "worksheet-0",
    "slideshow": {
     "slide_type": "-"
    }
   },
   "source": [
    "## TASK 1: Write units test for a logger and a logging API endpoint\n",
    "\n",
    "1. Using `model.py` and `./unittests/ModelTests.py` as an example\n",
    "create `logger.py` and `./unittests/LoggerTests.py`.\n",
    "\n",
    "2. Modify the files so that there are at a minimum the following tests:\n",
    "\n",
    "    * ensure predict log is automatically created\n",
    "    * ensure train log is automaticall created\n",
    "    * ensure that train log archives last used training data\n",
    "    * ensure that 'n' predictions result in 'n' log entries\n",
    "    * ensure that predict gracefully handles NaNs\n",
    "    \n",
    "> IMPORTANT: when writing to a log file from a unit test you will want\n",
    "  to ensure that you do not modify or delete existing 'production'\n",
    "  logs.  You can test your function with the following code (although\n",
    "  it is likely easier to work directly in a terminal)."
   ]
  },
  {
   "cell_type": "code",
   "execution_count": null,
   "metadata": {
    "autoscroll": false,
    "collapsed": false,
    "ein.hycell": false,
    "ein.tags": "worksheet-0",
    "slideshow": {
     "slide_type": "-"
    }
   },
   "outputs": [],
   "source": [
    "!python ./unittests/LoggerTests.py"
   ]
  },
  {
   "cell_type": "markdown",
   "metadata": {
    "ein.tags": "worksheet-0",
    "slideshow": {
     "slide_type": "-"
    }
   },
   "source": [
    "## TASK 2: Add logging to your Docker container\n",
    "\n",
    "You may do this directly inside of `app.py` or your may separate out\n",
    "the logging code into the `logging.py` script.  Work on this task\n",
    "until all logging unit tests pass."
   ]
  },
  {
   "cell_type": "code",
   "execution_count": null,
   "metadata": {
    "autoscroll": false,
    "collapsed": false,
    "ein.hycell": false,
    "ein.tags": "worksheet-0",
    "slideshow": {
     "slide_type": "-"
    }
   },
   "outputs": [],
   "source": [
    "!python ./unittests/LoggerTests.py"
   ]
  },
  {
   "cell_type": "markdown",
   "metadata": {
    "ein.tags": "worksheet-0",
    "slideshow": {
     "slide_type": "-"
    }
   },
   "source": [
    "## TASK 3: Add an API endpoint for logging\n",
    "\n",
    "In addition to the `predict` and `train` endpoints, create a third\n",
    "endpoint that returns logs.  Remember that there are `train` and\n",
    "`predict` log files and that they are set up to create new files each\n",
    "month.  You will need to ensure that your endpoint can accommodate\n",
    "this and the best way to ensure this is to **first write the unit\n",
    "tests** then write the code."
   ]
  },
  {
   "cell_type": "code",
   "execution_count": null,
   "metadata": {
    "autoscroll": false,
    "collapsed": false,
    "ein.hycell": false,
    "ein.tags": "worksheet-0",
    "slideshow": {
     "slide_type": "-"
    }
   },
   "outputs": [],
   "source": [
    "!python ./unittests/ApiTests.py"
   ]
  },
  {
   "cell_type": "markdown",
   "metadata": {
    "ein.tags": "worksheet-0",
    "slideshow": {
     "slide_type": "-"
    }
   },
   "source": [
    "## TASK 4: Make sure all tests pass\n",
    "\n",
    "You have been working on specific suites of unit tests.  It is a best\n",
    "practice to double-check that all tests pass after making major\n",
    "changes like the ones you have just completed.\n",
    "\n",
    "> make sure you modify the `./unittests/__init__.py` so that the\n",
    "  LoggerTest suite is also included when running all tests."
   ]
  },
  {
   "cell_type": "code",
   "execution_count": null,
   "metadata": {
    "autoscroll": false,
    "collapsed": false,
    "ein.hycell": false,
    "ein.tags": "worksheet-0",
    "slideshow": {
     "slide_type": "-"
    }
   },
   "outputs": [],
   "source": [
    "!python run-tests.py"
   ]
  },
  {
   "cell_type": "markdown",
   "metadata": {
    "ein.tags": "worksheet-0",
    "slideshow": {
     "slide_type": "-"
    }
   },
   "source": [
    "## TASK 5: Create model performance investigative tooling\n",
    "\n",
    "There are a lot of convenience functions you could create here.\n",
    "Create them directly in this notebook or create them as scripts that\n",
    "you may call from this notebook.\n",
    "\n",
    "First write a script that accomplishes the following:\n",
    "\n",
    "* train one model, then select another type of machine learning model\n",
    "  and train again, ensuring that each has separate version numbers.\n",
    "* simulate a couple of hundred predictions for each model.\n",
    "\n",
    "At minimum create a tablular summary and/or a simple plot that\n",
    "accomplishes the following:\n",
    "\n",
    "1. Compare model performance for the two models\n",
    "\n",
    "2. Determine if there was any drift from the first\n",
    "   model to the second using a novelty detection algorithm."
   ]
  },
  {
   "cell_type": "code",
   "execution_count": 12,
   "metadata": {
    "autoscroll": false,
    "collapsed": false,
    "ein.hycell": false,
    "ein.tags": "worksheet-0",
    "slideshow": {
     "slide_type": "-"
    }
   },
   "outputs": [
    {
     "data": {
      "text/plain": [
       "'/Users/marcohassan/Desktop/Learning/AI_workflow_Coursera/Capstone_Project'"
      ]
     },
     "execution_count": 12,
     "metadata": {},
     "output_type": "execute_result"
    }
   ],
   "source": [
    "import os\n",
    "\n",
    "os.getcwd()"
   ]
  },
  {
   "cell_type": "code",
   "execution_count": null,
   "metadata": {
    "autoscroll": false,
    "collapsed": false,
    "ein.hycell": false,
    "ein.tags": "worksheet-0",
    "slideshow": {
     "slide_type": "-"
    }
   },
   "outputs": [],
   "source": [
    "## HAVE TO DO THIS USING PRODUCTION DATA"
   ]
  },
  {
   "cell_type": "code",
   "execution_count": null,
   "metadata": {
    "autoscroll": false,
    "collapsed": false,
    "ein.hycell": false,
    "ein.tags": "worksheet-0",
    "slideshow": {
     "slide_type": "-"
    }
   },
   "outputs": [],
   "source": [
    "## THE GENERAL WORKFLOW FOR THE SECTION IS AS FOLLOWS\n",
    "\n",
    "# first you create synthetic outliers\n",
    "\n",
    "# then you would compute the wasserstein metrics for the training data\n",
    "# see for that the section\n",
    "\n",
    "# pm_tools = get_monitoring_tools(X,y)\n",
    "\n",
    "# double check that code if you want to be 100% sure.\n",
    "\n",
    "# then you would compute the the wasserstein distribution of your data\n",
    "# containg the outliers (mock example)/with production data.\n",
    "\n",
    "# finally you would check if for the given new data the distribution\n",
    "# changed.. i.e. it is higher than a threshold (have to understand\n",
    "# better what that threshold is). according to such values you would\n",
    "# then categorize a datapoint as outlier/ you would observe a shift in\n",
    "# the distribution."
   ]
  },
  {
   "cell_type": "code",
   "execution_count": 322,
   "metadata": {
    "autoscroll": false,
    "collapsed": false,
    "ein.hycell": false,
    "ein.tags": "worksheet-0",
    "slideshow": {
     "slide_type": "-"
    }
   },
   "outputs": [
    {
     "name": "stdout",
     "output_type": "stream",
     "text": [
      "you are importing this module\n",
      "imported get_processor\n"
     ]
    }
   ],
   "source": [
    "from monitoring import get_latest_train_data, get_monitoring_tools\n",
    "\n",
    "## Libraries for model monitoring\n",
    "import importlib\n",
    "import sys\n",
    "importlib.reload(sys.modules['model'])\n",
    "importlib.reload(sys.modules['monitoring'])\n",
    "\n",
    "## load latest data\n",
    "data = get_latest_train_data()\n",
    "y = data['y']\n",
    "X = data['X']\n"
   ]
  },
  {
   "cell_type": "code",
   "execution_count": 217,
   "metadata": {
    "autoscroll": false,
    "collapsed": false,
    "ein.hycell": false,
    "ein.tags": "worksheet-0",
    "slideshow": {
     "slide_type": "-"
    }
   },
   "outputs": [],
   "source": [
    "outliers_7 = []\n",
    "for i in range(1,4):\n",
    "    outliers_7.append(X_bs.describe()['previous_7']['75%'] * 2 * i/1.2)\n",
    "\n",
    "outliers_14 = []\n",
    "for i in range(1,4):\n",
    "    outliers_14.append(X_bs.describe()['previous_14']['75%'] * 2 * i/1.2)"
   ]
  },
  {
   "cell_type": "code",
   "execution_count": 218,
   "metadata": {
    "autoscroll": false,
    "collapsed": false,
    "ein.hycell": false,
    "ein.tags": "worksheet-0",
    "slideshow": {
     "slide_type": "-"
    }
   },
   "outputs": [
    {
     "name": "stdout",
     "output_type": "stream",
     "text": [
      "(63, 7)\n"
     ]
    }
   ],
   "source": [
    "## generate some data\n",
    "bs_samples = 60\n",
    "subset_indices = np.random.choice(np.arange(X.shape[0]),\n",
    "                                  bs_samples,replace=True).astype(int)\n",
    "mask = np.in1d(np.arange(X.shape[0]),subset_indices)\n",
    "X_bs=X[mask]\n",
    "X_outliers = X[:3].copy()\n",
    "X_outliers['previous_7'] = outliers_7\n",
    "X_outliers['previous_14'] = outliers_14\n",
    "X_query = pd.concat([X_bs,X_outliers])\n",
    "\n",
    "print(X_query.shape)"
   ]
  },
  {
   "cell_type": "code",
   "execution_count": 220,
   "metadata": {
    "autoscroll": false,
    "collapsed": false,
    "ein.hycell": false,
    "ein.tags": "worksheet-0",
    "slideshow": {
     "slide_type": "-"
    }
   },
   "outputs": [
    {
     "name": "stdout",
     "output_type": "stream",
     "text": [
      "logs/predict-2020-9.log\n"
     ]
    },
    {
     "name": "stdout",
     "output_type": "stream",
     "text": [
      "[('0', [143153.77000000002]), ('1', [143153.77000000002]), ('1167', [107862.34999999999]), ('1279', [107846.33199999998]), ('1314', [135347.94666666674]), ('1336', [215460.23]), ('135', [112358.091]), ('1458', [266454.76999999996]), ('1466', [209002.44]), ('1565', [134331.78]), ('1740', [145743.92]), ('1752', [98367.68000000001]), ('186', [229790.575]), ('1868', [133806.562]), ('1943', [87510.89000000001]), ('1972', [135435.06000000003]), ('2', [143153.77000000002]), ('2046', [212002.24]), ('2060', [264388.412]), ('2100', [431900.1400000001]), ('2257', [163672.09230769234]), ('2368', [147411.92500000002]), ('237', [134430.23]), ('241', [144465.80000000002]), ('2457', [85723.76100000001]), ('2705', [150613.22]), ('2795', [150341.781]), ('280', [299716.69100000005]), ('2882', [49315.75]), ('3124', [140331.39]), ('3147', [133801.52]), ('3180', [320061.42100000003]), ('3233', [358265.6920000001]), ('3253', [455599.68000000005]), ('3307', [127645.98]), ('3344', [145011.44999999998]), ('3468', [10698.24]), ('3544', [205453.76195744687]), ('3560', [97294.16000000002]), ('3669', [224359.9109999999]), ('3697', [525905.431]), ('3972', [139577.29499999995]), ('4006', [205453.76195744687]), ('4022', [118161.40199999999]), ('4046', [95630.166]), ('4101', [99828.21999999999]), ('4167', [153870.721]), ('4204', [263116.37999999995]), ('4213', [237508.01099999997]), ('4240', [517318.011]), ('4248', [511576.651]), ('4366', [168404.54]), ('4628', [222984.67100000003]), ('4715', [455599.6800000001]), ('4741', [129953.07999999997]), ('4809', [161190.68000000002]), ('4834', [144262.581]), ('4917', [77783.29000000002]), ('5074', [103534.90099999998]), ('5109', [223219.64999999997]), ('5158', [102937.21000000004]), ('5496', [77783.29000000002]), ('919', [358265.6920000001])]\n"
     ]
    }
   ],
   "source": [
    "## delete the log file so we are starting fresh\n",
    "today = date.today() \n",
    "logfile = os.path.join(\"logs\",\"train-{}-{}.log\".format(today.year, today.month)) \n",
    "print(logfile)\n",
    "if os.path.exists(logfile):\n",
    "    os.remove(logfile)\n",
    "\n",
    "## ping the API\n",
    "test = dict()\n",
    "\n",
    "test['query'] = {}\n",
    "\n",
    "test['query']['data'] = X_query.to_numpy().tolist()\n",
    "test['query']['columns'] = list(X_query.columns)\n",
    "test['query']['idx'] = list(X_query.index)\n",
    "\n",
    "request_json = test\n",
    "port = 8080\n",
    "r = requests.post('http://0.0.0.0:{}/predict'.format(port),json=request_json)\n",
    "response = literal_eval(r.text)\n",
    "print(list(sorted(Counter(response['y_pred']).items())))"
   ]
  },
  {
   "cell_type": "code",
   "execution_count": 266,
   "metadata": {
    "autoscroll": false,
    "collapsed": false,
    "ein.hycell": false,
    "ein.tags": "worksheet-0",
    "slideshow": {
     "slide_type": "-"
    }
   },
   "outputs": [],
   "source": [
    "pm_tools = get_monitoring_tools(X,y)"
   ]
  },
  {
   "cell_type": "code",
   "execution_count": 275,
   "metadata": {
    "autoscroll": false,
    "collapsed": false,
    "ein.hycell": false,
    "ein.tags": "worksheet-0",
    "slideshow": {
     "slide_type": "-"
    }
   },
   "outputs": [
    {
     "data": {
      "text/plain": [
       "dict_keys(['outlier_X', 'wasserstein_X', 'wasserstein_y', 'preprocessor', 'clf_X', 'X_source', 'y_source', 'latest_X', 'latest_y'])"
      ]
     },
     "execution_count": 275,
     "metadata": {},
     "output_type": "execute_result"
    }
   ],
   "source": [
    "pm_tools.keys()"
   ]
  },
  {
   "cell_type": "code",
   "execution_count": 285,
   "metadata": {
    "autoscroll": false,
    "collapsed": false,
    "ein.hycell": false,
    "ein.tags": "worksheet-0",
    "slideshow": {
     "slide_type": "-"
    }
   },
   "outputs": [
    {
     "data": {
      "text/html": [
       "<div>\n<style scoped>\n    .dataframe tbody tr th:only-of-type {\n        vertical-align: middle;\n    }\n\n    .dataframe tbody tr th {\n        vertical-align: top;\n    }\n\n    .dataframe thead th {\n        text-align: right;\n    }\n</style>\n<table border=\"1\" class=\"dataframe\">\n  <thead>\n    <tr style=\"text-align: right;\">\n      <th></th>\n      <th>timestamp</th>\n      <th>y_pred</th>\n      <th>query</th>\n      <th>model_version</th>\n      <th>runtime</th>\n    </tr>\n  </thead>\n  <tbody>\n    <tr>\n      <th>0</th>\n      <td>1.599652e+09</td>\n      <td>184410.25</td>\n      <td>[31866.97, 58355.641, 142086.181, 353433.941, ...</td>\n      <td>0.1</td>\n      <td>000:00:00</td>\n    </tr>\n    <tr>\n      <th>1</th>\n      <td>1.599652e+09</td>\n      <td>181908.26</td>\n      <td>[3.89, 5.78, 7.42086181, 9.42086181, 2.1904, 6...</td>\n      <td>0.1</td>\n      <td>000:00:00</td>\n    </tr>\n  </tbody>\n</table>\n</div>"
      ],
      "text/plain": [
       "      timestamp     y_pred                                              query  \\\n0  1.599652e+09  184410.25  [31866.97, 58355.641, 142086.181, 353433.941, ...   \n1  1.599652e+09  181908.26  [3.89, 5.78, 7.42086181, 9.42086181, 2.1904, 6...   \n\n   model_version    runtime  \n0            0.1  000:00:00  \n1            0.1  000:00:00  "
      ]
     },
     "execution_count": 285,
     "metadata": {},
     "output_type": "execute_result"
    }
   ],
   "source": [
    "# read in the logged data\n",
    "df = pd.read_csv(logfile)\n",
    "df.drop(columns=[\"unique_id\"], inplace = True)\n",
    "df.head()"
   ]
  },
  {
   "cell_type": "code",
   "execution_count": 293,
   "metadata": {
    "autoscroll": false,
    "collapsed": false,
    "ein.hycell": false,
    "ein.tags": "worksheet-0",
    "slideshow": {
     "slide_type": "-"
    }
   },
   "outputs": [
    {
     "data": {
      "text/html": [
       "<div>\n<style scoped>\n    .dataframe tbody tr th:only-of-type {\n        vertical-align: middle;\n    }\n\n    .dataframe tbody tr th {\n        vertical-align: top;\n    }\n\n    .dataframe thead th {\n        text-align: right;\n    }\n</style>\n<table border=\"1\" class=\"dataframe\">\n  <thead>\n    <tr style=\"text-align: right;\">\n      <th></th>\n      <th>previous_7</th>\n      <th>previous_14</th>\n      <th>previous_28</th>\n      <th>previous_70</th>\n      <th>previous_year</th>\n      <th>recent_invoices</th>\n      <th>recent_views</th>\n    </tr>\n  </thead>\n  <tbody>\n    <tr>\n      <th>count</th>\n      <td>5512.000000</td>\n      <td>5512.000000</td>\n      <td>5512.000000</td>\n      <td>5512.000000</td>\n      <td>5512.000000</td>\n      <td>5512.000000</td>\n      <td>5512.000000</td>\n    </tr>\n    <tr>\n      <th>mean</th>\n      <td>43979.597198</td>\n      <td>87689.158459</td>\n      <td>173891.257827</td>\n      <td>421608.639323</td>\n      <td>68543.554461</td>\n      <td>7.082749</td>\n      <td>696.648058</td>\n    </tr>\n    <tr>\n      <th>std</th>\n      <td>35019.860780</td>\n      <td>55691.208993</td>\n      <td>85119.293360</td>\n      <td>160957.497616</td>\n      <td>85107.130810</td>\n      <td>1.927246</td>\n      <td>231.607480</td>\n    </tr>\n    <tr>\n      <th>min</th>\n      <td>-24932.569000</td>\n      <td>5993.670000</td>\n      <td>14139.140000</td>\n      <td>14139.140000</td>\n      <td>0.000000</td>\n      <td>0.826531</td>\n      <td>76.265306</td>\n    </tr>\n    <tr>\n      <th>25%</th>\n      <td>28873.731000</td>\n      <td>61192.570000</td>\n      <td>126139.777250</td>\n      <td>333674.590000</td>\n      <td>0.000000</td>\n      <td>5.930000</td>\n      <td>577.419167</td>\n    </tr>\n    <tr>\n      <th>50%</th>\n      <td>37065.490000</td>\n      <td>71909.380000</td>\n      <td>149671.801000</td>\n      <td>373897.552000</td>\n      <td>0.000000</td>\n      <td>6.759857</td>\n      <td>631.706667</td>\n    </tr>\n    <tr>\n      <th>75%</th>\n      <td>51074.130000</td>\n      <td>99721.562000</td>\n      <td>196829.880250</td>\n      <td>456673.826000</td>\n      <td>137665.660000</td>\n      <td>8.343333</td>\n      <td>715.130833</td>\n    </tr>\n    <tr>\n      <th>max</th>\n      <td>291527.960000</td>\n      <td>375050.100000</td>\n      <td>509748.911000</td>\n      <td>890352.352000</td>\n      <td>260668.981000</td>\n      <td>12.063333</td>\n      <td>1537.736667</td>\n    </tr>\n  </tbody>\n</table>\n</div>"
      ],
      "text/plain": [
       "          previous_7    previous_14    previous_28    previous_70  \\\ncount    5512.000000    5512.000000    5512.000000    5512.000000   \nmean    43979.597198   87689.158459  173891.257827  421608.639323   \nstd     35019.860780   55691.208993   85119.293360  160957.497616   \nmin    -24932.569000    5993.670000   14139.140000   14139.140000   \n25%     28873.731000   61192.570000  126139.777250  333674.590000   \n50%     37065.490000   71909.380000  149671.801000  373897.552000   \n75%     51074.130000   99721.562000  196829.880250  456673.826000   \nmax    291527.960000  375050.100000  509748.911000  890352.352000   \n\n       previous_year  recent_invoices  recent_views  \ncount    5512.000000      5512.000000   5512.000000  \nmean    68543.554461         7.082749    696.648058  \nstd     85107.130810         1.927246    231.607480  \nmin         0.000000         0.826531     76.265306  \n25%         0.000000         5.930000    577.419167  \n50%         0.000000         6.759857    631.706667  \n75%    137665.660000         8.343333    715.130833  \nmax    260668.981000        12.063333   1537.736667  "
      ]
     },
     "execution_count": 293,
     "metadata": {},
     "output_type": "execute_result"
    }
   ],
   "source": [
    "X.describe()"
   ]
  },
  {
   "cell_type": "code",
   "execution_count": 294,
   "metadata": {
    "autoscroll": false,
    "collapsed": false,
    "ein.hycell": false,
    "ein.tags": "worksheet-0",
    "slideshow": {
     "slide_type": "-"
    }
   },
   "outputs": [
    {
     "data": {
      "text/plain": [
       "'[3.89, 5.78, 7.42086181, 9.42086181, 2.1904, 6.1966, 1.7743]'"
      ]
     },
     "execution_count": 294,
     "metadata": {},
     "output_type": "execute_result"
    }
   ],
   "source": [
    "df['query'][1]"
   ]
  },
  {
   "cell_type": "code",
   "execution_count": 300,
   "metadata": {
    "autoscroll": false,
    "collapsed": false,
    "ein.hycell": false,
    "ein.tags": "worksheet-0",
    "slideshow": {
     "slide_type": "-"
    }
   },
   "outputs": [
    {
     "name": "stdout",
     "output_type": "stream",
     "text": [
      "(2, 7)\n"
     ]
    },
    {
     "data": {
      "text/html": [
       "<div>\n<style scoped>\n    .dataframe tbody tr th:only-of-type {\n        vertical-align: middle;\n    }\n\n    .dataframe tbody tr th {\n        vertical-align: top;\n    }\n\n    .dataframe thead tr th {\n        text-align: left;\n    }\n</style>\n<table border=\"1\" class=\"dataframe\">\n  <thead>\n    <tr>\n      <th></th>\n      <th>previous_7</th>\n      <th>previous_14</th>\n      <th>previous_28</th>\n      <th>previous_70</th>\n      <th>previous_year</th>\n      <th>recent_invoices</th>\n      <th>recent_views</th>\n    </tr>\n  </thead>\n  <tbody>\n    <tr>\n      <th>0</th>\n      <td>31866.97</td>\n      <td>58355.641</td>\n      <td>142086.181000</td>\n      <td>353433.941000</td>\n      <td>90602.2210</td>\n      <td>6.196667</td>\n      <td>577.4300</td>\n    </tr>\n    <tr>\n      <th>1</th>\n      <td>3.89</td>\n      <td>5.780</td>\n      <td>7.420862</td>\n      <td>9.420862</td>\n      <td>2.1904</td>\n      <td>6.196600</td>\n      <td>1.7743</td>\n    </tr>\n  </tbody>\n</table>\n</div>"
      ],
      "text/plain": [
       "  previous_7 previous_14    previous_28    previous_70 previous_year  \\\n0   31866.97   58355.641  142086.181000  353433.941000    90602.2210   \n1       3.89       5.780       7.420862       9.420862        2.1904   \n\n  recent_invoices recent_views  \n0        6.196667     577.4300  \n1        6.196600       1.7743  "
      ]
     },
     "execution_count": 300,
     "metadata": {},
     "output_type": "execute_result"
    }
   ],
   "source": [
    "## reconstruct a data frame from the logged queries\n",
    "queries = [literal_eval(q) for q in df['query'].values]\n",
    "queries = pd.DataFrame(queries)\n",
    "queries.columns = [X.columns]\n",
    "print(queries.shape)\n",
    "queries.head()"
   ]
  },
  {
   "cell_type": "code",
   "execution_count": 323,
   "metadata": {
    "autoscroll": false,
    "collapsed": false,
    "ein.hycell": false,
    "ein.tags": "worksheet-0",
    "slideshow": {
     "slide_type": "-"
    }
   },
   "outputs": [
    {
     "name": "stderr",
     "output_type": "stream",
     "text": [
      "/Users/marcohassan/Desktop/python_venv/coursera_capstone/lib/python3.7/site-packages/sklearn/compose/_column_transformer.py:440: FutureWarning: Given feature/column names or counts do not match the ones for the data given during fit. This will fail from v0.24.\n",
      "  FutureWarning)\n"
     ]
    },
    {
     "name": "stdout",
     "output_type": "stream",
     "text": [
      "OUTLIER TEST PASSED: 0.0 < 1.9\n",
      "DISTRIBUTION X TEST FAILED: 1.01 >= 0.03\n",
      "DISTRIBUTION y TEST FAILED: 62460.66 >= 4054.77\n"
     ]
    },
    {
     "data": {
      "image/png": "[encoded data removed]",
      "text/plain": [
       "<Figure size 800x800 with 1 Axes>"
      ]
     },
     "metadata": {},
     "output_type": "display_data"
    }
   ],
   "source": [
    "import matplotlib.pyplot as plt\n",
    "from scipy.stats import wasserstein_distance\n",
    "X_target = pm_tools['preprocessor'].transform(queries)\n",
    "\n",
    "outlier_test = pm_tools['clf_X'].predict(X_target)\n",
    "outliers_X = 100 * (1.0 - (outlier_test[outlier_test==1].size / outlier_test.size))\n",
    "wasserstein_X = wasserstein_distance(pm_tools['X_source'].flatten(),X_target.flatten()) \n",
    "wasserstein_y = wasserstein_distance(pm_tools['y_source'],df['y_pred'].values)\n",
    "\n",
    "if outliers_X >= pm_tools['outlier_X']:\n",
    "    print(\"OUTLIER TEST FAILED: {} >= {}\".format(round(outliers_X,2),\n",
    "                                                 pm_tools['outlier_X']))\n",
    "else:\n",
    "    print(\"OUTLIER TEST PASSED: {} < {}\".format(round(outliers_X,2),\n",
    "                                                pm_tools['outlier_X']))\n",
    "    \n",
    "if wasserstein_X >= pm_tools['wasserstein_X']:\n",
    "    print(\"DISTRIBUTION X TEST FAILED: {} >= {}\".format(round(wasserstein_X,2),\n",
    "                                                        pm_tools['wasserstein_X']))\n",
    "else:\n",
    "    print(\"DISTRIBUTION X TEST PASSED: {} < {}\".format(round(wasserstein_X),\n",
    "                                                       pm_tools['wasserstein_X']))\n",
    "    \n",
    "if wasserstein_y >= pm_tools['wasserstein_y']:\n",
    "    print(\"DISTRIBUTION y TEST FAILED: {} >= {}\".format(round(wasserstein_y,2),\n",
    "                                                        pm_tools['wasserstein_y']))\n",
    "else:\n",
    "    print(\"DISTRIBUTION y TEST PASSED: {} < {}\".format(round(wasserstein_y),\n",
    "                                                       pm_tools['wasserstein_y']))\n",
    "\n",
    "fig = plt.figure(figsize=(2,2),dpi=400)\n",
    "ax = fig.add_subplot(111)\n",
    "\n",
    "x_range = np.arange(outlier_test.size)\n",
    "labels = ['outlier','normal']\n",
    "\n",
    "markerline, stemlines, baseline = ax.stem(x_range, outlier_test, '-.',\n",
    "                                          use_line_collection=True)\n",
    "\n",
    "plt.setp(baseline, 'color', 'r', 'linewidth', 2)\n",
    "ax.set_title(\"outlier visualization\")\n",
    "ax.set_ylabel(\"outlier=-1, normal=1\")\n",
    "ax.set_xlabel(\"queries (in time order)\");"
   ]
  }
 ],
 "metadata": {
  "kernelspec": {
   "argv": [
    "/Users/marcohassan/Desktop/python_venv/coursera_capstone/bin/python3.7",
    "-m",
    "ipykernel_launcher",
    "-f",
    "{connection_file}"
   ],
   "display_name": "coursera_capstone",
   "env": null,
   "interrupt_mode": "signal",
   "language": "python",
   "metadata": null,
   "name": "coursera_capstone"
  },
  "language_info": {
   "codemirror_mode": {
    "name": "ipython",
    "version": 3
   },
   "file_extension": ".py",
   "mimetype": "text/x-python",
   "name": "python",
   "nbconvert_exporter": "python",
   "pygments_lexer": "ipython3",
   "version": "3.7.5"
  },
  "name": "m6-case-study-monitoring.ipynb"
 },
 "nbformat": 4,
 "nbformat_minor": 4
}
