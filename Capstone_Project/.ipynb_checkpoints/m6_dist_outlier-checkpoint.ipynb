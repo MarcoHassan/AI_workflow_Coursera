{
 "cells": [
  {
   "cell_type": "markdown",
   "metadata": {
    "ein.tags": "worksheet-0",
    "slideshow": {
     "slide_type": "-"
    }
   },
   "source": [
    "# CASE STUDY - performance monitoring\n",
    "\n",
    "You will be building your own workflow template in this tutorial.  You\n",
    "already have a Dockerfile and a basic Flask application to build an\n",
    "API.  Lets combine what you have learned about logging to build a\n",
    "``workflow-template`` that can be used to deploy models in a way that\n",
    "facilitates performance monitoring.\n",
    "\n",
    "There are three main parts to this case study.\n",
    "\n",
    "1. Write unit tests for a logger and a logging API endpoint\n",
    "2. Add logging to your Docker container\n",
    "3. Add an API endpoint for logging\n",
    "4. Make sure all tests pass\n",
    "5. Create model performance investigative tooling\n",
    "6. Swap out the iris data for the AAVAIL churn data\n",
    "\n",
    "You may want to eventually rename the directory because in this\n",
    "case-study you will swap out the iris data for `aavail-target.csv`.\n",
    "It reality you will eventually want a library of workflow templates to\n",
    "work from and the naming convention you decide on can help with\n",
    "organization.  This notebook should reside in that source directory\n",
    "regardless of the name.  We suggest that you go through all of the\n",
    "tasks **first** using the iris data **then** copy the template to a\n",
    "new folder and make it work for the AAVAIL churn data.  Eventually you\n",
    "will want a suite of workflow templates that you will be able to\n",
    "select from."
   ]
  },
  {
   "cell_type": "code",
   "execution_count": 4,
   "metadata": {
    "autoscroll": false,
    "collapsed": false,
    "ein.hycell": false,
    "ein.tags": "worksheet-0",
    "slideshow": {
     "slide_type": "-"
    }
   },
   "outputs": [],
   "source": [
    "import os\n",
    "import sys\n",
    "import numpy as np\n",
    "import pandas as pd\n",
    "import matplotlib.pyplot as plt\n",
    "\n",
    "%matplotlib inline"
   ]
  },
  {
   "cell_type": "code",
   "execution_count": 5,
   "metadata": {
    "autoscroll": false,
    "collapsed": false,
    "ein.hycell": false,
    "ein.tags": "worksheet-0",
    "slideshow": {
     "slide_type": "-"
    }
   },
   "outputs": [],
   "source": [
    "from datetime import date\n",
    "import pandas as pd\n",
    "import numpy as np\n",
    "import requests\n",
    "from ast import literal_eval\n",
    "from collections import Counter\n"
   ]
  },
  {
   "cell_type": "markdown",
   "metadata": {
    "ein.tags": "worksheet-0",
    "slideshow": {
     "slide_type": "-"
    }
   },
   "source": [
    "## Getting started\n",
    "\n",
    "The ``iris-nologs.zip`` is a workflow template.  Unpack the directory\n",
    "in a location where you would like the source code to exist.  Leaving\n",
    "out the ``static`` directory that contains css and JavaScript to\n",
    "render a landing page, the important pieces are shown in the following\n",
    "tree.\n",
    "\n",
    "```\n",
    "├── app.py\n",
    "├── Dockerfile\n",
    "├── model.py\n",
    "├── README.rst\n",
    "├── requirements.txt\n",
    "├── run-tests.py\n",
    "├── templates\n",
    "│   ├── base.html\n",
    "│   ├── dashboard.html\n",
    "│   ├── index.html\n",
    "│   └── running.html\n",
    "└── unittests\n",
    "    ├── ApiTests.py\n",
    "    ├── __init__.py\n",
    "    ├── ModelTests.py\n",
    "```\n",
    "\n",
    "If you plan on modifying the HTML website you will need to modify the\n",
    "files in ``templates``.  The rest of the files you should be familiar\n",
    "with at this point."
   ]
  },
  {
   "cell_type": "markdown",
   "metadata": {
    "ein.tags": "worksheet-0",
    "slideshow": {
     "slide_type": "-"
    }
   },
   "source": [
    "## TASK 1: Write units test for a logger and a logging API endpoint\n",
    "\n",
    "1. Using `model.py` and `./unittests/ModelTests.py` as an example\n",
    "create `logger.py` and `./unittests/LoggerTests.py`.\n",
    "\n",
    "2. Modify the files so that there are at a minimum the following tests:\n",
    "\n",
    "    * ensure predict log is automatically created\n",
    "    * ensure train log is automaticall created\n",
    "    * ensure that train log archives last used training data\n",
    "    * ensure that 'n' predictions result in 'n' log entries\n",
    "    * ensure that predict gracefully handles NaNs\n",
    "    \n",
    "> IMPORTANT: when writing to a log file from a unit test you will want\n",
    "  to ensure that you do not modify or delete existing 'production'\n",
    "  logs.  You can test your function with the following code (although\n",
    "  it is likely easier to work directly in a terminal)."
   ]
  },
  {
   "cell_type": "code",
   "execution_count": null,
   "metadata": {
    "autoscroll": false,
    "collapsed": false,
    "ein.hycell": false,
    "ein.tags": "worksheet-0",
    "slideshow": {
     "slide_type": "-"
    }
   },
   "outputs": [],
   "source": [
    "!python ./unittests/LoggerTests.py"
   ]
  },
  {
   "cell_type": "markdown",
   "metadata": {
    "ein.tags": "worksheet-0",
    "slideshow": {
     "slide_type": "-"
    }
   },
   "source": [
    "## TASK 2: Add logging to your Docker container\n",
    "\n",
    "You may do this directly inside of `app.py` or your may separate out\n",
    "the logging code into the `logging.py` script.  Work on this task\n",
    "until all logging unit tests pass."
   ]
  },
  {
   "cell_type": "code",
   "execution_count": null,
   "metadata": {
    "autoscroll": false,
    "collapsed": false,
    "ein.hycell": false,
    "ein.tags": "worksheet-0",
    "slideshow": {
     "slide_type": "-"
    }
   },
   "outputs": [],
   "source": [
    "!python ./unittests/LoggerTests.py"
   ]
  },
  {
   "cell_type": "markdown",
   "metadata": {
    "ein.tags": "worksheet-0",
    "slideshow": {
     "slide_type": "-"
    }
   },
   "source": [
    "## TASK 3: Add an API endpoint for logging\n",
    "\n",
    "In addition to the `predict` and `train` endpoints, create a third\n",
    "endpoint that returns logs.  Remember that there are `train` and\n",
    "`predict` log files and that they are set up to create new files each\n",
    "month.  You will need to ensure that your endpoint can accommodate\n",
    "this and the best way to ensure this is to **first write the unit\n",
    "tests** then write the code."
   ]
  },
  {
   "cell_type": "code",
   "execution_count": null,
   "metadata": {
    "autoscroll": false,
    "collapsed": false,
    "ein.hycell": false,
    "ein.tags": "worksheet-0",
    "slideshow": {
     "slide_type": "-"
    }
   },
   "outputs": [],
   "source": [
    "!python ./unittests/ApiTests.py"
   ]
  },
  {
   "cell_type": "markdown",
   "metadata": {
    "ein.tags": "worksheet-0",
    "slideshow": {
     "slide_type": "-"
    }
   },
   "source": [
    "## TASK 4: Make sure all tests pass\n",
    "\n",
    "You have been working on specific suites of unit tests.  It is a best\n",
    "practice to double-check that all tests pass after making major\n",
    "changes like the ones you have just completed.\n",
    "\n",
    "> make sure you modify the `./unittests/__init__.py` so that the\n",
    "  LoggerTest suite is also included when running all tests."
   ]
  },
  {
   "cell_type": "code",
   "execution_count": null,
   "metadata": {
    "autoscroll": false,
    "collapsed": false,
    "ein.hycell": false,
    "ein.tags": "worksheet-0",
    "slideshow": {
     "slide_type": "-"
    }
   },
   "outputs": [],
   "source": [
    "!python run-tests.py"
   ]
  },
  {
   "cell_type": "markdown",
   "metadata": {
    "ein.tags": "worksheet-0",
    "slideshow": {
     "slide_type": "-"
    }
   },
   "source": [
    "## TASK 5: Create model performance investigative tooling\n",
    "\n",
    "There are a lot of convenience functions you could create here.\n",
    "Create them directly in this notebook or create them as scripts that\n",
    "you may call from this notebook.\n",
    "\n",
    "First write a script that accomplishes the following:\n",
    "\n",
    "* train one model, then select another type of machine learning model\n",
    "  and train again, ensuring that each has separate version numbers.\n",
    "* simulate a couple of hundred predictions for each model.\n",
    "\n",
    "At minimum create a tablular summary and/or a simple plot that\n",
    "accomplishes the following:\n",
    "\n",
    "1. Compare model performance for the two models\n",
    "\n",
    "2. Determine if there was any drift from the first\n",
    "   model to the second using a novelty detection algorithm."
   ]
  },
  {
   "cell_type": "code",
   "execution_count": 12,
   "metadata": {
    "autoscroll": false,
    "collapsed": false,
    "ein.hycell": false,
    "ein.tags": "worksheet-0",
    "slideshow": {
     "slide_type": "-"
    }
   },
   "outputs": [
    {
     "data": {
      "text/plain": [
       "'/Users/marcohassan/Desktop/Learning/AI_workflow_Coursera/Capstone_Project'"
      ]
     },
     "execution_count": 12,
     "metadata": {},
     "output_type": "execute_result"
    }
   ],
   "source": [
    "import os\n",
    "\n",
    "os.getcwd()"
   ]
  },
  {
   "cell_type": "code",
   "execution_count": null,
   "metadata": {
    "autoscroll": false,
    "collapsed": false,
    "ein.hycell": false,
    "ein.tags": "worksheet-0",
    "slideshow": {
     "slide_type": "-"
    }
   },
   "outputs": [],
   "source": [
    "## THE GENERAL WORKFLOW FOR THE SECTION IS AS FOLLOWS\n",
    "\n",
    "# first you create synthetic outliers\n",
    "\n",
    "# then you would compute the wasserstein metrics for the training data\n",
    "# see for that the section\n",
    "\n",
    "# pm_tools = get_monitoring_tools(X,y)\n",
    "\n",
    "# double check that code if you want to be 100% sure.\n",
    "\n",
    "# then you would compute the the wasserstein distribution of your data\n",
    "# containg the outliers (mock example)/with production data.\n",
    "\n",
    "# finally you would check if for the given new data the distribution\n",
    "# changed.. i.e. it is higher than a threshold (have to understand\n",
    "# better what that threshold is). according to such values you would\n",
    "# then categorize a datapoint as outlier/ you would observe a shift in\n",
    "# the distribution."
   ]
  },
  {
   "cell_type": "markdown",
   "metadata": {
    "ein.tags": "worksheet-0",
    "slideshow": {
     "slide_type": "-"
    }
   },
   "source": [
    "# First use mock synthetic data"
   ]
  },
  {
   "cell_type": "code",
   "execution_count": 1,
   "metadata": {
    "autoscroll": false,
    "collapsed": false,
    "ein.hycell": false,
    "ein.tags": "worksheet-0",
    "slideshow": {
     "slide_type": "-"
    }
   },
   "outputs": [
    {
     "name": "stdout",
     "output_type": "stream",
     "text": [
      "you are importing this module\n"
     ]
    },
    {
     "name": "stdout",
     "output_type": "stream",
     "text": [
      "imported get_processor\n",
      "you are importing this module\n",
      "imported get_processor\n"
     ]
    }
   ],
   "source": [
    "from monitoring import get_latest_train_data, get_monitoring_tools\n",
    "\n",
    "## Libraries for model monitoring\n",
    "import importlib\n",
    "import sys\n",
    "importlib.reload(sys.modules['model'])\n",
    "importlib.reload(sys.modules['monitoring'])\n",
    "\n",
    "## load latest data\n",
    "data = get_latest_train_data()\n",
    "y = data['y']\n",
    "X = data['X']\n"
   ]
  },
  {
   "cell_type": "code",
   "execution_count": 7,
   "metadata": {
    "autoscroll": false,
    "collapsed": false,
    "ein.hycell": false,
    "ein.tags": "worksheet-0",
    "slideshow": {
     "slide_type": "-"
    }
   },
   "outputs": [
    {
     "name": "stdout",
     "output_type": "stream",
     "text": [
      "(63, 7)\n"
     ]
    }
   ],
   "source": [
    "## generate some data\n",
    "bs_samples = 60\n",
    "subset_indices = np.random.choice(np.arange(X.shape[0]),\n",
    "                                  bs_samples,replace=True).astype(int)\n",
    "\n",
    "mask = np.in1d(np.arange(X.shape[0]),subset_indices)\n",
    "\n",
    "X_bs=X[mask]\n",
    "\n",
    "outliers_7 = []\n",
    "for i in range(1,4):\n",
    "    outliers_7.append(X_bs.describe()['previous_7']['75%'] * 2 * i/1.2)\n",
    "\n",
    "outliers_14 = []\n",
    "for i in range(1,4):\n",
    "    outliers_14.append(X_bs.describe()['previous_14']['75%'] * 2 * i/1.2)\n",
    "\n",
    "X_outliers = X[:3].copy()\n",
    "\n",
    "X_outliers['previous_7'] = outliers_7\n",
    "X_outliers['previous_14'] = outliers_14\n",
    "X_query = pd.concat([X_bs,X_outliers])\n",
    "\n",
    "print(X_query.shape)"
   ]
  },
  {
   "cell_type": "code",
   "execution_count": 8,
   "metadata": {
    "autoscroll": false,
    "collapsed": false,
    "ein.hycell": false,
    "ein.tags": "worksheet-0",
    "slideshow": {
     "slide_type": "-"
    }
   },
   "outputs": [
    {
     "name": "stdout",
     "output_type": "stream",
     "text": [
      "logs/predict-2020-9.log\n"
     ]
    },
    {
     "name": "stdout",
     "output_type": "stream",
     "text": [
      "[('0', [118679.23999999999]), ('1', [118679.23999999999]), ('1019', [146723.54]), ('1255', [235250.65100000004]), ('1264', [245909.831]), ('1340', [233874.84000000005]), ('1387', [94994.1]), ('1392', [132053.39]), ('1473', [237508.01099999997]), ('1482', [256490.682]), ('1676', [170509.28]), ('1740', [145743.92]), ('1995', [140845.72]), ('2', [118679.23999999999]), ('2340', [125663.711]), ('2386', [133230.704]), ('2509', [205453.76195744687]), ('2568', [133801.52]), ('258', [140845.72]), ('2627', [228719.93099999992]), ('2668', [508157.54999999993]), ('2676', [447769.60000000003]), ('2735', [132792.01]), ('2896', [145743.92]), ('2957', [122890.604]), ('2996', [232769.87199999997]), ('2997', [228701.621]), ('3082', [218910.58000000005]), ('3089', [205453.76195744687]), ('3095', [96468.95999999999]), ('3198', [262459.60000000003]), ('3230', [328247.7519999999]), ('3231', [314730.932]), ('33', [173592.643]), ('3312', [136156.1]), ('350', [511576.651]), ('3558', [92186.04000000002]), ('3696', [526011.451]), ('3741', [157729.24999999997]), ('382', [132062.04]), ('3877', [190404.21999999997]), ('3884', [172291.84000000005]), ('3948', [153447.56399999998]), ('4093', [205453.76195744687]), ('4259', [455599.6800000001]), ('4360', [169946.23]), ('4561', [94736.61000000002]), ('4733', [144327.87]), ('481', [150341.781]), ('4885', [186851.49]), ('5068', [112358.091]), ('513', [181006.64]), ('5146', [90692.12000000001]), ('5185', [147671.81000000003]), ('5257', [256490.682]), ('5432', [154085.51100000003]), ('5458', [162311.35000000006]), ('5501', [49315.75]), ('6', [131096.26]), ('624', [153496.444]), ('660', [183461.05399999997]), ('693', [162601.811]), ('762', [233874.84000000005])]\n"
     ]
    }
   ],
   "source": [
    "## delete the log file so we are starting fresh\n",
    "today = date.today() \n",
    "logfile = os.path.join(\"logs\",\"predict-{}-{}.log\".format(today.year, today.month)) \n",
    "print(logfile)\n",
    "if os.path.exists(logfile):\n",
    "    os.remove(logfile)\n",
    "\n",
    "## ping the API\n",
    "test = dict()\n",
    "\n",
    "test['query'] = {}\n",
    "\n",
    "test['query']['data'] = X_query.to_numpy().tolist()\n",
    "test['query']['columns'] = list(X_query.columns)\n",
    "test['query']['idx'] = list(X_query.index)\n",
    "\n",
    "request_json = test\n",
    "port = 8080\n",
    "r = requests.post('http://0.0.0.0:{}/predict'.format(port),json=request_json)\n",
    "response = literal_eval(r.text)\n",
    "print(list(sorted(Counter(response['y_pred']).items())))"
   ]
  },
  {
   "cell_type": "code",
   "execution_count": 9,
   "metadata": {
    "autoscroll": false,
    "collapsed": false,
    "ein.hycell": false,
    "ein.tags": "worksheet-0",
    "slideshow": {
     "slide_type": "-"
    }
   },
   "outputs": [],
   "source": [
    "pm_tools = get_monitoring_tools(X,y)"
   ]
  },
  {
   "cell_type": "code",
   "execution_count": 11,
   "metadata": {
    "autoscroll": false,
    "collapsed": false,
    "ein.hycell": false,
    "ein.tags": "worksheet-0",
    "slideshow": {
     "slide_type": "-"
    }
   },
   "outputs": [
    {
     "data": {
      "text/html": [
       "<div>\n<style scoped>\n    .dataframe tbody tr th:only-of-type {\n        vertical-align: middle;\n    }\n\n    .dataframe tbody tr th {\n        vertical-align: top;\n    }\n\n    .dataframe thead th {\n        text-align: right;\n    }\n</style>\n<table border=\"1\" class=\"dataframe\">\n  <thead>\n    <tr style=\"text-align: right;\">\n      <th></th>\n      <th>timestamp</th>\n      <th>y_pred</th>\n      <th>query</th>\n      <th>model_version</th>\n      <th>runtime</th>\n    </tr>\n  </thead>\n  <tbody>\n    <tr>\n      <th>0</th>\n      <td>1.600335e+09</td>\n      <td>131096.260</td>\n      <td>[70944.81000000001, 70944.81000000001, 70944.8...</td>\n      <td>0.1</td>\n      <td>000:00:00</td>\n    </tr>\n    <tr>\n      <th>1</th>\n      <td>1.600335e+09</td>\n      <td>173592.643</td>\n      <td>[0.0, 18369.43, 138125.95, 196047.40000000002,...</td>\n      <td>0.1</td>\n      <td>000:00:00</td>\n    </tr>\n    <tr>\n      <th>2</th>\n      <td>1.600335e+09</td>\n      <td>140845.720</td>\n      <td>[38260.880000000005, 63571.35, 130696.35000000...</td>\n      <td>0.1</td>\n      <td>000:00:00</td>\n    </tr>\n    <tr>\n      <th>3</th>\n      <td>1.600335e+09</td>\n      <td>511576.651</td>\n      <td>[70301.64, 141592.591, 204040.10099999997, 611...</td>\n      <td>0.1</td>\n      <td>000:00:00</td>\n    </tr>\n    <tr>\n      <th>4</th>\n      <td>1.600335e+09</td>\n      <td>132062.040</td>\n      <td>[52863.740000000005, 335409.28, 498529.95, 833...</td>\n      <td>0.1</td>\n      <td>000:00:00</td>\n    </tr>\n  </tbody>\n</table>\n</div>"
      ],
      "text/plain": [
       "      timestamp      y_pred  \\\n0  1.600335e+09  131096.260   \n1  1.600335e+09  173592.643   \n2  1.600335e+09  140845.720   \n3  1.600335e+09  511576.651   \n4  1.600335e+09  132062.040   \n\n                                               query  model_version    runtime  \n0  [70944.81000000001, 70944.81000000001, 70944.8...            0.1  000:00:00  \n1  [0.0, 18369.43, 138125.95, 196047.40000000002,...            0.1  000:00:00  \n2  [38260.880000000005, 63571.35, 130696.35000000...            0.1  000:00:00  \n3  [70301.64, 141592.591, 204040.10099999997, 611...            0.1  000:00:00  \n4  [52863.740000000005, 335409.28, 498529.95, 833...            0.1  000:00:00  "
      ]
     },
     "execution_count": 11,
     "metadata": {},
     "output_type": "execute_result"
    }
   ],
   "source": [
    "# read in the logged data\n",
    "df = pd.read_csv(logfile)\n",
    "df.drop(columns=[\"unique_id\"], inplace = True)\n",
    "df.head()"
   ]
  },
  {
   "cell_type": "code",
   "execution_count": 12,
   "metadata": {
    "autoscroll": false,
    "collapsed": false,
    "ein.hycell": false,
    "ein.tags": "worksheet-0",
    "slideshow": {
     "slide_type": "-"
    }
   },
   "outputs": [
    {
     "name": "stdout",
     "output_type": "stream",
     "text": [
      "(63, 7)\n"
     ]
    },
    {
     "data": {
      "text/html": [
       "<div>\n<style scoped>\n    .dataframe tbody tr th:only-of-type {\n        vertical-align: middle;\n    }\n\n    .dataframe tbody tr th {\n        vertical-align: top;\n    }\n\n    .dataframe thead tr th {\n        text-align: left;\n    }\n</style>\n<table border=\"1\" class=\"dataframe\">\n  <thead>\n    <tr>\n      <th></th>\n      <th>previous_7</th>\n      <th>previous_14</th>\n      <th>previous_28</th>\n      <th>previous_70</th>\n      <th>previous_year</th>\n      <th>recent_invoices</th>\n      <th>recent_views</th>\n    </tr>\n  </thead>\n  <tbody>\n    <tr>\n      <th>0</th>\n      <td>70944.81</td>\n      <td>70944.810</td>\n      <td>70944.810</td>\n      <td>70944.810</td>\n      <td>0.00</td>\n      <td>3.677570</td>\n      <td>377.079439</td>\n    </tr>\n    <tr>\n      <th>1</th>\n      <td>0.00</td>\n      <td>18369.430</td>\n      <td>138125.950</td>\n      <td>196047.400</td>\n      <td>0.00</td>\n      <td>7.287500</td>\n      <td>624.304167</td>\n    </tr>\n    <tr>\n      <th>2</th>\n      <td>38260.88</td>\n      <td>63571.350</td>\n      <td>130696.350</td>\n      <td>362950.900</td>\n      <td>0.00</td>\n      <td>6.316667</td>\n      <td>585.996667</td>\n    </tr>\n    <tr>\n      <th>3</th>\n      <td>70301.64</td>\n      <td>141592.591</td>\n      <td>204040.101</td>\n      <td>611235.322</td>\n      <td>157574.50</td>\n      <td>10.963333</td>\n      <td>1104.330000</td>\n    </tr>\n    <tr>\n      <th>4</th>\n      <td>52863.74</td>\n      <td>335409.280</td>\n      <td>498529.950</td>\n      <td>833569.422</td>\n      <td>83667.31</td>\n      <td>10.400000</td>\n      <td>1371.436667</td>\n    </tr>\n  </tbody>\n</table>\n</div>"
      ],
      "text/plain": [
       "  previous_7 previous_14 previous_28 previous_70 previous_year  \\\n0   70944.81   70944.810   70944.810   70944.810          0.00   \n1       0.00   18369.430  138125.950  196047.400          0.00   \n2   38260.88   63571.350  130696.350  362950.900          0.00   \n3   70301.64  141592.591  204040.101  611235.322     157574.50   \n4   52863.74  335409.280  498529.950  833569.422      83667.31   \n\n  recent_invoices recent_views  \n0        3.677570   377.079439  \n1        7.287500   624.304167  \n2        6.316667   585.996667  \n3       10.963333  1104.330000  \n4       10.400000  1371.436667  "
      ]
     },
     "execution_count": 12,
     "metadata": {},
     "output_type": "execute_result"
    }
   ],
   "source": [
    "## reconstruct a data frame from the logged queries\n",
    "queries = [literal_eval(q) for q in df['query'].values]\n",
    "queries = pd.DataFrame(queries)\n",
    "queries.columns = [X.columns]\n",
    "print(queries.shape)\n",
    "queries.head()"
   ]
  },
  {
   "cell_type": "code",
   "execution_count": 13,
   "metadata": {
    "autoscroll": false,
    "collapsed": false,
    "ein.hycell": false,
    "ein.tags": "worksheet-0",
    "slideshow": {
     "slide_type": "-"
    }
   },
   "outputs": [
    {
     "name": "stdout",
     "output_type": "stream",
     "text": [
      "OUTLIER TEST PASSED: 0.0 < 1.9\n",
      "DISTRIBUTION X TEST FAILED: 0.14 >= 0.03\n",
      "DISTRIBUTION y TEST FAILED: 12653.22 >= 4061.18\n"
     ]
    },
    {
     "name": "stderr",
     "output_type": "stream",
     "text": [
      "/Users/marcohassan/Desktop/python_venv/coursera_capstone/lib/python3.7/site-packages/sklearn/compose/_column_transformer.py:440: FutureWarning: Given feature/column names or counts do not match the ones for the data given during fit. This will fail from v0.24.\n",
      "  FutureWarning)\n"
     ]
    },
    {
     "data": {
      "image/png": "[encoded data removed]",
      "text/plain": [
       "<Figure size 800x800 with 1 Axes>"
      ]
     },
     "metadata": {},
     "output_type": "display_data"
    }
   ],
   "source": [
    "import matplotlib.pyplot as plt\n",
    "from scipy.stats import wasserstein_distance\n",
    "X_target = pm_tools['preprocessor'].transform(queries)\n",
    "\n",
    "outlier_test = pm_tools['clf_X'].predict(X_target)\n",
    "outliers_X = 100 * (1.0 - (outlier_test[outlier_test==1].size / outlier_test.size))\n",
    "wasserstein_X = wasserstein_distance(pm_tools['X_source'].flatten(),X_target.flatten()) \n",
    "wasserstein_y = wasserstein_distance(pm_tools['y_source'],df['y_pred'].values)\n",
    "\n",
    "if outliers_X >= pm_tools['outlier_X']:\n",
    "    print(\"OUTLIER TEST FAILED: {} >= {}\".format(round(outliers_X,2),\n",
    "                                                 pm_tools['outlier_X']))\n",
    "else:\n",
    "    print(\"OUTLIER TEST PASSED: {} < {}\".format(round(outliers_X,2),\n",
    "                                                pm_tools['outlier_X']))\n",
    "    \n",
    "if wasserstein_X >= pm_tools['wasserstein_X']:\n",
    "    print(\"DISTRIBUTION X TEST FAILED: {} >= {}\".format(round(wasserstein_X,2),\n",
    "                                                        pm_tools['wasserstein_X']))\n",
    "else:\n",
    "    print(\"DISTRIBUTION X TEST PASSED: {} < {}\".format(round(wasserstein_X),\n",
    "                                                       pm_tools['wasserstein_X']))\n",
    "    \n",
    "if wasserstein_y >= pm_tools['wasserstein_y']:\n",
    "    print(\"DISTRIBUTION y TEST FAILED: {} >= {}\".format(round(wasserstein_y,2),\n",
    "                                                        pm_tools['wasserstein_y']))\n",
    "else:\n",
    "    print(\"DISTRIBUTION y TEST PASSED: {} < {}\".format(round(wasserstein_y),\n",
    "                                                       pm_tools['wasserstein_y']))\n",
    "\n",
    "fig = plt.figure(figsize=(2,2),dpi=400)\n",
    "ax = fig.add_subplot(111)\n",
    "\n",
    "x_range = np.arange(outlier_test.size)\n",
    "labels = ['outlier','normal']\n",
    "\n",
    "markerline, stemlines, baseline = ax.stem(x_range, outlier_test, '-.',\n",
    "                                          use_line_collection=True)\n",
    "\n",
    "plt.setp(baseline, 'color', 'r', 'linewidth', 2)\n",
    "ax.set_title(\"outlier visualization\")\n",
    "ax.set_ylabel(\"outlier=-1, normal=1\")\n",
    "ax.set_xlabel(\"queries (in time order)\");"
   ]
  },
  {
   "cell_type": "markdown",
   "metadata": {
    "ein.tags": "worksheet-0",
    "slideshow": {
     "slide_type": "-"
    }
   },
   "source": [
    "# Check for the production data"
   ]
  },
  {
   "cell_type": "code",
   "execution_count": 19,
   "metadata": {
    "autoscroll": false,
    "collapsed": false,
    "ein.hycell": false,
    "ein.tags": "worksheet-0",
    "slideshow": {
     "slide_type": "-"
    }
   },
   "outputs": [
    {
     "name": "stdout",
     "output_type": "stream",
     "text": [
      "you are importing this module\n"
     ]
    }
   ],
   "source": [
    "import importlib\n",
    "importlib.reload(sys.modules['model'])\n",
    "\n",
    "from model import fetch_data"
   ]
  },
  {
   "cell_type": "code",
   "execution_count": 21,
   "metadata": {
    "autoscroll": false,
    "collapsed": false,
    "ein.hycell": false,
    "ein.tags": "worksheet-0",
    "slideshow": {
     "slide_type": "-"
    }
   },
   "outputs": [
    {
     "name": "stdout",
     "output_type": "stream",
     "text": [
      "Fetching ...../ai-workflow-capstone/cs-production/invoices-2019-10.json\n"
     ]
    },
    {
     "name": "stdout",
     "output_type": "stream",
     "text": [
      "Fetching ...../ai-workflow-capstone/cs-production/invoices-2019-11.json\n"
     ]
    },
    {
     "name": "stdout",
     "output_type": "stream",
     "text": [
      "Fetching ...../ai-workflow-capstone/cs-production/invoices-2019-08.json\n"
     ]
    },
    {
     "name": "stdout",
     "output_type": "stream",
     "text": [
      "Fetching ...../ai-workflow-capstone/cs-production/invoices-2019-12.json\n",
      "Fetching ...../ai-workflow-capstone/cs-production/invoices-2019-09.json\n"
     ]
    }
   ],
   "source": [
    "df = fetch_data(\"./ai-workflow-capstone/cs-production/\")"
   ]
  },
  {
   "cell_type": "code",
   "execution_count": 26,
   "metadata": {
    "autoscroll": false,
    "collapsed": false,
    "ein.hycell": false,
    "ein.tags": "worksheet-0",
    "slideshow": {
     "slide_type": "-"
    }
   },
   "outputs": [],
   "source": [
    "## get observed training matrix and response in production\n",
    "X = df[0]\n",
    "y = df[1]"
   ]
  },
  {
   "cell_type": "code",
   "execution_count": null,
   "metadata": {
    "autoscroll": false,
    "collapsed": false,
    "ein.hycell": false,
    "ein.tags": "worksheet-0",
    "slideshow": {
     "slide_type": "-"
    }
   },
   "outputs": [],
   "source": [
    "## delete the log file so we are starting fresh\n",
    "today = date.today() \n",
    "logfile = os.path.join(\"logs\",\"predict-{}-{}.log\".format(today.year, today.month)) \n",
    "\n",
    "print(logfile)\n",
    "\n",
    "if os.path.exists(logfile):\n",
    "    os.remove(logfile)\n",
    "\n",
    "## ping the API\n",
    "test = dict()\n",
    "\n",
    "test['query'] = {}\n",
    "\n",
    "test['query']['data'] = X.to_numpy().tolist()\n",
    "test['query']['columns'] = list(X.columns)\n",
    "test['query']['idx'] = list(X.index)\n",
    "\n",
    "request_json = test\n",
    "port = 8080\n",
    "r = requests.post('http://0.0.0.0:{}/predict'.format(port),json=request_json)\n",
    "response = literal_eval(r.text)\n",
    "print(list(sorted(Counter(response['y_pred']).items())))\n"
   ]
  },
  {
   "cell_type": "code",
   "execution_count": 28,
   "metadata": {
    "autoscroll": false,
    "collapsed": false,
    "ein.hycell": false,
    "ein.tags": "worksheet-0",
    "slideshow": {
     "slide_type": "-"
    }
   },
   "outputs": [],
   "source": [
    "## load latest data\n",
    "data = get_latest_train_data()\n",
    "y_load = data['y']\n",
    "X_load = data['X']\n",
    "\n",
    "## get the quantiles for the wasserstein distance as well outliers\n",
    "## thresholds\n",
    "pm_tools = get_monitoring_tools(X_load,y_load)"
   ]
  },
  {
   "cell_type": "code",
   "execution_count": 31,
   "metadata": {
    "autoscroll": false,
    "collapsed": false,
    "ein.hycell": false,
    "ein.tags": "worksheet-0",
    "slideshow": {
     "slide_type": "-"
    }
   },
   "outputs": [
    {
     "data": {
      "text/html": [
       "<div>\n<style scoped>\n    .dataframe tbody tr th:only-of-type {\n        vertical-align: middle;\n    }\n\n    .dataframe tbody tr th {\n        vertical-align: top;\n    }\n\n    .dataframe thead th {\n        text-align: right;\n    }\n</style>\n<table border=\"1\" class=\"dataframe\">\n  <thead>\n    <tr style=\"text-align: right;\">\n      <th></th>\n      <th>timestamp</th>\n      <th>y_pred</th>\n      <th>query</th>\n      <th>model_version</th>\n      <th>runtime</th>\n    </tr>\n  </thead>\n  <tbody>\n    <tr>\n      <th>0</th>\n      <td>1.600337e+09</td>\n      <td>285290.022</td>\n      <td>[6348.070000000001, 6348.070000000001, 6348.07...</td>\n      <td>0.1</td>\n      <td>000:00:00</td>\n    </tr>\n    <tr>\n      <th>1</th>\n      <td>1.600337e+09</td>\n      <td>163474.452</td>\n      <td>[10751.23, 10751.23, 10751.23, 10751.23, 0.0, ...</td>\n      <td>0.1</td>\n      <td>000:00:00</td>\n    </tr>\n    <tr>\n      <th>2</th>\n      <td>1.600337e+09</td>\n      <td>179147.054</td>\n      <td>[10751.23, 10751.23, 10751.23, 10751.23, 0.0, ...</td>\n      <td>0.1</td>\n      <td>000:00:00</td>\n    </tr>\n    <tr>\n      <th>3</th>\n      <td>1.600337e+09</td>\n      <td>179147.054</td>\n      <td>[12061.98, 12061.98, 12061.98, 12061.98, 0.0, ...</td>\n      <td>0.1</td>\n      <td>000:00:00</td>\n    </tr>\n    <tr>\n      <th>4</th>\n      <td>1.600337e+09</td>\n      <td>179147.054</td>\n      <td>[20242.410000000003, 20242.410000000003, 20242...</td>\n      <td>0.1</td>\n      <td>000:00:00</td>\n    </tr>\n  </tbody>\n</table>\n</div>"
      ],
      "text/plain": [
       "      timestamp      y_pred  \\\n0  1.600337e+09  285290.022   \n1  1.600337e+09  163474.452   \n2  1.600337e+09  179147.054   \n3  1.600337e+09  179147.054   \n4  1.600337e+09  179147.054   \n\n                                               query  model_version    runtime  \n0  [6348.070000000001, 6348.070000000001, 6348.07...            0.1  000:00:00  \n1  [10751.23, 10751.23, 10751.23, 10751.23, 0.0, ...            0.1  000:00:00  \n2  [10751.23, 10751.23, 10751.23, 10751.23, 0.0, ...            0.1  000:00:00  \n3  [12061.98, 12061.98, 12061.98, 12061.98, 0.0, ...            0.1  000:00:00  \n4  [20242.410000000003, 20242.410000000003, 20242...            0.1  000:00:00  "
      ]
     },
     "execution_count": 31,
     "metadata": {},
     "output_type": "execute_result"
    }
   ],
   "source": [
    "df = pd.read_csv(logfile)\n",
    "df.drop(columns=[\"unique_id\"], inplace = True)\n",
    "df.head()"
   ]
  },
  {
   "cell_type": "code",
   "execution_count": 32,
   "metadata": {
    "autoscroll": false,
    "collapsed": false,
    "ein.hycell": false,
    "ein.tags": "worksheet-0",
    "slideshow": {
     "slide_type": "-"
    }
   },
   "outputs": [
    {
     "name": "stdout",
     "output_type": "stream",
     "text": [
      "(1059, 7)\n"
     ]
    }
   ],
   "source": [
    "## reconstruct a data frame from the logged queries\n",
    "queries = [literal_eval(q) for q in df['query'].values]\n",
    "queries = pd.DataFrame(queries)\n",
    "queries.columns = [X.columns]\n",
    "print(queries.shape)"
   ]
  },
  {
   "cell_type": "code",
   "execution_count": 44,
   "metadata": {
    "autoscroll": false,
    "collapsed": false,
    "ein.hycell": false,
    "ein.tags": "worksheet-0",
    "slideshow": {
     "slide_type": "-"
    }
   },
   "outputs": [
    {
     "name": "stderr",
     "output_type": "stream",
     "text": [
      "/Users/marcohassan/Desktop/python_venv/coursera_capstone/lib/python3.7/site-packages/sklearn/compose/_column_transformer.py:440: FutureWarning: Given feature/column names or counts do not match the ones for the data given during fit. This will fail from v0.24.\n",
      "  FutureWarning)\n"
     ]
    },
    {
     "name": "stdout",
     "output_type": "stream",
     "text": [
      "OUTLIER TEST FAILED: 100.0 >= 1.8\n",
      "DISTRIBUTION X TEST FAILED: 0.29 >= 0.03\n",
      "DISTRIBUTION y TEST FAILED: 54893.05 >= 4063.29\n"
     ]
    },
    {
     "data": {
      "image/png": "[encoded data removed]",
      "text/plain": [
       "<Figure size 800x800 with 1 Axes>"
      ]
     },
     "metadata": {},
     "output_type": "display_data"
    }
   ],
   "source": [
    "import matplotlib.pyplot as plt\n",
    "from scipy.stats import wasserstein_distance\n",
    "X_target = pm_tools['preprocessor'].transform(queries)\n",
    "\n",
    "outlier_test = pm_tools['clf_X'].predict(X_target)\n",
    "outliers_X = 100 * (1.0 - (outlier_test[outlier_test==1].size / outlier_test.size))\n",
    "wasserstein_X = wasserstein_distance(pm_tools['X_source'].flatten(),X_target.flatten()) \n",
    "wasserstein_y = wasserstein_distance(pm_tools['y_source'],df['y_pred'].values)\n",
    "\n",
    "if outliers_X >= pm_tools['outlier_X']:\n",
    "    print(\"OUTLIER TEST FAILED: {} >= {}\".format(round(outliers_X,2),\n",
    "                                                 pm_tools['outlier_X']))\n",
    "else:\n",
    "    print(\"OUTLIER TEST PASSED: {} < {}\".format(round(outliers_X,2),\n",
    "                                                pm_tools['outlier_X']))\n",
    "    \n",
    "if wasserstein_X >= pm_tools['wasserstein_X']:\n",
    "    print(\"DISTRIBUTION X TEST FAILED: {} >= {}\".format(round(wasserstein_X,2),\n",
    "                                                        pm_tools['wasserstein_X']))\n",
    "else:\n",
    "    print(\"DISTRIBUTION X TEST PASSED: {} < {}\".format(round(wasserstein_X),\n",
    "                                                       pm_tools['wasserstein_X']))\n",
    "    \n",
    "if wasserstein_y >= pm_tools['wasserstein_y']:\n",
    "    print(\"DISTRIBUTION y TEST FAILED: {} >= {}\".format(round(wasserstein_y,2),\n",
    "                                                        pm_tools['wasserstein_y']))\n",
    "else:\n",
    "    print(\"DISTRIBUTION y TEST PASSED: {} < {}\".format(round(wasserstein_y),\n",
    "                                                       pm_tools['wasserstein_y']))\n",
    "\n",
    "fig = plt.figure(figsize=(2,2),dpi=400)\n",
    "ax = fig.add_subplot(111)\n",
    "\n",
    "x_range = np.arange(outlier_test.size)\n",
    "labels = ['outlier','normal']\n",
    "\n",
    "markerline, stemlines, baseline = ax.stem(x_range, outlier_test, '-.',\n",
    "                                          use_line_collection=True)\n",
    "\n",
    "plt.setp(baseline, 'color', 'r', 'linewidth', 2)\n",
    "ax.set_title(\"outlier visualization\")\n",
    "ax.set_ylabel(\"outlier=-1, normal=1\")\n",
    "ax.set_xlabel(\"queries (in time order)\");\n"
   ]
  },
  {
   "cell_type": "markdown",
   "metadata": {
    "ein.tags": "worksheet-0",
    "slideshow": {
     "slide_type": "-"
    }
   },
   "source": [
    "We therefore see from the above that there was a significant and\n",
    "important shift in the distribution.\n",
    "\n",
    "Interesting no outliers are present out of sample using such method\n",
    "referring to the elliptical curve."
   ]
  }
 ],
 "metadata": {
  "kernelspec": {
   "argv": [
    "/Users/marcohassan/Desktop/python_venv/coursera_capstone/bin/python3.7",
    "-m",
    "ipykernel_launcher",
    "-f",
    "{connection_file}"
   ],
   "display_name": "coursera_capstone",
   "env": null,
   "interrupt_mode": "signal",
   "language": "python",
   "metadata": null,
   "name": "coursera_capstone"
  },
  "language_info": {
   "codemirror_mode": {
    "name": "ipython",
    "version": 3
   },
   "file_extension": ".py",
   "mimetype": "text/x-python",
   "name": "python",
   "nbconvert_exporter": "python",
   "pygments_lexer": "ipython3",
   "version": "3.7.5"
  },
  "name": "m6_dist_outlier.ipynb"
 },
 "nbformat": 4,
 "nbformat_minor": 4
}
