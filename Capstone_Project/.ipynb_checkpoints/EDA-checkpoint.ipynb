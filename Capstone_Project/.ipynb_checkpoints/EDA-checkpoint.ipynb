{
 "cells": [
  {
   "cell_type": "code",
   "execution_count": null,
   "metadata": {
    "autoscroll": false,
    "collapsed": false,
    "ein.hycell": false,
    "ein.tags": "worksheet-0",
    "slideshow": {
     "slide_type": "-"
    }
   },
   "outputs": [],
   "source": [
    "a = engineer_features(df_aggregate)"
   ]
  },
  {
   "cell_type": "code",
   "execution_count": 19,
   "metadata": {
    "autoscroll": false,
    "collapsed": false,
    "ein.hycell": false,
    "ein.tags": "worksheet-0",
    "slideshow": {
     "slide_type": "-"
    }
   },
   "outputs": [
    {
     "data": {
      "text/plain": [
       "<module 'functions' from '/Users/marcohassan/Desktop/Learning/AI_workflow_Coursera/Capstone_Project/functions.py'>"
      ]
     },
     "execution_count": 19,
     "metadata": {},
     "output_type": "execute_result"
    }
   ],
   "source": [
    "import importlib\n",
    "importlib.reload(functions)"
   ]
  },
  {
   "cell_type": "code",
   "execution_count": 619,
   "metadata": {
    "autoscroll": false,
    "collapsed": false,
    "ein.hycell": false,
    "ein.tags": "worksheet-0",
    "slideshow": {
     "slide_type": "-"
    }
   },
   "outputs": [],
   "source": [
    "features_mat = functions.engineer_features_by_country(df_aggregate,\n",
    "                                                      training = 0,\n",
    "                                                      countries = max_countries)"
   ]
  },
  {
   "cell_type": "code",
   "execution_count": null,
   "metadata": {
    "autoscroll": false,
    "collapsed": false,
    "ein.hycell": false,
    "ein.tags": "worksheet-0",
    "slideshow": {
     "slide_type": "-"
    }
   },
   "outputs": [],
   "source": [
    "param_grid_svm = {\n",
    "      'svr__C': [0.01,0.1,0.5,1.0,1.5,5.0,10.0],\n",
    "}\n",
    "\n",
    "pipe_svr = Pipeline(steps = \n",
    "                    [\n",
    "                        ('pre', preprocessor),\n",
    "                        ('svr', SVR(kernel = 'rbf'))\n",
    "                    ])\n",
    "\n",
    "grid = GridSearchCV(pipe_svr,\n",
    "\t\t    param_grid=param_grid_svm,\n",
    "\t\t    cv=5)\n",
    "\n",
    "grid.fit(X_train, y_train)\n",
    "\n",
    "y_pred = grid.predict(X_test)\n",
    "\n",
    "best_params = grid.best_params_\n",
    "\n",
    "\n",
    "\n"
   ]
  },
  {
   "cell_type": "code",
   "execution_count": null,
   "metadata": {
    "autoscroll": false,
    "collapsed": false,
    "ein.hycell": false,
    "ein.tags": "worksheet-0",
    "slideshow": {
     "slide_type": "-"
    }
   },
   "outputs": [],
   "source": [
    "y_pred"
   ]
  },
  {
   "cell_type": "code",
   "execution_count": null,
   "metadata": {
    "autoscroll": false,
    "collapsed": false,
    "ein.hycell": false,
    "ein.tags": "worksheet-0",
    "slideshow": {
     "slide_type": "-"
    }
   },
   "outputs": [],
   "source": [
    "int (len (features_mat)*0.7)"
   ]
  },
  {
   "cell_type": "code",
   "execution_count": 172,
   "metadata": {
    "autoscroll": false,
    "collapsed": false,
    "ein.hycell": false,
    "ein.tags": "worksheet-0",
    "slideshow": {
     "slide_type": "-"
    }
   },
   "outputs": [
    {
     "name": "stdout",
     "output_type": "stream",
     "text": [
      "Random Forest \n",
      "===================================\n",
      "\n",
      " Mean Squared Error: 8775565821.677137 \n",
      " Mean Absolute Error : 58317.993981713655\n"
     ]
    }
   ],
   "source": [
    "print(\"Random Forest \\n{}\\n\\n Mean Squared Error: {} \\n Mean Absolute Error : {}\". \\\n",
    "      format(\"=\" * 35, \n",
    "             mean_squared_error(y_test, y_pred), \n",
    "             mean_absolute_error(y_test, y_pred)\n",
    "             )\n",
    "      )"
   ]
  }
 ],
 "metadata": {
  "kernelspec": {
   "argv": [
    "/Users/marcohassan/Desktop/python_venv/coursera_capstone/bin/python3.7",
    "-m",
    "ipykernel_launcher",
    "-f",
    "{connection_file}"
   ],
   "display_name": "coursera_capstone",
   "env": null,
   "interrupt_mode": "signal",
   "language": "python",
   "metadata": null,
   "name": "coursera_capstone"
  },
  "name": "EDA.ipynb"
 },
 "nbformat": 4,
 "nbformat_minor": 2
}
