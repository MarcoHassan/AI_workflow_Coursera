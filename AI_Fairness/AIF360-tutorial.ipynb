{
 "cells": [
  {
   "cell_type": "markdown",
   "metadata": {
    "ein.tags": "worksheet-0",
    "slideshow": {
     "slide_type": "-"
    }
   },
   "source": [
    "# Detecting and mitigating age bias on credit decisions \n",
    "\n",
    "The goal of this tutorial is to introduce the basic functionality of\n",
    "AI Fairness 360 to an interested developer who may not have a\n",
    "background in bias detection and mitigation.\n",
    "\n",
    "### Biases and Machine Learning\n",
    "\n",
    "A machine learning model makes predictions of an outcome for a\n",
    "particular instance. (Given an instance of a loan application, predict\n",
    "                      if the applicant will repay the loan.)\n",
    "\n",
    "The model makes these predictions based on a training dataset, where\n",
    "many other instances (other loan applications) and actual outcomes\n",
    "(whether they repaid) are provided.\n",
    "\n",
    "Thus, a machine learning algorithm will attempt to find patterns, or\n",
    "generalizations, in the training dataset to use when a prediction for\n",
    "a new instance is needed. (For example, one pattern it might discover\n",
    "is \"if a person has salary > USD 40K and has outstanding debt < USD 5,\n",
    "they will repay the loan\".)  In many domains this technique, called\n",
    "supervised machine learning, has worked very well.\n",
    "\n",
    "However, sometimes the patterns that are found may not be desirable or\n",
    "may even be illegal. For example, a loan repay model may determine\n",
    "that age plays a significant role in the prediction of repayment\n",
    "because the training dataset happened to have better repayment for one\n",
    "age group than for another. This raises two problems: (1) the training\n",
    "dataset may not be representative of the true population of people of\n",
    "all age groups, and (2) even if it is representative, it is illegal to\n",
    "base any decision on a applicant's age, regardless of whether this is\n",
    "a good prediction based on historical data.\n",
    "\n",
    "AI Fairness 360 is designed to help address this problem with\n",
    "_fairness metrics_ and _bias mitigators_.  Fairness metrics can be\n",
    "used to check for bias in machine learning workflows.  Bias mitigators\n",
    "can be used to overcome bias in the workflow to produce a more fair\n",
    "outcome.\n",
    "\n",
    "The loan scenario describes an intuitive example of illegal\n",
    "bias. However, not all undesirable bias in machine learning is illegal\n",
    "it may also exist in more subtle ways.  For example, a loan company\n",
    "may want a diverse portfolio of customers across all income levels,\n",
    "and thus, will deem it undesirable if they are making more loans to\n",
    "high income levels over low income levels.  Although this is not\n",
    "illegal or unethical, it is undesirable for the company's strategy.\n",
    "\n",
    "As these two examples illustrate, a bias detection and/or mitigation\n",
    "toolkit needs to be tailored to the particular bias of interest.  More\n",
    "specifically, it needs to know the attribute or attributes, called\n",
    "_protected attributes_, that are of interest: race is one example of a\n",
    "_protected attribute_ and age is a second.\n",
    "\n",
    "### The Machine Learning Workflow\n",
    "\n",
    "To understand how bias can enter a machine learning model, we first\n",
    "review the basics of how a model is created in a supervised machine\n",
    "learning process.\n",
    "\n",
    "![Complex_NoProc_V3.jpg](attachment:Complex_NoProc_V3.jpg)\n",
    "\n",
    "First, the process starts with a _training dataset_, which contains a\n",
    "sequence of instances, where each instance has two components: the\n",
    "features and the correct prediction for those features.  Next, a\n",
    "machine learning algorithm is trained on this training dataset to\n",
    "produce a machine learning model.  This generated model can be used to\n",
    "make a prediction when given a new instance.  A second dataset with\n",
    "features and correct predictions, called a _test dataset_, is used to\n",
    "assess the accuracy of the model.  Since this test dataset is the same\n",
    "format as the training dataset, a set of instances of features and\n",
    "prediction pairs, often these two datasets derive from the same\n",
    "initial dataset.  A random partitioning algorithm is used to split the\n",
    "initial dataset into training and test datasets.\n",
    "\n",
    "Bias can enter the system in any of the three steps above.  The\n",
    "training data set may be biased in that its outcomes may be biased\n",
    "towards particular kinds of instances.  The algorithm that creates the\n",
    "model may be biased in that it may generate models that are weighted\n",
    "towards particular features in the input. The test data set may be\n",
    "biased in that it has expectations on correct answers that may be\n",
    "biased.  These three points in the machine learning process represent\n",
    "points for testing and mitigating bias.  In AI Fairness 360 codebase,\n",
    "we call these points _pre-processing_, _in-processing_, and\n",
    "_post-processing_.\n",
    "\n",
    "### AI Fairness 360\n",
    "\n",
    "We are now ready to utilize AI Fairness 360 (`aif360`) to detect and\n",
    "mitigate bias.  We will use the German credit dataset, splitting it\n",
    "into a training and test dataset.\n",
    "\n",
    "We will look for bias in the creation of a machine learning model to\n",
    "predict if an applicant should be given credit based on various\n",
    "features from a typical credit application.\n",
    "\n",
    "The protected attribute will be\n",
    "\n",
    "- \"Age\", with \"1\" (older than or equal to 25) and \"0\" (younger than\n",
    "  25) being the values for the privileged and unprivileged groups,\n",
    "  respectively.\n",
    "\n",
    "For this first tutorial, we will check for bias in the initial\n",
    "training data, mitigate the bias, and recheck.  More sophisticated\n",
    "machine learning workflows are given in the author tutorials and demo\n",
    "notebooks in the codebase.\n",
    "\n",
    "Here are the steps involved\n",
    "#### Step 1: Write import statements\n",
    "#### Step 2: Set bias detection options, load dataset, and split between train and test\n",
    "#### Step 3: Compute fairness metric on original training dataset\n",
    "#### Step 4: Mitigate bias by transforming the original dataset\n",
    "#### Step 5: Compute fairness metric on transformed training dataset\n",
    "\n",
    "### Step 1 Import Statements\n",
    "\n",
    "As with any python program, the first step will be to import the\n",
    "necessary packages.  Below we import several components from the\n",
    "`aif360` package.  We import the GermanDataset, metrics to check for\n",
    "bias, and classes related to the algorithm we will use to mitigate\n",
    "bias."
   ]
  },
  {
   "cell_type": "code",
   "execution_count": 1,
   "metadata": {
    "autoscroll": false,
    "collapsed": false,
    "ein.hycell": false,
    "ein.tags": "worksheet-0",
    "slideshow": {
     "slide_type": "-"
    }
   },
   "outputs": [],
   "source": [
    "%%capture\n",
    "! pip3 install aif360"
   ]
  },
  {
   "cell_type": "code",
   "execution_count": 3,
   "metadata": {
    "autoscroll": false,
    "collapsed": false,
    "ein.hycell": false,
    "ein.tags": "worksheet-0",
    "slideshow": {
     "slide_type": "-"
    }
   },
   "outputs": [
    {
     "name": "stdout",
     "output_type": "stream",
     "text": [
      "aif360==0.3.0\r\n",
      "traitlets==4.3.3\r\n"
     ]
    }
   ],
   "source": [
    "! pip3 freeze | grep aif*"
   ]
  },
  {
   "cell_type": "code",
   "execution_count": 9,
   "metadata": {
    "autoscroll": false,
    "collapsed": false,
    "ein.hycell": false,
    "ein.tags": "worksheet-0",
    "slideshow": {
     "slide_type": "-"
    }
   },
   "outputs": [],
   "source": [
    "# Load all necessary packages\n",
    "import sys\n",
    "sys.path.insert(1, \"../\")  \n",
    "\n",
    "import numpy as np\n",
    "np.random.seed(0)\n",
    "\n",
    "from aif360.datasets import GermanDataset\n",
    "from aif360.metrics import BinaryLabelDatasetMetric\n",
    "from aif360.algorithms.preprocessing import Reweighing\n",
    "\n",
    "from IPython.display import Markdown, display"
   ]
  },
  {
   "cell_type": "markdown",
   "metadata": {
    "ein.tags": "worksheet-0",
    "slideshow": {
     "slide_type": "-"
    }
   },
   "source": [
    "### Step 2 Load dataset, specifying protected attribute, and split dataset into train and test\n",
    "\n",
    "In Step 2 we load the initial dataset, setting the protected attribute\n",
    "to be age.\n",
    "\n",
    "We then splits the original dataset into training and testing\n",
    "datasets.  Although we will use only the training dataset in this\n",
    "tutorial, a normal workflow would also use a test dataset for\n",
    "assessing the efficacy (accuracy, fairness, etc.) during the\n",
    "development of a machine learning model.\n",
    "\n",
    "Finally, we set two variables (to be used in Step 3) for the\n",
    "privileged (1) and unprivileged (0) values for the age attribute.\n",
    "These are key inputs for detecting and mitigating bias, which will be\n",
    "Step 3 and Step 4."
   ]
  },
  {
   "cell_type": "code",
   "execution_count": 10,
   "metadata": {
    "autoscroll": false,
    "collapsed": false,
    "ein.hycell": false,
    "ein.tags": "worksheet-0",
    "slideshow": {
     "slide_type": "-"
    }
   },
   "outputs": [
    {
     "name": "stderr",
     "output_type": "stream",
     "text": [
      "ERROR:root:Internal Python error in the inspect module.\n",
      "Below is the traceback from this internal error.\n",
      "\n"
     ]
    },
    {
     "name": "stdout",
     "output_type": "stream",
     "text": [
      "IOError: [Errno 2] File /Users/marcohassan/Desktop/python_venv/TreeSchutz/lib/python3.7/site-packages/aif360/datasets/../data/raw/german/german.data does not exist: '/Users/marcohassan/Desktop/python_venv/TreeSchutz/lib/python3.7/site-packages/aif360/datasets/../data/raw/german/german.data'\n",
      "To use this class, please download the following files:\n",
      "\n",
      "\thttps://archive.ics.uci.edu/ml/machine-learning-databases/statlog/german/german.data\n",
      "\thttps://archive.ics.uci.edu/ml/machine-learning-databases/statlog/german/german.doc\n",
      "\n",
      "and place them, as-is, in the folder:\n",
      "\n",
      "\t/Users/marcohassan/Desktop/python_venv/TreeSchutz/lib/python3.7/site-packages/aif360/data/raw/german\n",
      "\n",
      "Traceback (most recent call last):\n",
      "  File \"/Users/marcohassan/Desktop/python_venv/TreeSchutz/lib/python3.7/site-packages/aif360/datasets/german_dataset.py\", line 79, in __init__\n",
      "    na_values=na_values)\n",
      "  File \"/Users/marcohassan/Desktop/python_venv/TreeSchutz/lib/python3.7/site-packages/pandas/io/parsers.py\", line 676, in parser_f\n",
      "    return _read(filepath_or_buffer, kwds)\n",
      "  File \"/Users/marcohassan/Desktop/python_venv/TreeSchutz/lib/python3.7/site-packages/pandas/io/parsers.py\", line 448, in _read\n",
      "    parser = TextFileReader(fp_or_buf, **kwds)\n",
      "  File \"/Users/marcohassan/Desktop/python_venv/TreeSchutz/lib/python3.7/site-packages/pandas/io/parsers.py\", line 880, in __init__\n",
      "    self._make_engine(self.engine)\n",
      "  File \"/Users/marcohassan/Desktop/python_venv/TreeSchutz/lib/python3.7/site-packages/pandas/io/parsers.py\", line 1114, in _make_engine\n",
      "    self._engine = CParserWrapper(self.f, **self.options)\n",
      "  File \"/Users/marcohassan/Desktop/python_venv/TreeSchutz/lib/python3.7/site-packages/pandas/io/parsers.py\", line 1891, in __init__\n",
      "    self._reader = parsers.TextReader(src, **kwds)\n",
      "  File \"pandas/_libs/parsers.pyx\", line 374, in pandas._libs.parsers.TextReader.__cinit__\n",
      "  File \"pandas/_libs/parsers.pyx\", line 673, in pandas._libs.parsers.TextReader._setup_parser_source\n",
      "FileNotFoundError: [Errno 2] File /Users/marcohassan/Desktop/python_venv/TreeSchutz/lib/python3.7/site-packages/aif360/datasets/../data/raw/german/german.data does not exist: '/Users/marcohassan/Desktop/python_venv/TreeSchutz/lib/python3.7/site-packages/aif360/datasets/../data/raw/german/german.data'\n",
      "\n",
      "During handling of the above exception, another exception occurred:\n",
      "\n",
      "Traceback (most recent call last):\n",
      "  File \"/Users/marcohassan/Desktop/python_venv/TreeSchutz/lib/python3.7/site-packages/IPython/core/interactiveshell.py\", line 3331, in run_code\n",
      "    exec(code_obj, self.user_global_ns, self.user_ns)\n",
      "  File \"<ipython-input-10-85f96164a29c>\", line 6, in <module>\n",
      "    features_to_drop=['personal_status', 'sex'] # ignore sex-related attributes\n",
      "  File \"/Users/marcohassan/Desktop/python_venv/TreeSchutz/lib/python3.7/site-packages/aif360/datasets/german_dataset.py\", line 89, in __init__\n",
      "    sys.exit(1)\n",
      "SystemExit: 1\n",
      "\n",
      "During handling of the above exception, another exception occurred:\n",
      "\n",
      "Traceback (most recent call last):\n",
      "  File \"/Users/marcohassan/Desktop/python_venv/TreeSchutz/lib/python3.7/site-packages/IPython/core/ultratb.py\", line 1151, in get_records\n",
      "    return _fixed_getinnerframes(etb, number_of_lines_of_context, tb_offset)\n",
      "  File \"/Users/marcohassan/Desktop/python_venv/TreeSchutz/lib/python3.7/site-packages/IPython/core/ultratb.py\", line 319, in wrapped\n",
      "    return f(*args, **kwargs)\n",
      "  File \"/Users/marcohassan/Desktop/python_venv/TreeSchutz/lib/python3.7/site-packages/IPython/core/ultratb.py\", line 353, in _fixed_getinnerframes\n",
      "    records = fix_frame_records_filenames(inspect.getinnerframes(etb, context))\n",
      "  File \"/usr/local/Cellar/python/3.7.7/Frameworks/Python.framework/Versions/3.7/lib/python3.7/inspect.py\", line 1502, in getinnerframes\n",
      "    frameinfo = (tb.tb_frame,) + getframeinfo(tb, context)\n",
      "AttributeError: 'tuple' object has no attribute 'tb_frame'\n"
     ]
    },
    {
     "ename": "SystemExit",
     "evalue": "1",
     "output_type": "error",
     "traceback": [
      "An exception has occurred, use %tb to see the full traceback.\n",
      "\u001b[0;31m\u001b[0m",
      "\nDuring handling of the above exception, another exception occurred:\n",
      "\u001b[0;31mSystemExit\u001b[0m\u001b[0;31m:\u001b[0m 1\n"
     ]
    }
   ],
   "source": [
    "dataset_orig = GermanDataset(\n",
    "    protected_attribute_names=['age'],           # this dataset also contains protected\n",
    "                                                 # attribute for \"sex\" which we do not\n",
    "                                                 # consider in this evaluation\n",
    "    privileged_classes=[lambda x: x >= 25],      # age >=25 is considered privileged\n",
    "    features_to_drop=['personal_status', 'sex'] # ignore sex-related attributes\n",
    ")\n",
    "\n",
    "dataset_orig_train, dataset_orig_test = dataset_orig.split([0.7], shuffle=True)\n",
    "\n",
    "privileged_groups = [{'age': 1}]\n",
    "unprivileged_groups = [{'age': 0}]"
   ]
  },
  {
   "cell_type": "markdown",
   "metadata": {
    "ein.tags": "worksheet-0",
    "slideshow": {
     "slide_type": "-"
    }
   },
   "source": [
    "### Step 3 Compute fairness metric on original training dataset\n",
    "\n",
    "Now that we've identified the protected attribute 'age' and defined\n",
    "privileged and unprivileged values, we can use aif360 to detect bias\n",
    "in the dataset.  \n",
    "\n",
    "One simple test is to compare the percentage of favorable results for\n",
    "the privileged and unprivileged groups, subtracting the former\n",
    "percentage from the latter.  A negative value indicates less favorable\n",
    "outcomes for the unprivileged groups.  This is implemented in the\n",
    "method called mean_difference on the BinaryLabelDatasetMetric class.\n",
    "The code below performs this check and displays the output, showing\n",
    "that the difference is -0.169905."
   ]
  },
  {
   "cell_type": "code",
   "execution_count": 7,
   "metadata": {
    "autoscroll": false,
    "collapsed": false,
    "ein.hycell": false,
    "ein.tags": "worksheet-0",
    "slideshow": {
     "slide_type": "-"
    }
   },
   "outputs": [
    {
     "data": {
      "text/markdown": [
       "#### Original training dataset"
      ],
      "text/plain": [
       "<IPython.core.display.Markdown object>"
      ]
     },
     "metadata": {},
     "output_type": "display_data"
    },
    {
     "name": "stdout",
     "output_type": "stream",
     "text": [
      "Difference in mean outcomes between unprivileged and privileged groups = -0.169905\n"
     ]
    }
   ],
   "source": [
    "metric_orig_train = BinaryLabelDatasetMetric(dataset_orig_train, \n",
    "                                             unprivileged_groups=unprivileged_groups,\n",
    "                                             privileged_groups=privileged_groups)\n",
    "display(Markdown(\"#### Original training dataset\"))\n",
    "print(\"Difference in mean outcomes between unprivileged and privileged groups = %f\" % metric_orig_train.mean_difference())"
   ]
  },
  {
   "cell_type": "markdown",
   "metadata": {
    "ein.tags": "worksheet-0",
    "slideshow": {
     "slide_type": "-"
    }
   },
   "source": [
    "### Step 4 Mitigate bias by transforming the original dataset The\n",
    "previous step showed that the privileged group was getting 17% more\n",
    "positive outcomes in the training dataset.  Since this is not\n",
    "desirable, we are going to try to mitigate this bias in the training\n",
    "dataset.  As stated above, this is called _pre-processing_ mitigation\n",
    "because it happens before the creation of the model.\n",
    "\n",
    "AI Fairness 360 implements several pre-processing mitigation\n",
    "algorithms.  We will choose the Reweighing algorithm [1], which is\n",
    "implemented in the `Reweighing` class in the\n",
    "`aif360.algorithms.preprocessing` package.  This algorithm will\n",
    "transform the dataset to have more equity in positive outcomes on the\n",
    "protected attribute for the privileged and unprivileged groups.\n",
    "\n",
    "We then call the fit and transform methods to perform the transformation, producing a newly transformed training dataset (dataset_transf_train).\n",
    "\n",
    "`[1] F. Kamiran and T. Calders,  \"Data Preprocessing Techniques for Classification without Discrimination,\" Knowledge and Information Systems, 2012.`"
   ]
  },
  {
   "cell_type": "code",
   "execution_count": 4,
   "metadata": {
    "autoscroll": false,
    "collapsed": false,
    "ein.hycell": false,
    "ein.tags": "worksheet-0",
    "slideshow": {
     "slide_type": "-"
    }
   },
   "outputs": [],
   "source": [
    "RW = Reweighing(unprivileged_groups=unprivileged_groups,\n",
    "                privileged_groups=privileged_groups)\n",
    "dataset_transf_train = RW.fit_transform(dataset_orig_train)"
   ]
  },
  {
   "cell_type": "markdown",
   "metadata": {
    "ein.tags": "worksheet-0",
    "slideshow": {
     "slide_type": "-"
    }
   },
   "source": [
    "### Step 5 Compute fairness metric on transformed dataset\n",
    "\n",
    "Now that we have a transformed dataset, we can check how effective it\n",
    "was in removing bias by using the same metric we used for the original\n",
    "training dataset in Step 3.  Once again, we use the function\n",
    "mean_difference in the BinaryLabelDatasetMetric class.  We see the\n",
    "mitigation step was very effective, the difference in mean outcomes is\n",
    "now 0.0.  So we went from a 17% advantage for the privileged group to\n",
    "equality in terms of mean outcome."
   ]
  },
  {
   "cell_type": "code",
   "execution_count": 5,
   "metadata": {
    "autoscroll": false,
    "collapsed": false,
    "ein.hycell": false,
    "ein.tags": "worksheet-0",
    "slideshow": {
     "slide_type": "-"
    }
   },
   "outputs": [
    {
     "data": {
      "text/markdown": [
       "#### Transformed training dataset"
      ],
      "text/plain": [
       "<IPython.core.display.Markdown object>"
      ]
     },
     "metadata": {},
     "output_type": "display_data"
    },
    {
     "name": "stdout",
     "output_type": "stream",
     "text": [
      "Difference in mean outcomes between unprivileged and privileged groups = 0.000000\n"
     ]
    }
   ],
   "source": [
    "metric_transf_train = BinaryLabelDatasetMetric(dataset_transf_train, \n",
    "                                               unprivileged_groups=unprivileged_groups,\n",
    "                                               privileged_groups=privileged_groups)\n",
    "display(Markdown(\"#### Transformed training dataset\"))\n",
    "print(\"Difference in mean outcomes between unprivileged and privileged groups = %f\" % metric_transf_train.mean_difference())"
   ]
  },
  {
   "cell_type": "markdown",
   "metadata": {
    "ein.tags": "worksheet-0",
    "slideshow": {
     "slide_type": "-"
    }
   },
   "source": [
    "### Summary\n",
    "\n",
    "The purpose of this tutorial is to give a new user to bias detection\n",
    "and mitigation a gentle introduction to some of the functionality of\n",
    "AI Fairness 360.  A more complete use case would take the next step\n",
    "and see how the transformed dataset impacts the accuracy and fairness\n",
    "of a trained model.  This is implemented in the demo notebook in the\n",
    "examples directory of toolkit, called demo_reweighing_preproc.ipynb.\n",
    "I highly encourage readers to view that notebook as it is\n",
    "generalization and extension of this simple tutorial.\n",
    "\n",
    "There are many metrics one can use to detect the presence of bias. AI\n",
    "Fairness 360 provides many of them for your use. Since it is not clear\n",
    "which of these metrics to use, we also provide some\n",
    "guidance. Likewise, there are many different bias mitigation\n",
    "algorithms one can employ, many of which are in AI Fairness 360. Other\n",
    "tutorials will demonstrate the use of some of these metrics and\n",
    "mitigations algorithms.\n",
    "\n",
    "As mentioned earlier, both fairness metrics and mitigation algorithms\n",
    "can be performed at various stages of the machine learning pipeline.\n",
    "We recommend checking for bias as often as possible, using as many\n",
    "metrics are relevant for the application domain.  We also recommend\n",
    "incorporating bias detection in an automated continouus integration\n",
    "pipeline to ensure bias awareness as a software project evolves."
   ]
  }
 ],
 "metadata": {
  "kernelspec": {
   "argv": [
    "/Users/marcohassan/Desktop/python_venv/TreeSchutz/bin/python3",
    "-m",
    "ipykernel_launcher",
    "-f",
    "{connection_file}"
   ],
   "display_name": "TreeSchutz",
   "env": null,
   "interrupt_mode": "signal",
   "language": "python",
   "metadata": null,
   "name": "treeschutz"
  },
  "language_info": {
   "codemirror_mode": {
    "name": "ipython",
    "version": 3
   },
   "file_extension": ".py",
   "mimetype": "text/x-python",
   "name": "python",
   "nbconvert_exporter": "python",
   "pygments_lexer": "ipython3",
   "version": "3.7.3"
  },
  "name": "AIF360-tutorial.ipynb"
 },
 "nbformat": 4,
 "nbformat_minor": 2
}
